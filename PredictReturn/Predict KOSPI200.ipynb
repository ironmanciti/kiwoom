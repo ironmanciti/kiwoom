{
 "cells": [
  {
   "cell_type": "markdown",
   "metadata": {},
   "source": [
    "# Predicting KOSPI200"
   ]
  },
  {
   "cell_type": "code",
   "execution_count": 1,
   "metadata": {
    "scrolled": true
   },
   "outputs": [
    {
     "name": "stderr",
     "output_type": "stream",
     "text": [
      "C:\\Users\\trimu\\Miniconda3\\envs\\py36_64\\lib\\site-packages\\pymysql\\cursors.py:165: Warning: (1366, \"Incorrect string value: '\\\\xB4\\\\xEB\\\\xC7\\\\xD1\\\\xB9\\\\xCE...' for column 'VARIABLE_VALUE' at row 481\")\n",
      "  result = self._query(query)\n"
     ]
    }
   ],
   "source": [
    "from datetime import datetime\n",
    "import numpy as np\n",
    "import pandas\n",
    "import pandas as pd\n",
    "from pandas import Series\n",
    "import sys\n",
    "sys.path.append('../lib/')\n",
    "from dbConnect import *"
   ]
  },
  {
   "cell_type": "code",
   "execution_count": 2,
   "metadata": {
    "collapsed": true
   },
   "outputs": [],
   "source": [
    "end_date = '2016-12-31'\n",
    "lags = 10\n",
    "start_test = '2014-01-01'"
   ]
  },
  {
   "cell_type": "code",
   "execution_count": 3,
   "metadata": {
    "collapsed": true,
    "scrolled": false
   },
   "outputs": [],
   "source": [
    "code = \"201\"\n",
    "df = pd.read_sql(\"SELECT * from marketcandle where code ='\" + code + \"' and date < '2016-12-31'\" , con=engine)\n",
    "df.loc[:,'date'] = pd.to_datetime(df.loc[:,'date'])\n",
    "df.set_index('date', inplace=True)"
   ]
  },
  {
   "cell_type": "code",
   "execution_count": 4,
   "metadata": {
    "collapsed": true
   },
   "outputs": [],
   "source": [
    "df[\"returns\"] = df[\"close\"].pct_change()"
   ]
  },
  {
   "cell_type": "code",
   "execution_count": 5,
   "metadata": {},
   "outputs": [
    {
     "data": {
      "text/html": [
       "<div>\n",
       "<style scoped>\n",
       "    .dataframe tbody tr th:only-of-type {\n",
       "        vertical-align: middle;\n",
       "    }\n",
       "\n",
       "    .dataframe tbody tr th {\n",
       "        vertical-align: top;\n",
       "    }\n",
       "\n",
       "    .dataframe thead th {\n",
       "        text-align: right;\n",
       "    }\n",
       "</style>\n",
       "<table border=\"1\" class=\"dataframe\">\n",
       "  <thead>\n",
       "    <tr style=\"text-align: right;\">\n",
       "      <th></th>\n",
       "      <th>code</th>\n",
       "      <th>open</th>\n",
       "      <th>high</th>\n",
       "      <th>low</th>\n",
       "      <th>close</th>\n",
       "      <th>volume</th>\n",
       "      <th>returns</th>\n",
       "    </tr>\n",
       "    <tr>\n",
       "      <th>date</th>\n",
       "      <th></th>\n",
       "      <th></th>\n",
       "      <th></th>\n",
       "      <th></th>\n",
       "      <th></th>\n",
       "      <th></th>\n",
       "      <th></th>\n",
       "    </tr>\n",
       "  </thead>\n",
       "  <tbody>\n",
       "    <tr>\n",
       "      <th>1998-07-27</th>\n",
       "      <td>201</td>\n",
       "      <td>37.84</td>\n",
       "      <td>38.33</td>\n",
       "      <td>37.15</td>\n",
       "      <td>37.93</td>\n",
       "      <td>54566</td>\n",
       "      <td>NaN</td>\n",
       "    </tr>\n",
       "    <tr>\n",
       "      <th>1998-07-28</th>\n",
       "      <td>201</td>\n",
       "      <td>37.96</td>\n",
       "      <td>38.70</td>\n",
       "      <td>37.96</td>\n",
       "      <td>38.70</td>\n",
       "      <td>42053</td>\n",
       "      <td>0.020301</td>\n",
       "    </tr>\n",
       "    <tr>\n",
       "      <th>1998-07-29</th>\n",
       "      <td>201</td>\n",
       "      <td>38.91</td>\n",
       "      <td>41.13</td>\n",
       "      <td>38.91</td>\n",
       "      <td>39.82</td>\n",
       "      <td>72961</td>\n",
       "      <td>0.028941</td>\n",
       "    </tr>\n",
       "    <tr>\n",
       "      <th>1998-07-30</th>\n",
       "      <td>201</td>\n",
       "      <td>39.78</td>\n",
       "      <td>40.12</td>\n",
       "      <td>39.12</td>\n",
       "      <td>39.89</td>\n",
       "      <td>66668</td>\n",
       "      <td>0.001758</td>\n",
       "    </tr>\n",
       "    <tr>\n",
       "      <th>1998-07-31</th>\n",
       "      <td>201</td>\n",
       "      <td>40.03</td>\n",
       "      <td>40.40</td>\n",
       "      <td>39.14</td>\n",
       "      <td>39.51</td>\n",
       "      <td>87472</td>\n",
       "      <td>-0.009526</td>\n",
       "    </tr>\n",
       "  </tbody>\n",
       "</table>\n",
       "</div>"
      ],
      "text/plain": [
       "           code   open   high    low  close  volume   returns\n",
       "date                                                         \n",
       "1998-07-27  201  37.84  38.33  37.15  37.93   54566       NaN\n",
       "1998-07-28  201  37.96  38.70  37.96  38.70   42053  0.020301\n",
       "1998-07-29  201  38.91  41.13  38.91  39.82   72961  0.028941\n",
       "1998-07-30  201  39.78  40.12  39.12  39.89   66668  0.001758\n",
       "1998-07-31  201  40.03  40.40  39.14  39.51   87472 -0.009526"
      ]
     },
     "execution_count": 5,
     "metadata": {},
     "output_type": "execute_result"
    }
   ],
   "source": [
    "df.head()"
   ]
  },
  {
   "cell_type": "code",
   "execution_count": 6,
   "metadata": {
    "collapsed": true
   },
   "outputs": [],
   "source": [
    "df['returns'] = df[\"returns\"].shift(-1)"
   ]
  },
  {
   "cell_type": "code",
   "execution_count": 7,
   "metadata": {},
   "outputs": [
    {
     "data": {
      "text/html": [
       "<div>\n",
       "<style scoped>\n",
       "    .dataframe tbody tr th:only-of-type {\n",
       "        vertical-align: middle;\n",
       "    }\n",
       "\n",
       "    .dataframe tbody tr th {\n",
       "        vertical-align: top;\n",
       "    }\n",
       "\n",
       "    .dataframe thead th {\n",
       "        text-align: right;\n",
       "    }\n",
       "</style>\n",
       "<table border=\"1\" class=\"dataframe\">\n",
       "  <thead>\n",
       "    <tr style=\"text-align: right;\">\n",
       "      <th></th>\n",
       "      <th>code</th>\n",
       "      <th>open</th>\n",
       "      <th>high</th>\n",
       "      <th>low</th>\n",
       "      <th>close</th>\n",
       "      <th>volume</th>\n",
       "      <th>returns</th>\n",
       "    </tr>\n",
       "    <tr>\n",
       "      <th>date</th>\n",
       "      <th></th>\n",
       "      <th></th>\n",
       "      <th></th>\n",
       "      <th></th>\n",
       "      <th></th>\n",
       "      <th></th>\n",
       "      <th></th>\n",
       "    </tr>\n",
       "  </thead>\n",
       "  <tbody>\n",
       "    <tr>\n",
       "      <th>1998-07-27</th>\n",
       "      <td>201</td>\n",
       "      <td>37.84</td>\n",
       "      <td>38.33</td>\n",
       "      <td>37.15</td>\n",
       "      <td>37.93</td>\n",
       "      <td>54566</td>\n",
       "      <td>0.020301</td>\n",
       "    </tr>\n",
       "    <tr>\n",
       "      <th>1998-07-28</th>\n",
       "      <td>201</td>\n",
       "      <td>37.96</td>\n",
       "      <td>38.70</td>\n",
       "      <td>37.96</td>\n",
       "      <td>38.70</td>\n",
       "      <td>42053</td>\n",
       "      <td>0.028941</td>\n",
       "    </tr>\n",
       "    <tr>\n",
       "      <th>1998-07-29</th>\n",
       "      <td>201</td>\n",
       "      <td>38.91</td>\n",
       "      <td>41.13</td>\n",
       "      <td>38.91</td>\n",
       "      <td>39.82</td>\n",
       "      <td>72961</td>\n",
       "      <td>0.001758</td>\n",
       "    </tr>\n",
       "    <tr>\n",
       "      <th>1998-07-30</th>\n",
       "      <td>201</td>\n",
       "      <td>39.78</td>\n",
       "      <td>40.12</td>\n",
       "      <td>39.12</td>\n",
       "      <td>39.89</td>\n",
       "      <td>66668</td>\n",
       "      <td>-0.009526</td>\n",
       "    </tr>\n",
       "    <tr>\n",
       "      <th>1998-07-31</th>\n",
       "      <td>201</td>\n",
       "      <td>40.03</td>\n",
       "      <td>40.40</td>\n",
       "      <td>39.14</td>\n",
       "      <td>39.51</td>\n",
       "      <td>87472</td>\n",
       "      <td>-0.019489</td>\n",
       "    </tr>\n",
       "  </tbody>\n",
       "</table>\n",
       "</div>"
      ],
      "text/plain": [
       "           code   open   high    low  close  volume   returns\n",
       "date                                                         \n",
       "1998-07-27  201  37.84  38.33  37.15  37.93   54566  0.020301\n",
       "1998-07-28  201  37.96  38.70  37.96  38.70   42053  0.028941\n",
       "1998-07-29  201  38.91  41.13  38.91  39.82   72961  0.001758\n",
       "1998-07-30  201  39.78  40.12  39.12  39.89   66668 -0.009526\n",
       "1998-07-31  201  40.03  40.40  39.14  39.51   87472 -0.019489"
      ]
     },
     "execution_count": 7,
     "metadata": {},
     "output_type": "execute_result"
    }
   ],
   "source": [
    "df.head()"
   ]
  },
  {
   "cell_type": "markdown",
   "metadata": {},
   "source": [
    "Stochastic %K : $$\\%K = \\frac{C - L_{14}}{H_{14} - L_{14}} * 100 $$\n",
    "C : 가장 최근 종가, L14: 이전 14 거래일 중 최저가, H14: 이전 14 거래일 중 최고가"
   ]
  },
  {
   "cell_type": "code",
   "execution_count": 8,
   "metadata": {
    "collapsed": true
   },
   "outputs": [],
   "source": [
    "tmpdf = df.copy(deep=True)"
   ]
  },
  {
   "cell_type": "code",
   "execution_count": 9,
   "metadata": {
    "collapsed": true
   },
   "outputs": [],
   "source": [
    "tmpdf['H14'] = Series.rolling(tmpdf['high'], window=14).max()\n",
    "tmpdf['L14'] = Series.rolling(tmpdf['low'], window=14).min()\n",
    "df['%K'] = (tmpdf['close'] - tmpdf['L14']) / (tmpdf['H14'] - tmpdf['L14']) * 100\n",
    "df['%D'] = Series.rolling(df['%K'], window=3).mean()\n",
    "df['slow%D'] = Series.rolling(df['%D'], window=3).mean()"
   ]
  },
  {
   "cell_type": "markdown",
   "metadata": {},
   "source": [
    "Accumulation Distribution Oscillator (ADO) $$ADO = \\frac{H_t - C_{t-1}}{H_t - L_t}$$ where C : t-1 의 close, $\\quad L_t: low, \\quad \n",
    "H_t: high$"
   ]
  },
  {
   "cell_type": "code",
   "execution_count": 10,
   "metadata": {
    "collapsed": true
   },
   "outputs": [],
   "source": [
    "tmpdf = df.copy(deep=True)"
   ]
  },
  {
   "cell_type": "code",
   "execution_count": 11,
   "metadata": {
    "collapsed": true
   },
   "outputs": [],
   "source": [
    "tmpdf['Ct-1'] = tmpdf['close'].shift(1) "
   ]
  },
  {
   "cell_type": "code",
   "execution_count": 12,
   "metadata": {
    "collapsed": true
   },
   "outputs": [],
   "source": [
    "df['ADO'] = (tmpdf['high'] - tmpdf['Ct-1']) / (tmpdf['high'] - tmpdf['low'])"
   ]
  },
  {
   "cell_type": "markdown",
   "metadata": {},
   "source": [
    "CCI(Commodity Channel Index) $$CCI = \\frac{M_t - SM_t}{0.015D_t}$$ where $M_t = \\frac {(H_t + L_t + C_t)}{3},\\quad$ SM_t (n day moving average) $\\quad \\frac{\\sum_{i=1}^{n}M_{t-i+1}}{n}, \\quad D_t$(normal deviation) : $\\frac{\\sum_{i=1}^{n}\\mid M_{t-i+1}-SM_t \\mid}{n}$\n",
    "\n",
    "+100: 상승돌파 - 단기매도,  하향돌파 - 단기매수\n",
    "\n",
    "-100: 하향돌파 - 단기매도, 상향돌파 - 단기매수"
   ]
  },
  {
   "cell_type": "code",
   "execution_count": 13,
   "metadata": {
    "collapsed": true
   },
   "outputs": [],
   "source": [
    "tmpdf = df.copy(deep=True)"
   ]
  },
  {
   "cell_type": "code",
   "execution_count": 14,
   "metadata": {
    "collapsed": true
   },
   "outputs": [],
   "source": [
    "tmpdf['M'] = (tmpdf['high'] + tmpdf['low'] + tmpdf['close']) / 3\n",
    "tmpdf['SM'] = tmpdf['M'].rolling(window=20).mean()\n",
    "tmpdf['D'] =  (tmpdf['M'] - tmpdf['SM']).abs().rolling(window=20).mean()\n",
    "df['CCI'] = (tmpdf['M'] - tmpdf['SM']) / (0.015 * tmpdf['D'])"
   ]
  },
  {
   "cell_type": "markdown",
   "metadata": {},
   "source": [
    "Larry William's R% : $$\\%R = 100 * \\frac{H_r - C}{H_r - L_r}$$\n",
    "r: 선정된 기간, C: 최근 종가, Hr: 선정된 기간의 고점, Lr: 선정된 기간의 저점\n",
    "\n",
    "선정된 기간의 주가 범위와 현재의 종가를 측정하여 0 ~ 100% 사이에서 결정. 설정기간 7 일(주간차트)이 효과적. 매수과 매도 세력간의 종가관리 능력 측정\n",
    "\n",
    "%R = (Highest High - Close)/(Highest High - Lowest Low) * -100\n",
    "\n",
    "Lowest Low = lowest low for the look-back period\n",
    "\n",
    "Highest High = highest high for the look-back period\n",
    "\n",
    "%R is multiplied by -100 correct the inversion and move the decimal.\n"
   ]
  },
  {
   "cell_type": "code",
   "execution_count": 15,
   "metadata": {
    "collapsed": true
   },
   "outputs": [],
   "source": [
    "tmpdf = df.copy(deep=True)\n",
    "tmpdf['Hr'] = Series.rolling(tmpdf['high'], window=7).max()\n",
    "tmpdf['Lr'] =  Series.rolling(tmpdf['low'], window=7).min()\n",
    "df['%R'] = 100 * (tmpdf['Hr'] - tmpdf['close']) / (tmpdf['Hr'] - tmpdf['Lr'])"
   ]
  },
  {
   "cell_type": "code",
   "execution_count": 16,
   "metadata": {
    "collapsed": true
   },
   "outputs": [],
   "source": [
    "tmpdf = df[['close']].copy(deep=True)"
   ]
  },
  {
   "cell_type": "code",
   "execution_count": 17,
   "metadata": {
    "collapsed": true
   },
   "outputs": [],
   "source": [
    "tmpdf['ewma12'] = Series.ewm(tmpdf['close'], span=12).mean()\n",
    "tmpdf['ewma26'] = Series.ewm(tmpdf['close'], span=25).mean()\n",
    "df['MACD'] = tmpdf['ewma12'] - tmpdf['ewma26']"
   ]
  },
  {
   "cell_type": "markdown",
   "metadata": {},
   "source": [
    "Momentum = $$C_t - C_{t - n} $$"
   ]
  },
  {
   "cell_type": "code",
   "execution_count": 18,
   "metadata": {
    "collapsed": true
   },
   "outputs": [],
   "source": [
    "tslag = df[['close']].copy(deep=True)\n",
    "for i in range(0, lags):\n",
    "    tslag[\"Lag_\" + str(i+1)] = tslag[\"close\"].shift(i+1)"
   ]
  },
  {
   "cell_type": "code",
   "execution_count": 19,
   "metadata": {
    "collapsed": true
   },
   "outputs": [],
   "source": [
    "df['momentum'] = tslag['close'] - tslag['Lag_10']"
   ]
  },
  {
   "cell_type": "markdown",
   "metadata": {},
   "source": [
    "ROC : Price Rate Of Change (일정시점의 가격 변화율을 백분율로 나타낸 것) $$ ROC = \\frac{C_t}{C_{t-n}} * 100 $$"
   ]
  },
  {
   "cell_type": "code",
   "execution_count": 20,
   "metadata": {
    "collapsed": true
   },
   "outputs": [],
   "source": [
    "df['ROC'] = tslag['close'] / tslag['Lag_10'] * 100"
   ]
  },
  {
   "cell_type": "markdown",
   "metadata": {},
   "source": [
    "RSI (Relative Strength Index) $$ RSI = 100 - (\\frac{100}{1 + RS})$$ RS = $\\frac{Average Gain}{Average Loss}$"
   ]
  },
  {
   "cell_type": "code",
   "execution_count": 21,
   "metadata": {
    "collapsed": true,
    "scrolled": false
   },
   "outputs": [],
   "source": [
    "tmpdf = df[['close']].copy()\n",
    "\n",
    "delta = tmpdf['close'].diff()\n",
    "delta = delta[1:]\n",
    "\n",
    "up, down = delta.copy(), delta.copy()\n",
    "up[up < 0] = 0\n",
    "down[down > 0] = 0.0001\n",
    "\n",
    "roll_up = up.ewm(span=14).mean()\n",
    "roll_down = down.abs().ewm(span=14).mean()\n",
    "\n",
    "RS = roll_up / roll_down\n",
    "RSI = 100.0 - (100.0 / (1.0 + RS))\n",
    "df['RSI'] = RSI"
   ]
  },
  {
   "cell_type": "code",
   "execution_count": 22,
   "metadata": {
    "collapsed": true
   },
   "outputs": [],
   "source": [
    "df['SMA10'] = Series.rolling(df['close'], window=10).mean()"
   ]
  },
  {
   "cell_type": "code",
   "execution_count": 23,
   "metadata": {
    "collapsed": true
   },
   "outputs": [],
   "source": [
    "df['WMA10'] = Series.ewm(df['close'], span=10).mean()"
   ]
  },
  {
   "cell_type": "code",
   "execution_count": 24,
   "metadata": {
    "collapsed": true
   },
   "outputs": [],
   "source": [
    "from sklearn.linear_model import LogisticRegression\n",
    "from sklearn.discriminant_analysis import LinearDiscriminantAnalysis as LDA\n",
    "from sklearn.discriminant_analysis import LinearDiscriminantAnalysis as QDA"
   ]
  },
  {
   "cell_type": "code",
   "execution_count": 27,
   "metadata": {
    "collapsed": true,
    "scrolled": false
   },
   "outputs": [],
   "source": [
    "df.dropna(inplace=True)\n",
    "df[\"Direction\"] = np.sign(df[\"returns\"])"
   ]
  },
  {
   "cell_type": "code",
   "execution_count": 29,
   "metadata": {
    "collapsed": true
   },
   "outputs": [],
   "source": [
    "X = df.drop(columns=['returns', 'Direction'])\n",
    "y = df[\"Direction\"]"
   ]
  },
  {
   "cell_type": "code",
   "execution_count": 31,
   "metadata": {
    "collapsed": true
   },
   "outputs": [],
   "source": [
    "# Create training and test sets\n",
    "X_train = X[X.index < start_test]\n",
    "X_test = X[X.index >= start_test]\n",
    "y_train = y[y.index < start_test]\n",
    "y_test = y[y.index >= start_test]"
   ]
  },
  {
   "cell_type": "code",
   "execution_count": 32,
   "metadata": {
    "collapsed": true
   },
   "outputs": [],
   "source": [
    "# Create prediction DataFrame\n",
    "pred = pd.DataFrame(index=y_test.index)"
   ]
  },
  {
   "cell_type": "code",
   "execution_count": 33,
   "metadata": {},
   "outputs": [
    {
     "name": "stdout",
     "output_type": "stream",
     "text": [
      "Logistic Regresstion 0.512\n"
     ]
    }
   ],
   "source": [
    "lr = LogisticRegression()\n",
    "lr.fit(X_train, y_train)\n",
    "y_pred = lr.predict(X_test)\n",
    "pred = (1.0 + y_pred * y_test)/2.0\n",
    "hit_rate = np.mean(pred)\n",
    "print('Logistic Regresstion {:.3f}'.format(hit_rate))"
   ]
  },
  {
   "cell_type": "code",
   "execution_count": 34,
   "metadata": {},
   "outputs": [
    {
     "name": "stdout",
     "output_type": "stream",
     "text": [
      "LDA 0.518\n"
     ]
    },
    {
     "name": "stderr",
     "output_type": "stream",
     "text": [
      "C:\\Users\\trimu\\Miniconda3\\envs\\py36_64\\lib\\site-packages\\sklearn\\discriminant_analysis.py:388: UserWarning: Variables are collinear.\n",
      "  warnings.warn(\"Variables are collinear.\")\n"
     ]
    }
   ],
   "source": [
    "lda = LDA()\n",
    "lda.fit(X_train, y_train)\n",
    "y_pred = lda.predict(X_test)\n",
    "pred = (1.0 + y_pred * y_test)/2.0\n",
    "hit_rate = np.mean(pred)\n",
    "print('LDA {:.3f}'.format(hit_rate))"
   ]
  },
  {
   "cell_type": "code",
   "execution_count": 35,
   "metadata": {},
   "outputs": [
    {
     "name": "stdout",
     "output_type": "stream",
     "text": [
      "QDA 0.518\n"
     ]
    },
    {
     "name": "stderr",
     "output_type": "stream",
     "text": [
      "C:\\Users\\trimu\\Miniconda3\\envs\\py36_64\\lib\\site-packages\\sklearn\\discriminant_analysis.py:388: UserWarning: Variables are collinear.\n",
      "  warnings.warn(\"Variables are collinear.\")\n"
     ]
    }
   ],
   "source": [
    "models = QDA()\n",
    "models.fit(X_train, y_train)\n",
    "y_pred = models.predict(X_test)\n",
    "pred = (1.0 + y_pred * y_test)/2.0\n",
    "hit_rate = np.mean(pred)\n",
    "print('QDA {:.3f}'.format(hit_rate))"
   ]
  },
  {
   "cell_type": "markdown",
   "metadata": {
    "collapsed": true
   },
   "source": [
    "***"
   ]
  },
  {
   "cell_type": "code",
   "execution_count": null,
   "metadata": {
    "collapsed": true
   },
   "outputs": [],
   "source": []
  }
 ],
 "metadata": {
  "kernelspec": {
   "display_name": "Python 3",
   "language": "python",
   "name": "python3"
  },
  "language_info": {
   "codemirror_mode": {
    "name": "ipython",
    "version": 3
   },
   "file_extension": ".py",
   "mimetype": "text/x-python",
   "name": "python",
   "nbconvert_exporter": "python",
   "pygments_lexer": "ipython3",
   "version": "3.4.5"
  }
 },
 "nbformat": 4,
 "nbformat_minor": 2
}
