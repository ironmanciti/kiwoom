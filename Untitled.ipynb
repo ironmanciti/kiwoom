{
 "cells": [
  {
   "cell_type": "code",
   "execution_count": 41,
   "metadata": {},
   "outputs": [],
   "source": [
    "from bs4 import BeautifulSoup\n",
    "import requests\n",
    "import re"
   ]
  },
  {
   "cell_type": "code",
   "execution_count": 42,
   "metadata": {
    "collapsed": true
   },
   "outputs": [],
   "source": [
    "BaseUrl = \"http://finance.naver.com/sise/entryJongmok.nhn?&page=\""
   ]
  },
  {
   "cell_type": "code",
   "execution_count": 43,
   "metadata": {
    "collapsed": true
   },
   "outputs": [],
   "source": [
    "url = BaseUrl + str(1)"
   ]
  },
  {
   "cell_type": "code",
   "execution_count": 44,
   "metadata": {},
   "outputs": [],
   "source": [
    "r = requests.get(url)"
   ]
  },
  {
   "cell_type": "code",
   "execution_count": 45,
   "metadata": {},
   "outputs": [],
   "source": [
    "soup = BeautifulSoup(r.text,\"html.parser\")\n",
    "\n",
    "items = soup.find_all('td', attrs={'class': 'ctg'})"
   ]
  },
  {
   "cell_type": "code",
   "execution_count": 57,
   "metadata": {},
   "outputs": [],
   "source": [
    "data = []\n",
    "for i in range(1,22):\n",
    "    for item in items:\n",
    "        txt = item.a.get('href')\n",
    "        k = re.search('[\\d]+', txt)\n",
    "        if k:\n",
    "            code = k.group()\n",
    "            name = item.text\n",
    "            data.append((code, name))"
   ]
  },
  {
   "cell_type": "code",
   "execution_count": 59,
   "metadata": {},
   "outputs": [
    {
     "data": {
      "text/plain": [
       "210"
      ]
     },
     "execution_count": 59,
     "metadata": {},
     "output_type": "execute_result"
    }
   ],
   "source": [
    "len(data)"
   ]
  },
  {
   "cell_type": "code",
   "execution_count": 51,
   "metadata": {},
   "outputs": [
    {
     "data": {
      "text/plain": [
       "[<td class=\"ctg\"><a href=\"/item/main.nhn?code=005930\" target=\"_parent\">삼성전자</a></td>,\n",
       " <td class=\"ctg\"><a href=\"/item/main.nhn?code=000660\" target=\"_parent\">SK하이닉스</a></td>,\n",
       " <td class=\"ctg\"><a href=\"/item/main.nhn?code=068270\" target=\"_parent\">셀트리온</a></td>,\n",
       " <td class=\"ctg\"><a href=\"/item/main.nhn?code=005380\" target=\"_parent\">현대차</a></td>,\n",
       " <td class=\"ctg\"><a href=\"/item/main.nhn?code=005490\" target=\"_parent\">POSCO</a></td>,\n",
       " <td class=\"ctg\"><a href=\"/item/main.nhn?code=207940\" target=\"_parent\">삼성바이오로직스</a></td>,\n",
       " <td class=\"ctg\"><a href=\"/item/main.nhn?code=051910\" target=\"_parent\">LG화학</a></td>,\n",
       " <td class=\"ctg\"><a href=\"/item/main.nhn?code=035420\" target=\"_parent\">NAVER</a></td>,\n",
       " <td class=\"ctg\"><a href=\"/item/main.nhn?code=105560\" target=\"_parent\">KB금융</a></td>,\n",
       " <td class=\"ctg\"><a href=\"/item/main.nhn?code=028260\" target=\"_parent\">삼성물산</a></td>]"
      ]
     },
     "execution_count": 51,
     "metadata": {},
     "output_type": "execute_result"
    }
   ],
   "source": [
    "items"
   ]
  },
  {
   "cell_type": "code",
   "execution_count": 61,
   "metadata": {},
   "outputs": [
    {
     "name": "stdout",
     "output_type": "stream",
     "text": [
      "1\n",
      "2\n",
      "3\n",
      "4\n",
      "5\n",
      "6\n",
      "7\n",
      "8\n",
      "9\n",
      "10\n",
      "11\n",
      "12\n",
      "13\n",
      "14\n",
      "15\n",
      "16\n",
      "17\n",
      "18\n",
      "19\n",
      "20\n",
      "21\n"
     ]
    }
   ],
   "source": [
    "for i in range(1,22,1):\n",
    "    print(i)"
   ]
  },
  {
   "cell_type": "code",
   "execution_count": 65,
   "metadata": {
    "collapsed": true
   },
   "outputs": [],
   "source": [
    "BaseUrl = \"http://finance.naver.com/sise/entryJongmok.nhn?&page=\"\n",
    "\n",
    "data = []\n",
    "for i in range(1,22):\n",
    "    url = BaseUrl + str(i)\n",
    "    r = requests.get(url)\n",
    "    soup = BeautifulSoup(r.text,\"html.parser\")\n",
    "    items = soup.find_all('td', attrs={'class': 'ctg'})\n",
    "    \n",
    "    for item in items:\n",
    "        txt = item.a.get('href')\n",
    "        k = re.search('[\\d]+', txt)\n",
    "        if k:\n",
    "            code = k.group()\n",
    "            name = item.text\n",
    "            data.append((code, name))\n"
   ]
  },
  {
   "cell_type": "code",
   "execution_count": 66,
   "metadata": {},
   "outputs": [
    {
     "data": {
      "text/plain": [
       "201"
      ]
     },
     "execution_count": 66,
     "metadata": {},
     "output_type": "execute_result"
    }
   ],
   "source": [
    "len(data)"
   ]
  },
  {
   "cell_type": "code",
   "execution_count": 69,
   "metadata": {
    "collapsed": true
   },
   "outputs": [],
   "source": [
    "BaseUrl = \"http://finance.naver.com/sise/entryJongmok.nhn?&page=\"\n",
    "\n",
    "data = []\n",
    "for i in range(1,22):\n",
    "    try:\n",
    "        url = BaseUrl + str(i)\n",
    "        r = requests.get(url)\n",
    "        soup = BeautifulSoup(r.text,\"html.parser\")\n",
    "        items = soup.find_all('td', attrs={'class': 'ctg'})\n",
    "\n",
    "        for item in items:\n",
    "            txt = item.a.get('href')\n",
    "            k = re.search('[\\d]+', txt)\n",
    "            if k:\n",
    "                code = k.group()\n",
    "                name = item.text\n",
    "                data.append((code, name))\n",
    "    except:\n",
    "        print(\"failed to get KOSPI200 stock codes from NAVER\")"
   ]
  },
  {
   "cell_type": "code",
   "execution_count": 70,
   "metadata": {},
   "outputs": [
    {
     "data": {
      "text/plain": [
       "[('005930', '삼성전자'),\n",
       " ('000660', 'SK하이닉스'),\n",
       " ('068270', '셀트리온'),\n",
       " ('005380', '현대차'),\n",
       " ('005490', 'POSCO'),\n",
       " ('207940', '삼성바이오로직스'),\n",
       " ('051910', 'LG화학'),\n",
       " ('035420', 'NAVER'),\n",
       " ('105560', 'KB금융'),\n",
       " ('028260', '삼성물산'),\n",
       " ('032830', '삼성생명'),\n",
       " ('012330', '현대모비스'),\n",
       " ('034730', 'SK'),\n",
       " ('055550', '신한지주'),\n",
       " ('015760', '한국전력'),\n",
       " ('018260', '삼성에스디에스'),\n",
       " ('096770', 'SK이노베이션'),\n",
       " ('017670', 'SK텔레콤'),\n",
       " ('066570', 'LG전자'),\n",
       " ('051900', 'LG생활건강'),\n",
       " ('090430', '아모레퍼시픽'),\n",
       " ('011170', '롯데케미칼'),\n",
       " ('003550', 'LG'),\n",
       " ('006400', '삼성SDI'),\n",
       " ('010950', 'S-Oil'),\n",
       " ('086790', '하나금융지주'),\n",
       " ('033780', 'KT&G;'),\n",
       " ('000270', '기아차'),\n",
       " ('000810', '삼성화재'),\n",
       " ('251270', '넷마블게임즈'),\n",
       " ('002790', '아모레G'),\n",
       " ('000030', '우리은행'),\n",
       " ('035720', '카카오'),\n",
       " ('034220', 'LG디스플레이'),\n",
       " ('010130', '고려아연'),\n",
       " ('024110', '기업은행'),\n",
       " ('036570', '엔씨소프트'),\n",
       " ('009540', '현대중공업'),\n",
       " ('139480', '이마트'),\n",
       " ('009150', '삼성전기'),\n",
       " ('030200', 'KT'),\n",
       " ('267250', '현대로보틱스'),\n",
       " ('161390', '한국타이어'),\n",
       " ('004020', '현대제철'),\n",
       " ('021240', '코웨이'),\n",
       " ('018880', '한온시스템'),\n",
       " ('006800', '미래에셋대우'),\n",
       " ('035250', '강원랜드'),\n",
       " ('023530', '롯데쇼핑'),\n",
       " ('078930', 'GS'),\n",
       " ('008930', '한미사이언스'),\n",
       " ('128940', '한미약품'),\n",
       " ('088350', '한화생명'),\n",
       " ('086280', '현대글로비스'),\n",
       " ('032640', 'LG유플러스'),\n",
       " ('009830', '한화케미칼'),\n",
       " ('047810', '한국항공우주'),\n",
       " ('097950', 'CJ제일제당'),\n",
       " ('005830', 'DB손해보험'),\n",
       " ('001040', 'CJ'),\n",
       " ('071050', '한국금융지주'),\n",
       " ('004990', '롯데지주'),\n",
       " ('000720', '현대건설'),\n",
       " ('271560', '오리온'),\n",
       " ('036460', '한국가스공사'),\n",
       " ('004800', '효성'),\n",
       " ('029780', '삼성카드'),\n",
       " ('005940', 'NH투자증권'),\n",
       " ('002380', 'KCC'),\n",
       " ('016360', '삼성증권'),\n",
       " ('012750', '에스원'),\n",
       " ('009240', '한샘'),\n",
       " ('010060', 'OCI'),\n",
       " ('008770', '호텔신라'),\n",
       " ('138930', 'BNK금융지주'),\n",
       " ('001450', '현대해상'),\n",
       " ('028050', '삼성엔지니어링'),\n",
       " ('010140', '삼성중공업'),\n",
       " ('011070', 'LG이노텍'),\n",
       " ('004170', '신세계'),\n",
       " ('003490', '대한항공'),\n",
       " ('000880', '한화'),\n",
       " ('028670', '팬오션'),\n",
       " ('000120', 'CJ대한통운'),\n",
       " ('012630', '현대산업'),\n",
       " ('011780', '금호석유'),\n",
       " ('282330', 'BGF리테일'),\n",
       " ('026960', '동서'),\n",
       " ('008560', '메리츠종금증권'),\n",
       " ('007070', 'GS리테일'),\n",
       " ('000100', '유한양행'),\n",
       " ('000210', '대림산업'),\n",
       " ('007310', '오뚜기'),\n",
       " ('047050', '포스코대우'),\n",
       " ('006280', '녹십자'),\n",
       " ('006260', 'LS'),\n",
       " ('047040', '대우건설'),\n",
       " ('069620', '대웅제약'),\n",
       " ('069960', '현대백화점'),\n",
       " ('204320', '만도'),\n",
       " ('030000', '제일기획'),\n",
       " ('010620', '현대미포조선'),\n",
       " ('006360', 'GS건설'),\n",
       " ('000150', '두산'),\n",
       " ('003410', '쌍용양회'),\n",
       " ('005250', '녹십자홀딩스'),\n",
       " ('004000', '롯데정밀화학'),\n",
       " ('006650', '대한유화'),\n",
       " ('051600', '한전KPS'),\n",
       " ('042670', '두산인프라코어'),\n",
       " ('004370', '농심'),\n",
       " ('010120', 'LS산전'),\n",
       " ('017800', '현대엘리베이'),\n",
       " ('009420', '한올바이오파마'),\n",
       " ('000670', '영풍'),\n",
       " ('000240', '한국타이어월드와이드'),\n",
       " ('120110', '코오롱인더'),\n",
       " ('020150', '일진머티리얼즈'),\n",
       " ('001800', '오리온홀딩스'),\n",
       " ('161890', '한국콜마'),\n",
       " ('034020', '두산중공업'),\n",
       " ('003520', '영진약품'),\n",
       " ('012450', '한화테크윈'),\n",
       " ('011790', 'SKC'),\n",
       " ('114090', 'GKL'),\n",
       " ('000080', '하이트진로'),\n",
       " ('001740', 'SK네트웍스'),\n",
       " ('011210', '현대위아'),\n",
       " ('079160', 'CJ CGV'),\n",
       " ('005440', '현대그린푸드'),\n",
       " ('192820', '코스맥스'),\n",
       " ('003240', '태광산업'),\n",
       " ('064350', '현대로템'),\n",
       " ('285130', 'SK케미칼'),\n",
       " ('057050', '현대홈쇼핑'),\n",
       " ('185750', '종근당'),\n",
       " ('115390', '락앤락'),\n",
       " ('111770', '영원무역'),\n",
       " ('214320', '이노션'),\n",
       " ('005300', '롯데칠성'),\n",
       " ('002350', '넥센타이어'),\n",
       " ('014820', '동원시스템즈'),\n",
       " ('103140', '풍산'),\n",
       " ('005610', 'SPC삼립'),\n",
       " ('003000', '부광약품'),\n",
       " ('001120', 'LG상사'),\n",
       " ('069260', '휴켐스'),\n",
       " ('079550', 'LIG넥스원'),\n",
       " ('006840', 'AK홀딩스'),\n",
       " ('001430', '세아베스틸'),\n",
       " ('001230', '동국제강'),\n",
       " ('010780', '아이에스동서'),\n",
       " ('052690', '한전기술'),\n",
       " ('093370', '후성'),\n",
       " ('170900', '동아에스티'),\n",
       " ('003300', '한일시멘트'),\n",
       " ('000070', '삼양홀딩스'),\n",
       " ('105630', '한세실업'),\n",
       " ('145990', '삼양사'),\n",
       " ('001060', 'JW중외제약'),\n",
       " ('049770', '동원F&B;'),\n",
       " ('014680', '한솔케미칼'),\n",
       " ('093050', 'LF'),\n",
       " ('001680', '대상'),\n",
       " ('000640', '동아쏘시오홀딩스'),\n",
       " ('005850', '에스엘'),\n",
       " ('007570', '일양약품'),\n",
       " ('108670', 'LG하우시스'),\n",
       " ('073240', '금호타이어'),\n",
       " ('003620', '쌍용차'),\n",
       " ('020000', '한섬'),\n",
       " ('000990', 'DB하이텍'),\n",
       " ('002270', '롯데푸드'),\n",
       " ('019680', '대교'),\n",
       " ('029530', '신도리코'),\n",
       " ('005180', '빙그레'),\n",
       " ('064960', 'S&T;모티브'),\n",
       " ('025860', '남해화학'),\n",
       " ('025540', '한국단자'),\n",
       " ('002240', '고려제강'),\n",
       " ('060980', '한라홀딩스'),\n",
       " ('192400', '쿠쿠홀딩스'),\n",
       " ('003030', '세아제강'),\n",
       " ('096760', 'JW홀딩스'),\n",
       " ('079430', '현대리바트'),\n",
       " ('003920', '남양유업'),\n",
       " ('033920', '무학'),\n",
       " ('078520', '에이블씨엔씨'),\n",
       " ('009290', '광동제약'),\n",
       " ('004490', '세방전지'),\n",
       " ('003850', '보령제약'),\n",
       " ('006120', 'SK디스커버리'),\n",
       " ('001520', '동양'),\n",
       " ('034120', 'SBS'),\n",
       " ('027410', 'BGF'),\n",
       " ('002960', '한국쉘석유'),\n",
       " ('036580', '팜스코'),\n",
       " ('008060', '대덕전자'),\n",
       " ('014830', '유니드'),\n",
       " ('000050', '경방'),\n",
       " ('097230', '한진중공업')]"
      ]
     },
     "execution_count": 70,
     "metadata": {},
     "output_type": "execute_result"
    }
   ],
   "source": [
    "data"
   ]
  },
  {
   "cell_type": "code",
   "execution_count": null,
   "metadata": {
    "collapsed": true
   },
   "outputs": [],
   "source": []
  }
 ],
 "metadata": {
  "kernelspec": {
   "display_name": "Python 3",
   "language": "python",
   "name": "python3"
  },
  "language_info": {
   "codemirror_mode": {
    "name": "ipython",
    "version": 3
   },
   "file_extension": ".py",
   "mimetype": "text/x-python",
   "name": "python",
   "nbconvert_exporter": "python",
   "pygments_lexer": "ipython3",
   "version": "3.4.5"
  }
 },
 "nbformat": 4,
 "nbformat_minor": 2
}
