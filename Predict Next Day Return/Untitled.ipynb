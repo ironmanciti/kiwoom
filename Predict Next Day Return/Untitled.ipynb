{
 "cells": [
  {
   "cell_type": "code",
   "execution_count": 1,
   "metadata": {},
   "outputs": [],
   "source": [
    "import http.client\n",
    "from urllib.parse import quote\n",
    "import pandas as pd"
   ]
  },
  {
   "cell_type": "code",
   "execution_count": 2,
   "metadata": {},
   "outputs": [],
   "source": [
    "class AssetMacro(object):\n",
    "\n",
    "    user_name = None\n",
    "    password = None\n",
    "    conn = None\n",
    "    headers = None\n",
    "    payload = None\n",
    "\n",
    "    def __init__(self, user_name, password):\n",
    "        self.auth(user_name, password)\n",
    "        self.conn = http.client.HTTPConnection(\"api.assetmacro.com\")\n",
    "\n",
    "    def auth(self, user_name, password):\n",
    "        self.user_name = user_name\n",
    "        self.password = password\n",
    "        self.headers = {'Authorization': '{};{}'.format(self.user_name, self.password)}\n",
    "\n",
    "    def get_vars(self):\n",
    "        self.conn.request(method=\"GET\", url=\"/vars\", headers=self.headers)\n",
    "        response = self.conn.getresponse()\n",
    "        data = response.read()\n",
    "        str_data = data.decode(\"utf-8\") \n",
    "        return str_data.split(',')\n",
    "\n",
    "    def load_data(self, var_name, start_date=None, end_date=None):\n",
    "        v = self.get_vars()\n",
    "        if var_name not in v:\n",
    "            raise ValueError('Variable name not found, check the get_vars() result.')\n",
    "        params = 'name={}'.format(quote(var_name))\n",
    "        if start_date:\n",
    "            params += '&start_date={}'.format(start_date)\n",
    "        if end_date:\n",
    "            params += '&end_date={}'.format(end_date)\n",
    "        url = \"/query?\" + params\n",
    "        self.conn.request(method=\"GET\", url=url, headers=self.headers)\n",
    "        response = self.conn.getresponse()\n",
    "        if response.status == 200:\n",
    "            data = response.read()\n",
    "            str_data = data.decode(\"utf-8\") \n",
    "            data_rows = str_data.split('\\r\\n')\n",
    "            if len(data_rows) <= 1:\n",
    "                return data_rows\n",
    "            data_arr = []\n",
    "            for d in data_rows:\n",
    "                data_arr.append(d.split(','))\n",
    "            d = data_arr[:-1] # skip the last empty row\n",
    "            return pd.DataFrame(d[1:], columns=d[0])\n",
    "        else:\n",
    "            raise ValueError('Server error {} {}'.format(response.status, response.reason))\n",
    "            return None\n"
   ]
  },
  {
   "cell_type": "code",
   "execution_count": 3,
   "metadata": {},
   "outputs": [
    {
     "ename": "ValueError",
     "evalue": "Variable name not found, check the get_vars() result.",
     "output_type": "error",
     "traceback": [
      "\u001b[1;31m---------------------------------------------------------------------------\u001b[0m",
      "\u001b[1;31mValueError\u001b[0m                                Traceback (most recent call last)",
      "\u001b[1;32m<ipython-input-3-cc0c2ad2b4ce>\u001b[0m in \u001b[0;36m<module>\u001b[1;34m()\u001b[0m\n\u001b[0;32m      1\u001b[0m \u001b[0mam\u001b[0m \u001b[1;33m=\u001b[0m \u001b[0mAssetMacro\u001b[0m\u001b[1;33m(\u001b[0m\u001b[1;34m'test@assetmacro.com'\u001b[0m\u001b[1;33m,\u001b[0m \u001b[1;34m'nbPiE'\u001b[0m\u001b[1;33m)\u001b[0m\u001b[1;33m\u001b[0m\u001b[0m\n\u001b[0;32m      2\u001b[0m \u001b[0mv\u001b[0m \u001b[1;33m=\u001b[0m \u001b[0mam\u001b[0m\u001b[1;33m.\u001b[0m\u001b[0mget_vars\u001b[0m\u001b[1;33m(\u001b[0m\u001b[1;33m)\u001b[0m\u001b[1;33m\u001b[0m\u001b[0m\n\u001b[1;32m----> 3\u001b[1;33m \u001b[0md\u001b[0m \u001b[1;33m=\u001b[0m \u001b[0mam\u001b[0m\u001b[1;33m.\u001b[0m\u001b[0mload_data\u001b[0m\u001b[1;33m(\u001b[0m\u001b[1;34m'7468'\u001b[0m\u001b[1;33m,\u001b[0m \u001b[1;34m'2014-01-01'\u001b[0m\u001b[1;33m,\u001b[0m \u001b[1;34m'2017-12-31'\u001b[0m\u001b[1;33m)\u001b[0m\u001b[1;33m\u001b[0m\u001b[0m\n\u001b[0m\u001b[0;32m      4\u001b[0m \u001b[0mprint\u001b[0m \u001b[1;33m(\u001b[0m\u001b[0md\u001b[0m\u001b[1;33m)\u001b[0m\u001b[1;33m\u001b[0m\u001b[0m\n",
      "\u001b[1;32m<ipython-input-2-4c5d46fe0c4a>\u001b[0m in \u001b[0;36mload_data\u001b[1;34m(self, var_name, start_date, end_date)\u001b[0m\n\u001b[0;32m     26\u001b[0m         \u001b[0mv\u001b[0m \u001b[1;33m=\u001b[0m \u001b[0mself\u001b[0m\u001b[1;33m.\u001b[0m\u001b[0mget_vars\u001b[0m\u001b[1;33m(\u001b[0m\u001b[1;33m)\u001b[0m\u001b[1;33m\u001b[0m\u001b[0m\n\u001b[0;32m     27\u001b[0m         \u001b[1;32mif\u001b[0m \u001b[0mvar_name\u001b[0m \u001b[1;32mnot\u001b[0m \u001b[1;32min\u001b[0m \u001b[0mv\u001b[0m\u001b[1;33m:\u001b[0m\u001b[1;33m\u001b[0m\u001b[0m\n\u001b[1;32m---> 28\u001b[1;33m             \u001b[1;32mraise\u001b[0m \u001b[0mValueError\u001b[0m\u001b[1;33m(\u001b[0m\u001b[1;34m'Variable name not found, check the get_vars() result.'\u001b[0m\u001b[1;33m)\u001b[0m\u001b[1;33m\u001b[0m\u001b[0m\n\u001b[0m\u001b[0;32m     29\u001b[0m         \u001b[0mparams\u001b[0m \u001b[1;33m=\u001b[0m \u001b[1;34m'name={}'\u001b[0m\u001b[1;33m.\u001b[0m\u001b[0mformat\u001b[0m\u001b[1;33m(\u001b[0m\u001b[0mquote\u001b[0m\u001b[1;33m(\u001b[0m\u001b[0mvar_name\u001b[0m\u001b[1;33m)\u001b[0m\u001b[1;33m)\u001b[0m\u001b[1;33m\u001b[0m\u001b[0m\n\u001b[0;32m     30\u001b[0m         \u001b[1;32mif\u001b[0m \u001b[0mstart_date\u001b[0m\u001b[1;33m:\u001b[0m\u001b[1;33m\u001b[0m\u001b[0m\n",
      "\u001b[1;31mValueError\u001b[0m: Variable name not found, check the get_vars() result."
     ]
    }
   ],
   "source": [
    "am = AssetMacro('test@assetmacro.com', 'nbPiE')\n",
    "v = am.get_vars()\n",
    "d = am.load_data('7468', '2014-01-01', '2017-12-31')\n",
    "print (d)"
   ]
  },
  {
   "cell_type": "code",
   "execution_count": null,
   "metadata": {},
   "outputs": [],
   "source": []
  }
 ],
 "metadata": {
  "kernelspec": {
   "display_name": "Python 3",
   "language": "python",
   "name": "python3"
  },
  "language_info": {
   "codemirror_mode": {
    "name": "ipython",
    "version": 3
   },
   "file_extension": ".py",
   "mimetype": "text/x-python",
   "name": "python",
   "nbconvert_exporter": "python",
   "pygments_lexer": "ipython3",
   "version": "3.6.4"
  }
 },
 "nbformat": 4,
 "nbformat_minor": 2
}
