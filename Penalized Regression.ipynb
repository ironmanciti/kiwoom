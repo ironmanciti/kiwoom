{
 "cells": [
  {
   "cell_type": "markdown",
   "metadata": {},
   "source": [
    "## Penalized Regression Approach\n",
    "\n",
    "## OLS \n",
    "$$y = \\beta_0 + \\sum_{i+1}^n\\beta_ix_i + \\varepsilon$$\n",
    "## OLS minimize historical sum of\n",
    "$$(y - (\\beta_0 + \\sum_{i+1}^n\\beta_ix_i))^2$$\n",
    "## Lasso minimize historical sum of\n",
    "$$(y - (\\beta_0 + \\sum_{i+1}^n\\beta_ix_i))^2 + \\alpha\\sum_i^n|\\beta_i|) \\quad \\rightarrow L1\\; Regularization$$\n",
    "## Ridge minimize historical sum of\n",
    "$$(y - (\\beta_0 + \\sum_{i+1}^n\\beta_ix_i))^2 + \\alpha\\sum_i^n\\beta_i^2) \\quad \\rightarrow L2\\; Regularization$$"
   ]
  },
  {
   "cell_type": "code",
   "execution_count": null,
   "metadata": {},
   "outputs": [],
   "source": []
  }
 ],
 "metadata": {
  "kernelspec": {
   "display_name": "Python 3",
   "language": "python",
   "name": "python3"
  },
  "language_info": {
   "codemirror_mode": {
    "name": "ipython",
    "version": 3
   },
   "file_extension": ".py",
   "mimetype": "text/x-python",
   "name": "python",
   "nbconvert_exporter": "python",
   "pygments_lexer": "ipython3",
   "version": "3.6.4"
  }
 },
 "nbformat": 4,
 "nbformat_minor": 2
}
