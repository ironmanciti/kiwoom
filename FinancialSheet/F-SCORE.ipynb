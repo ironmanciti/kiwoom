{
 "cells": [
  {
   "cell_type": "code",
   "execution_count": 1,
   "metadata": {
    "collapsed": false
   },
   "outputs": [],
   "source": [
    "import pandas as pd\n",
    "import os"
   ]
  },
  {
   "cell_type": "code",
   "execution_count": 2,
   "metadata": {
    "collapsed": false
   },
   "outputs": [
    {
     "data": {
      "text/plain": [
       "'D:\\\\FinancialSheet'"
      ]
     },
     "execution_count": 2,
     "metadata": {},
     "output_type": "execute_result"
    }
   ],
   "source": [
    "path = os.getcwd();path"
   ]
  },
  {
   "cell_type": "code",
   "execution_count": 3,
   "metadata": {
    "collapsed": true
   },
   "outputs": [],
   "source": [
    "df15 = pd.read_csv(path + \"\\\\2015_4Q_FS\\\\_2015_사업보고서_01_재무상태표_20160531.csv\")\n",
    "df16 = pd.read_csv(path + \"\\\\2016_4Q_FS\\\\_2016_사업보고서_01_재무상태표_20170524.csv\")"
   ]
  },
  {
   "cell_type": "markdown",
   "metadata": {},
   "source": [
    "#df.columns\n",
    "\n",
    "df.columns =['재무제표종류', '종목코드', '회사명', '시장구분', '업종', '업종명', '결산월', '결산기준일', '보고서종류',\n",
    "       '통화', '항목코드', '항목명', '당기', '전기', '전전기', 'Column1']"
   ]
  },
  {
   "cell_type": "code",
   "execution_count": 4,
   "metadata": {
    "collapsed": false
   },
   "outputs": [
    {
     "data": {
      "text/plain": [
       "Index(['﻿재무제표종류', '종목코드', '회사명', '시장구분', '업종', '업종명', '결산월', '결산기준일', '보고서종류',\n",
       "       '통화', '항목코드', '항목명', '당기', '전기', '전전기', 'Column1'],\n",
       "      dtype='object')"
      ]
     },
     "execution_count": 4,
     "metadata": {},
     "output_type": "execute_result"
    }
   ],
   "source": [
    "#df15.columns\n",
    "df16.columns"
   ]
  },
  {
   "cell_type": "code",
   "execution_count": 5,
   "metadata": {
    "collapsed": false
   },
   "outputs": [],
   "source": [
    "df15['항목명'] = df15['항목명'].str.strip()\n",
    "df16['항목명'] = df16['항목명'].str.strip()"
   ]
  },
  {
   "cell_type": "code",
   "execution_count": 6,
   "metadata": {
    "collapsed": true
   },
   "outputs": [],
   "source": [
    "#df15['항목명'] == '자본금'"
   ]
  },
  {
   "cell_type": "code",
   "execution_count": 7,
   "metadata": {
    "collapsed": true
   },
   "outputs": [],
   "source": [
    "bs115 = df15.loc[:,['시장구분','종목코드', '회사명', '결산기준일', '항목코드', '항목명', '당기', '전기', '전전기']]\n",
    "bs116 = df16.loc[:,['시장구분','종목코드', '회사명', '결산기준일', '항목코드', '항목명', '당기', '전기', '전전기']]"
   ]
  },
  {
   "cell_type": "code",
   "execution_count": 8,
   "metadata": {
    "collapsed": false
   },
   "outputs": [
    {
     "data": {
      "text/html": [
       "<div>\n",
       "<table border=\"1\" class=\"dataframe\">\n",
       "  <thead>\n",
       "    <tr style=\"text-align: right;\">\n",
       "      <th></th>\n",
       "      <th>시장구분</th>\n",
       "      <th>종목코드</th>\n",
       "      <th>회사명</th>\n",
       "      <th>결산기준일</th>\n",
       "      <th>항목코드</th>\n",
       "      <th>항목명</th>\n",
       "      <th>당기</th>\n",
       "      <th>전기</th>\n",
       "      <th>전전기</th>\n",
       "    </tr>\n",
       "  </thead>\n",
       "  <tbody>\n",
       "    <tr>\n",
       "      <th>0</th>\n",
       "      <td>코스닥시장상장법인</td>\n",
       "      <td>[060310]</td>\n",
       "      <td>3S</td>\n",
       "      <td>2015-03-31</td>\n",
       "      <td>ifrs_AssetsAbstract</td>\n",
       "      <td>자산 [abstract]</td>\n",
       "      <td>NaN</td>\n",
       "      <td>NaN</td>\n",
       "      <td>NaN</td>\n",
       "    </tr>\n",
       "    <tr>\n",
       "      <th>1</th>\n",
       "      <td>코스닥시장상장법인</td>\n",
       "      <td>[060310]</td>\n",
       "      <td>3S</td>\n",
       "      <td>2015-03-31</td>\n",
       "      <td>ifrs_CurrentAssets</td>\n",
       "      <td>유동자산</td>\n",
       "      <td>1.490718e+10</td>\n",
       "      <td>1.682680e+10</td>\n",
       "      <td>1.869050e+10</td>\n",
       "    </tr>\n",
       "  </tbody>\n",
       "</table>\n",
       "</div>"
      ],
      "text/plain": [
       "        시장구분      종목코드 회사명       결산기준일                 항목코드            항목명  \\\n",
       "0  코스닥시장상장법인  [060310]  3S  2015-03-31  ifrs_AssetsAbstract  자산 [abstract]   \n",
       "1  코스닥시장상장법인  [060310]  3S  2015-03-31   ifrs_CurrentAssets           유동자산   \n",
       "\n",
       "             당기            전기           전전기  \n",
       "0           NaN           NaN           NaN  \n",
       "1  1.490718e+10  1.682680e+10  1.869050e+10  "
      ]
     },
     "execution_count": 8,
     "metadata": {},
     "output_type": "execute_result"
    }
   ],
   "source": [
    "bs115.head(2)"
   ]
  },
  {
   "cell_type": "code",
   "execution_count": 9,
   "metadata": {
    "collapsed": true
   },
   "outputs": [],
   "source": [
    "df15 = pd.read_csv(path + \"\\\\2015_4Q_FS\\\\_2015_사업보고서_01_재무상태표_연결_20160531.csv\")\n",
    "df16 = pd.read_csv(path + \"\\\\2016_4Q_FS\\\\_2016_사업보고서_01_재무상태표_연결_20170524.csv\")"
   ]
  },
  {
   "cell_type": "code",
   "execution_count": 10,
   "metadata": {
    "collapsed": true
   },
   "outputs": [],
   "source": [
    "df15['항목명'] = df15['항목명'].str.strip()\n",
    "df16['항목명'] = df16['항목명'].str.strip()"
   ]
  },
  {
   "cell_type": "code",
   "execution_count": 11,
   "metadata": {
    "collapsed": true
   },
   "outputs": [],
   "source": [
    "bs215 = df15.loc[:,['시장구분','종목코드', '회사명', '결산기준일', '항목코드', '항목명', '당기', '전기', '전전기']]\n",
    "bs216 = df16.loc[:,['시장구분','종목코드', '회사명', '결산기준일', '항목코드', '항목명', '당기', '전기', '전전기']]"
   ]
  },
  {
   "cell_type": "code",
   "execution_count": 13,
   "metadata": {
    "collapsed": true
   },
   "outputs": [],
   "source": [
    "bs215['kind'] = 1"
   ]
  },
  {
   "cell_type": "code",
   "execution_count": 20,
   "metadata": {
    "collapsed": false
   },
   "outputs": [],
   "source": [
    "a = bs215[bs215['kind'] == 1]['종목코드']"
   ]
  },
  {
   "cell_type": "code",
   "execution_count": 23,
   "metadata": {
    "collapsed": false
   },
   "outputs": [
    {
     "data": {
      "text/plain": [
       "'[060310]'"
      ]
     },
     "execution_count": 23,
     "metadata": {},
     "output_type": "execute_result"
    }
   ],
   "source": [
    "a.values[0]"
   ]
  },
  {
   "cell_type": "code",
   "execution_count": 14,
   "metadata": {
    "collapsed": false
   },
   "outputs": [
    {
     "data": {
      "text/html": [
       "<div>\n",
       "<table border=\"1\" class=\"dataframe\">\n",
       "  <thead>\n",
       "    <tr style=\"text-align: right;\">\n",
       "      <th></th>\n",
       "      <th>시장구분</th>\n",
       "      <th>종목코드</th>\n",
       "      <th>회사명</th>\n",
       "      <th>결산기준일</th>\n",
       "      <th>항목코드</th>\n",
       "      <th>항목명</th>\n",
       "      <th>당기</th>\n",
       "      <th>전기</th>\n",
       "      <th>전전기</th>\n",
       "      <th>kind</th>\n",
       "    </tr>\n",
       "  </thead>\n",
       "  <tbody>\n",
       "    <tr>\n",
       "      <th>0</th>\n",
       "      <td>코스닥시장상장법인</td>\n",
       "      <td>[060310]</td>\n",
       "      <td>3S</td>\n",
       "      <td>2015-03-31</td>\n",
       "      <td>ifrs_AssetsAbstract</td>\n",
       "      <td>자산 [abstract]</td>\n",
       "      <td>NaN</td>\n",
       "      <td>NaN</td>\n",
       "      <td>NaN</td>\n",
       "      <td>1</td>\n",
       "    </tr>\n",
       "    <tr>\n",
       "      <th>1</th>\n",
       "      <td>코스닥시장상장법인</td>\n",
       "      <td>[060310]</td>\n",
       "      <td>3S</td>\n",
       "      <td>2015-03-31</td>\n",
       "      <td>ifrs_CurrentAssets</td>\n",
       "      <td>유동자산</td>\n",
       "      <td>1.606908e+10</td>\n",
       "      <td>1.812689e+10</td>\n",
       "      <td>1.952282e+10</td>\n",
       "      <td>1</td>\n",
       "    </tr>\n",
       "  </tbody>\n",
       "</table>\n",
       "</div>"
      ],
      "text/plain": [
       "        시장구분      종목코드 회사명       결산기준일                 항목코드            항목명  \\\n",
       "0  코스닥시장상장법인  [060310]  3S  2015-03-31  ifrs_AssetsAbstract  자산 [abstract]   \n",
       "1  코스닥시장상장법인  [060310]  3S  2015-03-31   ifrs_CurrentAssets           유동자산   \n",
       "\n",
       "             당기            전기           전전기  kind  \n",
       "0           NaN           NaN           NaN     1  \n",
       "1  1.606908e+10  1.812689e+10  1.952282e+10     1  "
      ]
     },
     "execution_count": 14,
     "metadata": {},
     "output_type": "execute_result"
    }
   ],
   "source": [
    "bs215.head(2)"
   ]
  },
  {
   "cell_type": "code",
   "execution_count": 15,
   "metadata": {
    "collapsed": true
   },
   "outputs": [],
   "source": [
    "df15 = pd.read_csv(path + \"\\\\2015_4Q_FS\\\\_2015_사업보고서_02_손익계산서_20160531.csv\")\n",
    "df16 = pd.read_csv(path + \"\\\\2016_4Q_FS\\\\_2016_사업보고서_02_손익계산서_20170524.csv\")"
   ]
  },
  {
   "cell_type": "code",
   "execution_count": 16,
   "metadata": {
    "collapsed": true
   },
   "outputs": [],
   "source": [
    "df15['항목명'] = df15['항목명'].str.strip()\n",
    "df16['항목명'] = df16['항목명'].str.strip()"
   ]
  },
  {
   "cell_type": "code",
   "execution_count": 17,
   "metadata": {
    "collapsed": true
   },
   "outputs": [],
   "source": [
    "pl115= df15.loc[:,['시장구분','종목코드', '회사명', '결산기준일', '항목코드', '항목명', '당기', '전기', '전전기']]\n",
    "pl116= df16.loc[:,['시장구분','종목코드', '회사명', '결산기준일', '항목코드', '항목명', '당기', '전기', '전전기']]"
   ]
  },
  {
   "cell_type": "code",
   "execution_count": 18,
   "metadata": {
    "collapsed": false
   },
   "outputs": [
    {
     "data": {
      "text/html": [
       "<div>\n",
       "<table border=\"1\" class=\"dataframe\">\n",
       "  <thead>\n",
       "    <tr style=\"text-align: right;\">\n",
       "      <th></th>\n",
       "      <th>시장구분</th>\n",
       "      <th>종목코드</th>\n",
       "      <th>회사명</th>\n",
       "      <th>결산기준일</th>\n",
       "      <th>항목코드</th>\n",
       "      <th>항목명</th>\n",
       "      <th>당기</th>\n",
       "      <th>전기</th>\n",
       "      <th>전전기</th>\n",
       "    </tr>\n",
       "  </thead>\n",
       "  <tbody>\n",
       "    <tr>\n",
       "      <th>0</th>\n",
       "      <td>유가증권시장상장법인</td>\n",
       "      <td>[001040]</td>\n",
       "      <td>CJ</td>\n",
       "      <td>2015-12-31</td>\n",
       "      <td>ifrs_Revenue</td>\n",
       "      <td>영업수익</td>\n",
       "      <td>1.036240e+11</td>\n",
       "      <td>9.849757e+10</td>\n",
       "      <td>9.035173e+10</td>\n",
       "    </tr>\n",
       "    <tr>\n",
       "      <th>1</th>\n",
       "      <td>유가증권시장상장법인</td>\n",
       "      <td>[001040]</td>\n",
       "      <td>CJ</td>\n",
       "      <td>2015-12-31</td>\n",
       "      <td>ifrs_RevenueFromRoyalties</td>\n",
       "      <td>로열티수익(매출액)</td>\n",
       "      <td>7.572452e+10</td>\n",
       "      <td>7.335013e+10</td>\n",
       "      <td>6.476918e+10</td>\n",
       "    </tr>\n",
       "  </tbody>\n",
       "</table>\n",
       "</div>"
      ],
      "text/plain": [
       "         시장구분      종목코드 회사명       결산기준일                       항목코드  \\\n",
       "0  유가증권시장상장법인  [001040]  CJ  2015-12-31               ifrs_Revenue   \n",
       "1  유가증권시장상장법인  [001040]  CJ  2015-12-31  ifrs_RevenueFromRoyalties   \n",
       "\n",
       "          항목명            당기            전기           전전기  \n",
       "0        영업수익  1.036240e+11  9.849757e+10  9.035173e+10  \n",
       "1  로열티수익(매출액)  7.572452e+10  7.335013e+10  6.476918e+10  "
      ]
     },
     "execution_count": 18,
     "metadata": {},
     "output_type": "execute_result"
    }
   ],
   "source": [
    "pl115.head(2)"
   ]
  },
  {
   "cell_type": "code",
   "execution_count": 19,
   "metadata": {
    "collapsed": true
   },
   "outputs": [],
   "source": [
    "df15 = pd.read_csv(path + \"\\\\2015_4Q_FS\\\\_2015_사업보고서_02_손익계산서_연결_20160531.csv\")\n",
    "df16 = pd.read_csv(path + \"\\\\2016_4Q_FS\\\\_2016_사업보고서_02_손익계산서_연결_20170524.csv\")"
   ]
  },
  {
   "cell_type": "code",
   "execution_count": 20,
   "metadata": {
    "collapsed": true
   },
   "outputs": [],
   "source": [
    "df15['항목명'] = df15['항목명'].str.strip()\n",
    "df16['항목명'] = df16['항목명'].str.strip()"
   ]
  },
  {
   "cell_type": "code",
   "execution_count": 21,
   "metadata": {
    "collapsed": false
   },
   "outputs": [
    {
     "data": {
      "text/plain": [
       "Index(['﻿재무제표종류', '종목코드', '회사명', '시장구분', '업종', '업종명', '결산월', '결산기준일', '보고서종류',\n",
       "       '통화', '항목코드', '항목명', 'Column1', '당기', '_1', '_2', '전기', '전전기', '_3'],\n",
       "      dtype='object')"
      ]
     },
     "execution_count": 21,
     "metadata": {},
     "output_type": "execute_result"
    }
   ],
   "source": [
    "df15.columns"
   ]
  },
  {
   "cell_type": "code",
   "execution_count": 22,
   "metadata": {
    "collapsed": true
   },
   "outputs": [],
   "source": [
    "pl215= df15.loc[:,['시장구분','종목코드', '회사명', '결산기준일', '항목코드', '항목명', '당기', '전기', '전전기']]\n",
    "pl216= df16.loc[:,['시장구분','종목코드', '회사명', '결산기준일', '항목코드', '항목명', '당기', '전기', '전전기']]"
   ]
  },
  {
   "cell_type": "code",
   "execution_count": 23,
   "metadata": {
    "collapsed": false
   },
   "outputs": [
    {
     "data": {
      "text/html": [
       "<div>\n",
       "<table border=\"1\" class=\"dataframe\">\n",
       "  <thead>\n",
       "    <tr style=\"text-align: right;\">\n",
       "      <th></th>\n",
       "      <th>시장구분</th>\n",
       "      <th>종목코드</th>\n",
       "      <th>회사명</th>\n",
       "      <th>결산기준일</th>\n",
       "      <th>항목코드</th>\n",
       "      <th>항목명</th>\n",
       "      <th>당기</th>\n",
       "      <th>전기</th>\n",
       "      <th>전전기</th>\n",
       "    </tr>\n",
       "  </thead>\n",
       "  <tbody>\n",
       "    <tr>\n",
       "      <th>0</th>\n",
       "      <td>유가증권시장상장법인</td>\n",
       "      <td>[001040]</td>\n",
       "      <td>CJ</td>\n",
       "      <td>2015-12-31</td>\n",
       "      <td>ifrs_Revenue</td>\n",
       "      <td>영업수익</td>\n",
       "      <td>2.116670e+13</td>\n",
       "      <td>1.957230e+13</td>\n",
       "      <td>1.885170e+13</td>\n",
       "    </tr>\n",
       "    <tr>\n",
       "      <th>1</th>\n",
       "      <td>유가증권시장상장법인</td>\n",
       "      <td>[001040]</td>\n",
       "      <td>CJ</td>\n",
       "      <td>2015-12-31</td>\n",
       "      <td>ifrs_RevenueFromSaleOfGoods</td>\n",
       "      <td>재화의 판매로 인한 수익(매출액)</td>\n",
       "      <td>1.186570e+13</td>\n",
       "      <td>1.094740e+13</td>\n",
       "      <td>1.074420e+13</td>\n",
       "    </tr>\n",
       "  </tbody>\n",
       "</table>\n",
       "</div>"
      ],
      "text/plain": [
       "         시장구분      종목코드 회사명       결산기준일                         항목코드  \\\n",
       "0  유가증권시장상장법인  [001040]  CJ  2015-12-31                 ifrs_Revenue   \n",
       "1  유가증권시장상장법인  [001040]  CJ  2015-12-31  ifrs_RevenueFromSaleOfGoods   \n",
       "\n",
       "                  항목명            당기            전기           전전기  \n",
       "0                영업수익  2.116670e+13  1.957230e+13  1.885170e+13  \n",
       "1  재화의 판매로 인한 수익(매출액)  1.186570e+13  1.094740e+13  1.074420e+13  "
      ]
     },
     "execution_count": 23,
     "metadata": {},
     "output_type": "execute_result"
    }
   ],
   "source": [
    "pl215.head(2)"
   ]
  },
  {
   "cell_type": "code",
   "execution_count": 24,
   "metadata": {
    "collapsed": true
   },
   "outputs": [],
   "source": [
    "df15 = pd.read_csv(path + \"\\\\2015_4Q_FS\\\\_2015_사업보고서_03_포괄손익계산서_20160531.csv\")\n",
    "df16 = pd.read_csv(path + \"\\\\2016_4Q_FS\\\\_2016_사업보고서_03_포괄손익계산서_20170524.csv\")"
   ]
  },
  {
   "cell_type": "code",
   "execution_count": 25,
   "metadata": {
    "collapsed": true
   },
   "outputs": [],
   "source": [
    "df15['항목명'] = df15['항목명'].str.strip()\n",
    "df16['항목명'] = df16['항목명'].str.strip()"
   ]
  },
  {
   "cell_type": "code",
   "execution_count": 26,
   "metadata": {
    "collapsed": false
   },
   "outputs": [
    {
     "data": {
      "text/plain": [
       "Index(['﻿재무제표종류', '종목코드', '회사명', '시장구분', '업종', '업종명', '결산월', '결산기준일', '보고서종류',\n",
       "       '통화', '항목코드', '항목명', 'Column1', '당기', '_1', '_2', '전기', '전전기', '_3'],\n",
       "      dtype='object')"
      ]
     },
     "execution_count": 26,
     "metadata": {},
     "output_type": "execute_result"
    }
   ],
   "source": [
    "df15.columns"
   ]
  },
  {
   "cell_type": "code",
   "execution_count": 27,
   "metadata": {
    "collapsed": true
   },
   "outputs": [],
   "source": [
    "pl315= df15.loc[:,['시장구분','종목코드', '회사명', '결산기준일', '항목코드', '항목명', '당기', '전기', '전전기']]\n",
    "pl316= df16.loc[:,['시장구분','종목코드', '회사명', '결산기준일', '항목코드', '항목명', '당기', '전기', '전전기']]"
   ]
  },
  {
   "cell_type": "code",
   "execution_count": 28,
   "metadata": {
    "collapsed": false
   },
   "outputs": [
    {
     "data": {
      "text/html": [
       "<div>\n",
       "<table border=\"1\" class=\"dataframe\">\n",
       "  <thead>\n",
       "    <tr style=\"text-align: right;\">\n",
       "      <th></th>\n",
       "      <th>시장구분</th>\n",
       "      <th>종목코드</th>\n",
       "      <th>회사명</th>\n",
       "      <th>결산기준일</th>\n",
       "      <th>항목코드</th>\n",
       "      <th>항목명</th>\n",
       "      <th>당기</th>\n",
       "      <th>전기</th>\n",
       "      <th>전전기</th>\n",
       "    </tr>\n",
       "  </thead>\n",
       "  <tbody>\n",
       "    <tr>\n",
       "      <th>0</th>\n",
       "      <td>코스닥시장상장법인</td>\n",
       "      <td>[060310]</td>\n",
       "      <td>3S</td>\n",
       "      <td>2015-03-31</td>\n",
       "      <td>ifrs_Revenue</td>\n",
       "      <td>수익(매출액)</td>\n",
       "      <td>2.110422e+10</td>\n",
       "      <td>2.653654e+10</td>\n",
       "      <td>3.019712e+10</td>\n",
       "    </tr>\n",
       "    <tr>\n",
       "      <th>1</th>\n",
       "      <td>코스닥시장상장법인</td>\n",
       "      <td>[060310]</td>\n",
       "      <td>3S</td>\n",
       "      <td>2015-03-31</td>\n",
       "      <td>ifrs_CostOfSales</td>\n",
       "      <td>매출원가</td>\n",
       "      <td>1.980746e+10</td>\n",
       "      <td>2.454257e+10</td>\n",
       "      <td>2.336362e+10</td>\n",
       "    </tr>\n",
       "  </tbody>\n",
       "</table>\n",
       "</div>"
      ],
      "text/plain": [
       "        시장구분      종목코드 회사명       결산기준일              항목코드      항목명  \\\n",
       "0  코스닥시장상장법인  [060310]  3S  2015-03-31      ifrs_Revenue  수익(매출액)   \n",
       "1  코스닥시장상장법인  [060310]  3S  2015-03-31  ifrs_CostOfSales     매출원가   \n",
       "\n",
       "             당기            전기           전전기  \n",
       "0  2.110422e+10  2.653654e+10  3.019712e+10  \n",
       "1  1.980746e+10  2.454257e+10  2.336362e+10  "
      ]
     },
     "execution_count": 28,
     "metadata": {},
     "output_type": "execute_result"
    }
   ],
   "source": [
    "pl315.head(2)"
   ]
  },
  {
   "cell_type": "code",
   "execution_count": 29,
   "metadata": {
    "collapsed": true
   },
   "outputs": [],
   "source": [
    "df15 = pd.read_csv(path + \"\\\\2015_4Q_FS\\\\_2015_사업보고서_03_포괄손익계산서_연결_20160531.csv\")\n",
    "df16 = pd.read_csv(path + \"\\\\2016_4Q_FS\\\\_2016_사업보고서_03_포괄손익계산서_연결_20170524.csv\")"
   ]
  },
  {
   "cell_type": "code",
   "execution_count": 30,
   "metadata": {
    "collapsed": true
   },
   "outputs": [],
   "source": [
    "df15['항목명'] = df15['항목명'].str.strip()\n",
    "df16['항목명'] = df16['항목명'].str.strip()"
   ]
  },
  {
   "cell_type": "code",
   "execution_count": 31,
   "metadata": {
    "collapsed": true
   },
   "outputs": [],
   "source": [
    "pl415= df15.loc[:,['시장구분','종목코드', '회사명', '결산기준일', '항목코드', '항목명', '당기', '전기', '전전기']]\n",
    "pl416= df16.loc[:,['시장구분','종목코드', '회사명', '결산기준일', '항목코드', '항목명', '당기', '전기', '전전기']]"
   ]
  },
  {
   "cell_type": "code",
   "execution_count": 32,
   "metadata": {
    "collapsed": false,
    "scrolled": true
   },
   "outputs": [
    {
     "data": {
      "text/html": [
       "<div>\n",
       "<table border=\"1\" class=\"dataframe\">\n",
       "  <thead>\n",
       "    <tr style=\"text-align: right;\">\n",
       "      <th></th>\n",
       "      <th>시장구분</th>\n",
       "      <th>종목코드</th>\n",
       "      <th>회사명</th>\n",
       "      <th>결산기준일</th>\n",
       "      <th>항목코드</th>\n",
       "      <th>항목명</th>\n",
       "      <th>당기</th>\n",
       "      <th>전기</th>\n",
       "      <th>전전기</th>\n",
       "    </tr>\n",
       "  </thead>\n",
       "  <tbody>\n",
       "    <tr>\n",
       "      <th>0</th>\n",
       "      <td>코스닥시장상장법인</td>\n",
       "      <td>[060310]</td>\n",
       "      <td>3S</td>\n",
       "      <td>2015-03-31</td>\n",
       "      <td>ifrs_Revenue</td>\n",
       "      <td>수익(매출액)</td>\n",
       "      <td>2.321054e+10</td>\n",
       "      <td>2.886299e+10</td>\n",
       "      <td>3.223645e+10</td>\n",
       "    </tr>\n",
       "    <tr>\n",
       "      <th>1</th>\n",
       "      <td>코스닥시장상장법인</td>\n",
       "      <td>[060310]</td>\n",
       "      <td>3S</td>\n",
       "      <td>2015-03-31</td>\n",
       "      <td>ifrs_CostOfSales</td>\n",
       "      <td>매출원가</td>\n",
       "      <td>2.157553e+10</td>\n",
       "      <td>2.642635e+10</td>\n",
       "      <td>2.500396e+10</td>\n",
       "    </tr>\n",
       "  </tbody>\n",
       "</table>\n",
       "</div>"
      ],
      "text/plain": [
       "        시장구분      종목코드 회사명       결산기준일              항목코드      항목명  \\\n",
       "0  코스닥시장상장법인  [060310]  3S  2015-03-31      ifrs_Revenue  수익(매출액)   \n",
       "1  코스닥시장상장법인  [060310]  3S  2015-03-31  ifrs_CostOfSales     매출원가   \n",
       "\n",
       "             당기            전기           전전기  \n",
       "0  2.321054e+10  2.886299e+10  3.223645e+10  \n",
       "1  2.157553e+10  2.642635e+10  2.500396e+10  "
      ]
     },
     "execution_count": 32,
     "metadata": {},
     "output_type": "execute_result"
    }
   ],
   "source": [
    "pl415.head(2)"
   ]
  },
  {
   "cell_type": "code",
   "execution_count": 33,
   "metadata": {
    "collapsed": true
   },
   "outputs": [],
   "source": [
    "df15 = pd.read_csv(path + \"\\\\2015_4Q_FS\\\\_2015_사업보고서_04_현금흐름표_20160601.csv\")\n",
    "df16 = pd.read_csv(path + \"\\\\2016_4Q_FS\\\\_2016_사업보고서_04_현금흐름표_20170524.csv\")"
   ]
  },
  {
   "cell_type": "code",
   "execution_count": 34,
   "metadata": {
    "collapsed": true
   },
   "outputs": [],
   "source": [
    "df15['항목명'] = df15['항목명'].str.strip()\n",
    "df16['항목명'] = df16['항목명'].str.strip()"
   ]
  },
  {
   "cell_type": "code",
   "execution_count": 35,
   "metadata": {
    "collapsed": true
   },
   "outputs": [],
   "source": [
    "cf115= df15.loc[:,['시장구분','종목코드', '회사명', '결산기준일', '항목코드', '항목명', '당기', '전기', '전전기']]\n",
    "cf116= df16.loc[:,['시장구분','종목코드', '회사명', '결산기준일', '항목코드', '항목명', '당기', '전기', '전전기']]"
   ]
  },
  {
   "cell_type": "code",
   "execution_count": 36,
   "metadata": {
    "collapsed": false
   },
   "outputs": [
    {
     "data": {
      "text/html": [
       "<div>\n",
       "<table border=\"1\" class=\"dataframe\">\n",
       "  <thead>\n",
       "    <tr style=\"text-align: right;\">\n",
       "      <th></th>\n",
       "      <th>시장구분</th>\n",
       "      <th>종목코드</th>\n",
       "      <th>회사명</th>\n",
       "      <th>결산기준일</th>\n",
       "      <th>항목코드</th>\n",
       "      <th>항목명</th>\n",
       "      <th>당기</th>\n",
       "      <th>전기</th>\n",
       "      <th>전전기</th>\n",
       "    </tr>\n",
       "  </thead>\n",
       "  <tbody>\n",
       "    <tr>\n",
       "      <th>0</th>\n",
       "      <td>코스닥시장상장법인</td>\n",
       "      <td>[060310]</td>\n",
       "      <td>3S</td>\n",
       "      <td>2015-03-31</td>\n",
       "      <td>ifrs_CashFlowsFromUsedInOperatingActivities</td>\n",
       "      <td>영업활동현금흐름</td>\n",
       "      <td>2.923614e+08</td>\n",
       "      <td>2.296141e+09</td>\n",
       "      <td>2.962155e+09</td>\n",
       "    </tr>\n",
       "    <tr>\n",
       "      <th>1</th>\n",
       "      <td>코스닥시장상장법인</td>\n",
       "      <td>[060310]</td>\n",
       "      <td>3S</td>\n",
       "      <td>2015-03-31</td>\n",
       "      <td>dart_ProfitLossForStatementOfCashFlows</td>\n",
       "      <td>당기순이익(손실)</td>\n",
       "      <td>-5.538219e+09</td>\n",
       "      <td>-4.784630e+09</td>\n",
       "      <td>6.677592e+08</td>\n",
       "    </tr>\n",
       "  </tbody>\n",
       "</table>\n",
       "</div>"
      ],
      "text/plain": [
       "        시장구분      종목코드 회사명       결산기준일  \\\n",
       "0  코스닥시장상장법인  [060310]  3S  2015-03-31   \n",
       "1  코스닥시장상장법인  [060310]  3S  2015-03-31   \n",
       "\n",
       "                                          항목코드        항목명            당기  \\\n",
       "0  ifrs_CashFlowsFromUsedInOperatingActivities   영업활동현금흐름  2.923614e+08   \n",
       "1       dart_ProfitLossForStatementOfCashFlows  당기순이익(손실) -5.538219e+09   \n",
       "\n",
       "             전기           전전기  \n",
       "0  2.296141e+09  2.962155e+09  \n",
       "1 -4.784630e+09  6.677592e+08  "
      ]
     },
     "execution_count": 36,
     "metadata": {},
     "output_type": "execute_result"
    }
   ],
   "source": [
    "cf115.head(2)"
   ]
  },
  {
   "cell_type": "code",
   "execution_count": 37,
   "metadata": {
    "collapsed": true
   },
   "outputs": [],
   "source": [
    "df15 = pd.read_csv(path + \"\\\\2015_4Q_FS\\\\_2015_사업보고서_04_현금흐름표_연결_20160601.csv\")\n",
    "df16 = pd.read_csv(path + \"\\\\2016_4Q_FS\\\\_2016_사업보고서_04_현금흐름표_연결_20170524.csv\")"
   ]
  },
  {
   "cell_type": "code",
   "execution_count": 38,
   "metadata": {
    "collapsed": true
   },
   "outputs": [],
   "source": [
    "df15['항목명'] = df15['항목명'].str.strip()\n",
    "df16['항목명'] = df16['항목명'].str.strip()"
   ]
  },
  {
   "cell_type": "code",
   "execution_count": 39,
   "metadata": {
    "collapsed": true
   },
   "outputs": [],
   "source": [
    "cf215= df15.loc[:,['시장구분','종목코드', '회사명', '결산기준일', '항목코드', '항목명', '당기', '전기', '전전기']]\n",
    "cf216= df16.loc[:,['시장구분','종목코드', '회사명', '결산기준일', '항목코드', '항목명', '당기', '전기', '전전기']]"
   ]
  },
  {
   "cell_type": "code",
   "execution_count": 40,
   "metadata": {
    "collapsed": false
   },
   "outputs": [
    {
     "data": {
      "text/html": [
       "<div>\n",
       "<table border=\"1\" class=\"dataframe\">\n",
       "  <thead>\n",
       "    <tr style=\"text-align: right;\">\n",
       "      <th></th>\n",
       "      <th>시장구분</th>\n",
       "      <th>종목코드</th>\n",
       "      <th>회사명</th>\n",
       "      <th>결산기준일</th>\n",
       "      <th>항목코드</th>\n",
       "      <th>항목명</th>\n",
       "      <th>당기</th>\n",
       "      <th>전기</th>\n",
       "      <th>전전기</th>\n",
       "    </tr>\n",
       "  </thead>\n",
       "  <tbody>\n",
       "    <tr>\n",
       "      <th>0</th>\n",
       "      <td>코스닥시장상장법인</td>\n",
       "      <td>[060310]</td>\n",
       "      <td>3S</td>\n",
       "      <td>2015-03-31</td>\n",
       "      <td>ifrs_CashFlowsFromUsedInOperatingActivities</td>\n",
       "      <td>영업활동현금흐름</td>\n",
       "      <td>3.505982e+08</td>\n",
       "      <td>1.960176e+09</td>\n",
       "      <td>3.312258e+09</td>\n",
       "    </tr>\n",
       "    <tr>\n",
       "      <th>1</th>\n",
       "      <td>코스닥시장상장법인</td>\n",
       "      <td>[060310]</td>\n",
       "      <td>3S</td>\n",
       "      <td>2015-03-31</td>\n",
       "      <td>dart_ProfitLossForStatementOfCashFlows</td>\n",
       "      <td>당기순이익(손실)</td>\n",
       "      <td>-5.599033e+09</td>\n",
       "      <td>-4.760633e+09</td>\n",
       "      <td>7.011469e+08</td>\n",
       "    </tr>\n",
       "  </tbody>\n",
       "</table>\n",
       "</div>"
      ],
      "text/plain": [
       "        시장구분      종목코드 회사명       결산기준일  \\\n",
       "0  코스닥시장상장법인  [060310]  3S  2015-03-31   \n",
       "1  코스닥시장상장법인  [060310]  3S  2015-03-31   \n",
       "\n",
       "                                          항목코드        항목명            당기  \\\n",
       "0  ifrs_CashFlowsFromUsedInOperatingActivities   영업활동현금흐름  3.505982e+08   \n",
       "1       dart_ProfitLossForStatementOfCashFlows  당기순이익(손실) -5.599033e+09   \n",
       "\n",
       "             전기           전전기  \n",
       "0  1.960176e+09  3.312258e+09  \n",
       "1 -4.760633e+09  7.011469e+08  "
      ]
     },
     "execution_count": 40,
     "metadata": {},
     "output_type": "execute_result"
    }
   ],
   "source": [
    "cf215.head(2)"
   ]
  },
  {
   "cell_type": "code",
   "execution_count": 41,
   "metadata": {
    "collapsed": true
   },
   "outputs": [],
   "source": [
    "f15 = pd.concat([bs115, bs215, pl115, pl215, pl315, pl415, cf115, cf215], axis=0)\n",
    "f16 = pd.concat([bs116, bs216, pl116, pl216, pl316, pl416, cf116, cf216], axis=0)"
   ]
  },
  {
   "cell_type": "code",
   "execution_count": 42,
   "metadata": {
    "collapsed": false
   },
   "outputs": [
    {
     "data": {
      "text/html": [
       "<div>\n",
       "<table border=\"1\" class=\"dataframe\">\n",
       "  <thead>\n",
       "    <tr style=\"text-align: right;\">\n",
       "      <th></th>\n",
       "      <th>시장구분</th>\n",
       "      <th>종목코드</th>\n",
       "      <th>회사명</th>\n",
       "      <th>결산기준일</th>\n",
       "      <th>항목코드</th>\n",
       "      <th>항목명</th>\n",
       "      <th>당기</th>\n",
       "      <th>전기</th>\n",
       "      <th>전전기</th>\n",
       "    </tr>\n",
       "  </thead>\n",
       "  <tbody>\n",
       "    <tr>\n",
       "      <th>0</th>\n",
       "      <td>코스닥시장상장법인</td>\n",
       "      <td>[060310]</td>\n",
       "      <td>3S</td>\n",
       "      <td>2016-03-31</td>\n",
       "      <td>ifrs_AssetsAbstract</td>\n",
       "      <td>자산 [abstract]</td>\n",
       "      <td>NaN</td>\n",
       "      <td>NaN</td>\n",
       "      <td>NaN</td>\n",
       "    </tr>\n",
       "    <tr>\n",
       "      <th>1</th>\n",
       "      <td>코스닥시장상장법인</td>\n",
       "      <td>[060310]</td>\n",
       "      <td>3S</td>\n",
       "      <td>2016-03-31</td>\n",
       "      <td>ifrs_CurrentAssets</td>\n",
       "      <td>유동자산</td>\n",
       "      <td>1.155636e+10</td>\n",
       "      <td>1.490718e+10</td>\n",
       "      <td>1.682680e+10</td>\n",
       "    </tr>\n",
       "  </tbody>\n",
       "</table>\n",
       "</div>"
      ],
      "text/plain": [
       "        시장구분      종목코드 회사명       결산기준일                 항목코드            항목명  \\\n",
       "0  코스닥시장상장법인  [060310]  3S  2016-03-31  ifrs_AssetsAbstract  자산 [abstract]   \n",
       "1  코스닥시장상장법인  [060310]  3S  2016-03-31   ifrs_CurrentAssets           유동자산   \n",
       "\n",
       "             당기            전기           전전기  \n",
       "0           NaN           NaN           NaN  \n",
       "1  1.155636e+10  1.490718e+10  1.682680e+10  "
      ]
     },
     "execution_count": 42,
     "metadata": {},
     "output_type": "execute_result"
    }
   ],
   "source": [
    "f16.head(2)"
   ]
  },
  {
   "cell_type": "code",
   "execution_count": 43,
   "metadata": {
    "collapsed": false
   },
   "outputs": [
    {
     "name": "stdout",
     "output_type": "stream",
     "text": [
      "(395342, 9)\n",
      "(408253, 9)\n"
     ]
    }
   ],
   "source": [
    "print(f15.shape)\n",
    "print(f16.shape)"
   ]
  },
  {
   "cell_type": "code",
   "execution_count": 44,
   "metadata": {
    "collapsed": true
   },
   "outputs": [],
   "source": [
    "f15 = f15[f15['시장구분'] != '코스닥시장상장법인']\n",
    "f16 = f16[f16['시장구분'] != '코스닥시장상장법인']"
   ]
  },
  {
   "cell_type": "code",
   "execution_count": 45,
   "metadata": {
    "collapsed": true
   },
   "outputs": [],
   "source": [
    "f15.drop_duplicates(subset = ['종목코드', '결산기준일', '항목코드'],inplace=True)\n",
    "f16.drop_duplicates(subset = ['종목코드', '결산기준일', '항목코드'],inplace=True)"
   ]
  },
  {
   "cell_type": "code",
   "execution_count": 46,
   "metadata": {
    "collapsed": true
   },
   "outputs": [],
   "source": [
    "#test = test[(test['id'] != 1) | (test['num'] != 1)]\n",
    "net_income_items = ['당기순이익(손실)','V. 당기순이익','VI. 당기순이익(손실)','당기순이익']\n",
    "net_income_codes = ['ifrs_ProfitLoss']\n",
    "asset_codes = ['ifrs_Assets']\n",
    "asset_items = ['자산총계','자산 총계']\n",
    "cash_flow_codes = ['ifrs_CashFlowsFromUsedInOperatingActivities']\n",
    "cash_flow_items = ['Ⅰ.영업활동으로 인한 현금흐름','영업활동 현금흐름','영업활동으로 인한 현금흐름']\n",
    "long_liability_codes = ['ifrs_NoncurrentLiabilities']\n",
    "long_liability_items = ['장기차입금','비유동부채','비유동 부채']\n",
    "current_liability_codes = ['ifrs_CurrentLiabilities']\n",
    "current_liability_items = ['유동부채','유동 부채']\n",
    "current_asset_codes = ['ifrs_CurrentAssets']\n",
    "current_asset_items = ['유동자산']\n",
    "capital_items = ['자본금','1.자본금','보통주자본금','자 본 금','납입자본']\n",
    "total_sales_items = ['매출','영업수익','매출액']\n",
    "total_sales_codes = ['ifrs_Revenue']\n",
    "g_margin_codes = ['dart_OperatingIncomeLoss','ifrs_GrossProfit']\n",
    "g_margin_items = ['매출총이익','영업이익','매출 총이익']"
   ]
  },
  {
   "cell_type": "code",
   "execution_count": 47,
   "metadata": {
    "collapsed": true
   },
   "outputs": [],
   "source": [
    "items = net_income_items + asset_items + cash_flow_items + capital_items + total_sales_items + g_margin_items\n",
    "codes = net_income_codes + asset_codes + cash_flow_codes + long_liability_codes + current_liability_codes + \\\n",
    "            current_asset_codes + total_sales_codes + g_margin_codes"
   ]
  },
  {
   "cell_type": "code",
   "execution_count": 48,
   "metadata": {
    "collapsed": true
   },
   "outputs": [],
   "source": [
    "f15 = f15[(f15['항목코드'].isin(codes)) | (f15['항목명'].isin(items))]\n",
    "f16 = f16[(f16['항목코드'].isin(codes)) | (f16['항목명'].isin(items))]"
   ]
  },
  {
   "cell_type": "code",
   "execution_count": 49,
   "metadata": {
    "collapsed": false
   },
   "outputs": [
    {
     "name": "stdout",
     "output_type": "stream",
     "text": [
      "(8383, 9)\n",
      "(8416, 9)\n"
     ]
    }
   ],
   "source": [
    "print(f15.shape)\n",
    "print(f16.shape)"
   ]
  },
  {
   "cell_type": "code",
   "execution_count": 50,
   "metadata": {
    "collapsed": true
   },
   "outputs": [],
   "source": [
    "company_list = pd.unique(f16[['종목코드','회사명']].values)\n",
    "#company_list = [('[095570]', 'AJ네트웍스'), ('[068400]', 'AJ렌터카')]\n",
    "#company_list"
   ]
  },
  {
   "cell_type": "code",
   "execution_count": 51,
   "metadata": {
    "collapsed": false
   },
   "outputs": [
    {
     "data": {
      "text/plain": [
       "715"
      ]
     },
     "execution_count": 51,
     "metadata": {},
     "output_type": "execute_result"
    }
   ],
   "source": [
    "len(company_list)"
   ]
  },
  {
   "cell_type": "code",
   "execution_count": 52,
   "metadata": {
    "collapsed": true
   },
   "outputs": [],
   "source": [
    "# pd.set_option('display.max_rows',500)\n",
    "# temp = f15[f15['회사명'] == 'S&K폴리텍']\n",
    "# temp"
   ]
  },
  {
   "cell_type": "code",
   "execution_count": 53,
   "metadata": {
    "collapsed": false
   },
   "outputs": [
    {
     "name": "stdout",
     "output_type": "stream",
     "text": [
      "Net Income Previous Year not found\n",
      "Total Asset Previous Year not found\n",
      "Average Total Asset previous year not found\n",
      "Long Liability Previous Year not found\n",
      "Current Liability previous year not found\n",
      "Current Asset previous year not found\n",
      "EQuity previou year not found\n",
      "Total Sales previous year not found\n",
      "Gross Margin previous year not found\n",
      "[234080] JW생명과학 skipped ......\n",
      "Long Liability Previous Year not found\n",
      "Long Liability not found\n",
      "Current Liability previous year not found\n",
      "Current Liability not found\n",
      "Current Asset previous year not found\n",
      "Current Asset not found\n",
      "[000040] KR모터스 skipped ......\n",
      "Net Income Previous Year not found\n",
      "Total Asset Previous Year not found\n",
      "Average Total Asset previous year not found\n",
      "Long Liability Previous Year not found\n",
      "Current Liability previous year not found\n",
      "Current Asset previous year not found\n",
      "EQuity previou year not found\n",
      "Total Sales previous year not found\n",
      "Gross Margin previous year not found\n",
      "[229640] LS전선아시아 skipped ......\n",
      "Cash Flow not found\n",
      "[011810] STX skipped ......\n",
      "Long Liability Previous Year not found\n",
      "Current Liability previous year not found\n",
      "Current Asset previous year not found\n",
      "[140910] 광희리츠 skipped ......\n",
      "Net Income Previous Year not found\n",
      "Total Asset Previous Year not found\n",
      "Average Total Asset previous year not found\n",
      "Long Liability Previous Year not found\n",
      "Current Liability previous year not found\n",
      "Current Asset previous year not found\n",
      "EQuity previou year not found\n",
      "Total Sales previous year not found\n",
      "Gross Margin previous year not found\n",
      "[004440] 대림씨엔에스 skipped ......\n",
      "Net Income Previous Year not found\n",
      "Total Asset Previous Year not found\n",
      "Average Total Asset previous year not found\n",
      "Long Liability Previous Year not found\n",
      "Current Liability previous year not found\n",
      "Current Asset previous year not found\n",
      "EQuity previou year not found\n",
      "Total Sales previous year not found\n",
      "Gross Margin previous year not found\n",
      "[145720] 덴티움 skipped ......\n",
      "Net Income Previous Year not found\n",
      "Total Asset Previous Year not found\n",
      "Average Total Asset previous year not found\n",
      "Long Liability Previous Year not found\n",
      "Current Liability previous year not found\n",
      "Current Asset previous year not found\n",
      "EQuity previou year not found\n",
      "Total Sales previous year not found\n",
      "Gross Margin previous year not found\n",
      "[026960] 동서 skipped ......\n",
      "Net Income Previous Year not found\n",
      "Total Asset Previous Year not found\n",
      "Average Total Asset previous year not found\n",
      "Long Liability Previous Year not found\n",
      "Current Liability previous year not found\n",
      "Current Asset previous year not found\n",
      "EQuity previou year not found\n",
      "Total Sales previous year not found\n",
      "Gross Margin previous year not found\n",
      "[241560] 두산밥캣 skipped ......\n",
      "Net Income Previous Year not found\n",
      "Total Asset Previous Year not found\n",
      "Average Total Asset previous year not found\n",
      "Long Liability Previous Year not found\n",
      "Current Liability previous year not found\n",
      "Current Asset previous year not found\n",
      "EQuity previou year not found\n",
      "Total Sales previous year not found\n",
      "Gross Margin previous year not found\n",
      "[016740] 두올 skipped ......\n",
      "Long Liability Previous Year not found\n",
      "Long Liability not found\n",
      "Current Liability previous year not found\n",
      "Current Liability not found\n",
      "[004990] 롯데제과 skipped ......\n",
      "Net Income Previous Year not found\n",
      "Total Asset Previous Year not found\n",
      "Average Total Asset previous year not found\n",
      "Long Liability Previous Year not found\n",
      "Current Liability previous year not found\n",
      "Current Asset previous year not found\n",
      "EQuity previou year not found\n",
      "Total Sales previous year not found\n",
      "Gross Margin previous year not found\n",
      "[204210] 모두투어리츠 skipped ......\n",
      "EQuity not found\n",
      "[002410] 범양건영 skipped ......\n",
      "Net Income Previous Year not found\n",
      "Total Asset Previous Year not found\n",
      "Average Total Asset previous year not found\n",
      "Long Liability Previous Year not found\n",
      "Current Liability previous year not found\n",
      "Current Asset previous year not found\n",
      "EQuity previou year not found\n",
      "Total Sales previous year not found\n",
      "Gross Margin previous year not found\n",
      "[248170] 샘표식품 skipped ......\n",
      "Gross Margin previous year not found\n",
      "Gross Margin not found\n",
      "[145210] 세화아이엠씨 skipped ......\n",
      "Long Liability Previous Year not found\n",
      "Long Liability not found\n",
      "[083570] 아시아10호 skipped ......\n",
      "Long Liability Previous Year not found\n",
      "Long Liability not found\n",
      "[083580] 아시아퍼시픽11호 skipped ......\n",
      "Long Liability Previous Year not found\n",
      "Long Liability not found\n",
      "[083590] 아시아퍼시픽12호 skipped ......\n",
      "Long Liability Previous Year not found\n",
      "Long Liability not found\n",
      "[083600] 아시아퍼시픽13호 skipped ......\n",
      "Long Liability Previous Year not found\n",
      "Long Liability not found\n",
      "[083610] 아시아퍼시픽14호 skipped ......\n",
      "Long Liability Previous Year not found\n",
      "Long Liability not found\n",
      "[083620] 아시아퍼시픽15호 skipped ......\n",
      "Net Income Previous Year not found\n",
      "Total Asset Previous Year not found\n",
      "Average Total Asset previous year not found\n",
      "Long Liability Previous Year not found\n",
      "Current Liability previous year not found\n",
      "Current Asset previous year not found\n",
      "EQuity previou year not found\n",
      "Total Sales previous year not found\n",
      "Gross Margin previous year not found\n",
      "[070960] 용평리조트 skipped ......\n",
      "EQuity previou year not found\n",
      "EQuity not found\n",
      "[102460] 이연제약 skipped ......\n",
      "Net Income Previous Year not found\n",
      "Total Asset Previous Year not found\n",
      "Average Total Asset previous year not found\n",
      "Long Liability Previous Year not found\n",
      "Current Liability previous year not found\n",
      "Current Asset previous year not found\n",
      "EQuity previou year not found\n",
      "Total Sales previous year not found\n",
      "Gross Margin previous year not found\n",
      "[249420] 일동제약 skipped ......\n",
      "Cash Flow not found\n",
      "[103140] 풍산 skipped ......\n",
      "EQuity previou year not found\n",
      "EQuity not found\n",
      "[033180] 필룩스 skipped ......\n",
      "Net Income Previous Year not found\n",
      "Total Asset Previous Year not found\n",
      "Average Total Asset previous year not found\n",
      "Long Liability Previous Year not found\n",
      "Current Liability previous year not found\n",
      "Current Asset previous year not found\n",
      "EQuity previou year not found\n",
      "Total Sales previous year not found\n",
      "Gross Margin previous year not found\n",
      "[195870] 해성디에스 skipped ......\n",
      "Net Income Previous Year not found\n",
      "Total Asset Previous Year not found\n",
      "Average Total Asset previous year not found\n",
      "Long Liability Previous Year not found\n",
      "Current Liability previous year not found\n",
      "Current Asset previous year not found\n",
      "EQuity previou year not found\n",
      "Total Sales previous year not found\n",
      "Gross Margin previous year not found\n",
      "[101530] 해태제과식품 skipped ......\n",
      "Net Income Previous Year not found\n",
      "Total Asset Previous Year not found\n",
      "Average Total Asset previous year not found\n",
      "Long Liability Previous Year not found\n",
      "Current Liability previous year not found\n",
      "Current Asset previous year not found\n",
      "EQuity previou year not found\n",
      "Total Sales previous year not found\n",
      "Gross Margin previous year not found\n",
      "[143210] 핸즈코퍼레이션 skipped ......\n",
      "Net Income Previous Year not found\n",
      "Total Asset Previous Year not found\n",
      "Average Total Asset previous year not found\n",
      "Long Liability Previous Year not found\n",
      "Current Liability previous year not found\n",
      "Current Asset previous year not found\n",
      "EQuity previou year not found\n",
      "Total Sales previous year not found\n",
      "Gross Margin previous year not found\n",
      "[111110] 호전실업 skipped ......\n",
      "Net Income Previous Year not found\n",
      "Total Asset Previous Year not found\n",
      "Average Total Asset previous year not found\n",
      "Long Liability Previous Year not found\n",
      "Current Liability previous year not found\n",
      "Current Asset previous year not found\n",
      "EQuity previou year not found\n",
      "Total Sales previous year not found\n",
      "Gross Margin previous year not found\n",
      "[241590] 화승엔터프라이즈 skipped ......\n"
     ]
    }
   ],
   "source": [
    "f_scores = {}\n",
    "for company, name in company_list:\n",
    "    f_score = 0\n",
    "    skip = False\n",
    "    \n",
    "    Net_Income_prev = f15[(f15['종목코드'] == company) & \\\n",
    "                          (f15['항목코드'].isin(net_income_codes) | f15['항목명'].isin(net_income_items))]['당기']\n",
    "    if Net_Income_prev.values.size == 0:\n",
    "        skip = True\n",
    "        print('Net Income Previous Year not found')\n",
    "    \n",
    "    Net_Income = f16[(f16['종목코드'] == company) & \\\n",
    "                      (f16['항목코드'].isin(net_income_codes) | f16['항목명'].isin(net_income_items))]['당기']\n",
    "    if Net_Income.values.size == 0:\n",
    "        skip = True\n",
    "        print('Net Income not found')\n",
    "    \n",
    "    Total_Asset_prev  = f15[(f15['종목코드'] == company) & \\\n",
    "                            (f15['항목코드'].isin(asset_codes) | f15['항목명'].isin(asset_items))]['전기']\n",
    "    if Total_Asset_prev.values.size == 0:\n",
    "        skip = True\n",
    "        print('Total Asset Previous Year not found')\n",
    "        \n",
    "    Total_Asset  = f16[(f16['종목코드'] == company) & \\\n",
    "                       (f16['항목코드'].isin(asset_codes) | f16['항목명'].isin(asset_items))]['전기']\n",
    "    if Total_Asset.values.size == 0:\n",
    "        skip = True\n",
    "        print('Total Asset not found')\n",
    "        \n",
    "    Avg_Total_Asset_prev  = f15[(f15['종목코드'] == company) & \\\n",
    "                                (f15['항목코드'].isin(asset_codes) | f15['항목명'].isin(asset_items))]['당기']\n",
    "    if Avg_Total_Asset_prev.values.size == 0:\n",
    "        skip = True\n",
    "        print('Average Total Asset previous year not found')\n",
    "        \n",
    "    Avg_Total_Asset  = f16[(f16['종목코드'] == company) & \\\n",
    "                           (f16['항목코드'].isin(asset_codes) | f16['항목명'].isin(asset_items))]['당기']\n",
    "    if Avg_Total_Asset.values.size == 0:\n",
    "        skip = True\n",
    "        print('Average Total Asset not found')\n",
    "               \n",
    "    Cash_Flow =  f16[(f16['종목코드'] == company) & \\\n",
    "                     (f16['항목코드'].isin(cash_flow_codes) | f16['항목명'].isin(cash_flow_items) )]['당기'] \n",
    "    if Cash_Flow.size == 0:\n",
    "        skip = True\n",
    "        print('Cash Flow not found')\n",
    "    \n",
    "    Long_Liability_prev =  f15[(f15['종목코드'] == company) & \\\n",
    "                               (f15['항목코드'].isin(long_liability_codes) | f15['항목명'].isin(long_liability_items))]['당기'] \n",
    "    if Long_Liability_prev.size == 0:\n",
    "        skip = True\n",
    "        print('Long Liability Previous Year not found')\n",
    "    \n",
    "    Long_Liability =  f16[(f16['종목코드'] == company) & \\\n",
    "                          (f16['항목코드'].isin(long_liability_codes) | f16['항목명'].isin(long_liability_items))]['당기'] \n",
    "    if Long_Liability.size == 0:\n",
    "        skip = True\n",
    "        print('Long Liability not found')\n",
    "               \n",
    "    Current_Liability_prev =  f15[(f15['종목코드'] == company) & \\\n",
    "                                  (f15['항목코드'].isin(current_liability_codes) | f15['항목명'].isin(current_liability_items))]['당기'] \n",
    "    if Current_Liability_prev.size == 0:\n",
    "        skip = True\n",
    "        print('Current Liability previous year not found')\n",
    "    \n",
    "    Current_Liability =  f16[(f16['종목코드'] == company) & \\\n",
    "                            (f16['항목코드'].isin(current_liability_codes) | f16['항목명'].isin(current_liability_items))]['당기'] \n",
    "    if Current_Liability.size == 0:\n",
    "        skip = True\n",
    "        print('Current Liability not found')\n",
    "        \n",
    "    Current_Asset_prev =  f15[(f15['종목코드'] == company) & \\\n",
    "                              (f15['항목코드'].isin(current_asset_codes) | f15['항목명'].isin(current_asset_items))]['당기'] \n",
    "    if Current_Asset_prev.size == 0:\n",
    "        skip = True\n",
    "        print('Current Asset previous year not found')   \n",
    "        \n",
    "    Current_Asset =  f16[(f16['종목코드'] == company) & \\\n",
    "                        (f16['항목코드'].isin(current_asset_codes) | f16['항목명'].isin(current_asset_items))]['당기'] \n",
    "    if Current_Asset.size == 0:\n",
    "        skip = True\n",
    "        print('Current Asset not found') \n",
    "    \n",
    "    EQ_prev =  f15[(f15['종목코드'] == company) & (f15['항목명'].isin(capital_items))]['당기'] \n",
    "    if EQ_prev.size == 0:\n",
    "        skip = True\n",
    "        print('EQuity previou year not found')  \n",
    "        \n",
    "    EQ =  f16[(f16['종목코드'] == company) & (f16['항목명'].isin(capital_items))]['당기'] \n",
    "    if EQ.size == 0:\n",
    "        skip = True\n",
    "        print('EQuity not found')  \n",
    "\n",
    "    Total_Sales_prev =  f15[(f15['종목코드'] == company) & \\\n",
    "                            (f15['항목코드'].isin(total_sales_codes) | f15['항목명'].isin(total_sales_items))]['당기'] \n",
    "    if Total_Sales_prev.size == 0:\n",
    "        skip = True\n",
    "        print('Total Sales previous year not found') \n",
    "        \n",
    "    Total_Sales =  f16[(f16['종목코드'] == company) & \\\n",
    "                        (f16['항목코드'].isin(total_sales_codes) | f16['항목명'].isin(total_sales_items))]['당기'] \n",
    "    if Total_Sales.size == 0:\n",
    "        skip = True\n",
    "        print('Total Sales not found')\n",
    "\n",
    "    G_Margin_prev =  f15[(f15['종목코드'] == company) & \\\n",
    "                         (f15['항목코드'].isin(g_margin_codes) | f15['항목명'].isin(g_margin_items))]['당기'] \n",
    "    if G_Margin_prev.size == 0:\n",
    "        skip = True\n",
    "        print('Gross Margin previous year not found')\n",
    "        \n",
    "    G_Margin =  f16[(f16['종목코드'] == company) & \\\n",
    "                     (f16['항목코드'].isin(g_margin_codes) | f16['항목명'].isin(g_margin_items))]['당기'] \n",
    "    if G_Margin.size == 0:      \n",
    "        skip = True\n",
    "        print('Gross Margin not found')\n",
    "    \n",
    "    if skip:\n",
    "        print(company, name, 'skipped ......')\n",
    "    else:\n",
    "        #** ROA \n",
    "        ROA = Net_Income.values[0] / Total_Asset.values[0]\n",
    "        if ROA > 0:\n",
    "            f_score += 1\n",
    "        #** CFO   \n",
    "        CFO = Cash_Flow.values[0] / Total_Asset.values[0]\n",
    "        if CFO > 0:\n",
    "            f_score += 1\n",
    "        #** Delta ROA\n",
    "        ROA_prev = Net_Income_prev.values[0] / Total_Asset_prev.values[0]\n",
    "        if ROA - ROA_prev > 0:\n",
    "            f_score += 1\n",
    "        #** Accrual\n",
    "        if CFO > ROA :\n",
    "            f_score += 1\n",
    "        #** Delta Leverage\n",
    "        LEV = Long_Liability.values[0] / Avg_Total_Asset.values[0]\n",
    "        LEV_prev = Long_Liability_prev.values[0] / Avg_Total_Asset_prev.values[0]    \n",
    "        if (LEV - LEV_prev) > 0:\n",
    "            f_score += 1\n",
    "        #** Delta Liquitity\n",
    "        LEQ = Current_Asset.values[0] / Current_Liability.values[0]\n",
    "        LEQ_prev = Current_Asset_prev.values[0] / Current_Liability_prev.values[0]\n",
    "        if (LEQ - LEQ_prev) > 0:\n",
    "            f_score += 1\n",
    "        #** EQ_OFFER\n",
    "        if EQ_prev.values[0] == EQ.values[0]:\n",
    "            f_score += 1\n",
    "        #** Delta margin\n",
    "        GMO = G_Margin.values[0] / Total_Sales.values[0]\n",
    "        GMO_prev = G_Margin_prev.values[0] / Total_Sales_prev.values[0]\n",
    "        if (GMO - GMO_prev) > 0:\n",
    "            f_score += 1\n",
    "        #** Delta Turnover\n",
    "        ATR = Total_Sales.values[0] / Total_Asset.values[0]\n",
    "        ATR_prv = Total_Sales_prev.values[0] /  Total_Asset_prev.values[0]\n",
    "        if (ATR - ATR_prv) > 0:\n",
    "            f_score += 1\n",
    "       \n",
    "        f_scores[company+ ' ' + name] = f_score"
   ]
  },
  {
   "cell_type": "code",
   "execution_count": 54,
   "metadata": {
    "collapsed": false,
    "scrolled": false
   },
   "outputs": [
    {
     "data": {
      "text/plain": [
       "684"
      ]
     },
     "execution_count": 54,
     "metadata": {},
     "output_type": "execute_result"
    }
   ],
   "source": [
    "len(f_scores)"
   ]
  },
  {
   "cell_type": "code",
   "execution_count": 60,
   "metadata": {
    "collapsed": true
   },
   "outputs": [],
   "source": [
    "from collections import OrderedDict\n",
    "dict_items = OrderedDict()\n",
    "dict_items = {'Code': [], 'Name': [], 'F_Score': []}\n",
    "\n",
    "for key, val in f_scores.items():\n",
    "    if val >= 8:\n",
    "        code = key.replace('[','').replace(']','').split()\n",
    "        code[0] = 'A' + code[0]\n",
    "        dict_items['Code'].append(code[0])\n",
    "        dict_items['Name'].append(code[1])\n",
    "        dict_items['F_Score'].append(val)"
   ]
  },
  {
   "cell_type": "code",
   "execution_count": 61,
   "metadata": {
    "collapsed": false
   },
   "outputs": [],
   "source": [
    "df = pd.DataFrame.from_dict(dict_items)"
   ]
  },
  {
   "cell_type": "code",
   "execution_count": 62,
   "metadata": {
    "collapsed": false
   },
   "outputs": [],
   "source": [
    "df.to_csv('output.csv')"
   ]
  },
  {
   "cell_type": "code",
   "execution_count": 54,
   "metadata": {
    "collapsed": true
   },
   "outputs": [],
   "source": [
    "        \n",
    "#     EQ_prev =  f15[(f15['종목코드'] == company) & (f15['항목코드'].isin(EQ_items))]['당기'] \n",
    "#     if EQ_prev.size == 0:\n",
    "#         skip = True\n",
    "#         print('EQuity previou year not found')      \n",
    "\n",
    "#     EQ_prev =  f15[(f15['종목코드'] == company) & (f15['항목코드'] == 'dart_ContributedEquity')]['당기'] \n",
    "#     if EQ_prev.size == 0:\n",
    "#         EQ_prev =  f15[(f15['종목코드'] == company) & \\\n",
    "#                        (f15['항목코드'] == 'entity00635134_udf_BS_2011519194248375_EquityAbstract')]['당기']                                                   \n",
    "#         if EQ_prev.size == 0:\n",
    "#             EQ_prev =  f15[(f15['종목코드'] == company) & \\\n",
    "#                        (f15['항목코드'] == 'entity00222532_udf_BS_20121127144511422_EquityAbstract')]['당기']   \n",
    "#             if EQ_prev.size == 0:\n",
    "#                 skip = True\n",
    "#                 print('EQuity previou year not found')                   \n",
    "                \n",
    "#     EQ =  f16[(f16['종목코드'] == company) & (f16['항목코드'] == 'dart_ContributedEquity')]['당기'] \n",
    "#     if EQ.size == 0:\n",
    "#         EQ =  f16[(f16['종목코드'] == company) & \\\n",
    "#                   (f16['항목코드'] == 'entity00635134_udf_BS_2011519194248375_EquityAbstract')]['당기']                                         \n",
    "#         if EQ.size == 0:\n",
    "#             EQ =  f16[(f16['종목코드'] == company) & \\\n",
    "#                   (f16['항목코드'] == 'entity00222532_udf_BS_20121127144511422_EquityAbstract')]['당기'] \n",
    "#             if EQ.size == 0:\n",
    "#                 skip = True\n",
    "#                 print('EQuity not found')    \n",
    "                \n",
    "#     EQ =  f16[(f16['종목코드'] == company) & (f16['항목코드'].isin(EQ_items))]['당기'] \n",
    "#     if EQ.size == 0:\n",
    "#         skip = True\n",
    "#         print('EQuity not found')      \n",
    "     "
   ]
  }
 ],
 "metadata": {
  "kernelspec": {
   "display_name": "Python 3",
   "language": "python",
   "name": "python3"
  },
  "language_info": {
   "codemirror_mode": {
    "name": "ipython",
    "version": 3
   },
   "file_extension": ".py",
   "mimetype": "text/x-python",
   "name": "python",
   "nbconvert_exporter": "python",
   "pygments_lexer": "ipython3",
   "version": "3.4.5"
  }
 },
 "nbformat": 4,
 "nbformat_minor": 2
}
