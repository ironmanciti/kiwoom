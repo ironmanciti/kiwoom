{
 "cells": [
  {
   "cell_type": "code",
   "execution_count": 13,
   "metadata": {
    "collapsed": true
   },
   "outputs": [],
   "source": [
    "from scipy import stats\n",
    "import pandas as pd\n",
    "import datetime\n",
    "import sqlite3\n",
    "\n",
    "import matplotlib.pyplot as plt\n",
    "import matplotlib\n",
    "matplotlib.rc('font', family='Malgun Gothic')\n",
    "con = sqlite3.connect(\"D:\\SQLITEDB\\koreaStock.db\")\n",
    "c = con.cursor()"
   ]
  },
  {
   "cell_type": "code",
   "execution_count": 14,
   "metadata": {
    "collapsed": false
   },
   "outputs": [],
   "source": [
    "start = pd.to_datetime('2017-01-01')\n",
    "end = pd.to_datetime('2017-12-31')\n",
    "market = \"001\"   # KOSPI\n",
    "\n",
    "KOSPI = pd.read_sql(\"SELECT * from marketCandle where code='\" + market + \"'\", con, index_col=[\"date\"])\n",
    "\n",
    "KOSPI.index = KOSPI.index.to_datetime()\n",
    "KOSPI= KOSPI[(KOSPI.index >= start) & (KOSPI.index <= end)]\n",
    "KOSPI.index.name = 'date'\n",
    "\n",
    "KOSPI['Daily Return'] =KOSPI['close'].pct_change(1)"
   ]
  },
  {
   "cell_type": "code",
   "execution_count": 15,
   "metadata": {
    "collapsed": false
   },
   "outputs": [
    {
     "data": {
      "text/html": [
       "<div>\n",
       "<table border=\"1\" class=\"dataframe\">\n",
       "  <thead>\n",
       "    <tr style=\"text-align: right;\">\n",
       "      <th></th>\n",
       "      <th>code</th>\n",
       "      <th>open</th>\n",
       "      <th>high</th>\n",
       "      <th>low</th>\n",
       "      <th>close</th>\n",
       "      <th>volume</th>\n",
       "      <th>Daily Return</th>\n",
       "    </tr>\n",
       "    <tr>\n",
       "      <th>date</th>\n",
       "      <th></th>\n",
       "      <th></th>\n",
       "      <th></th>\n",
       "      <th></th>\n",
       "      <th></th>\n",
       "      <th></th>\n",
       "      <th></th>\n",
       "    </tr>\n",
       "  </thead>\n",
       "  <tbody>\n",
       "    <tr>\n",
       "      <th>2017-01-02</th>\n",
       "      <td>001</td>\n",
       "      <td>202223</td>\n",
       "      <td>203179</td>\n",
       "      <td>201568</td>\n",
       "      <td>202616</td>\n",
       "      <td>229874</td>\n",
       "      <td>NaN</td>\n",
       "    </tr>\n",
       "    <tr>\n",
       "      <th>2017-01-03</th>\n",
       "      <td>001</td>\n",
       "      <td>203431</td>\n",
       "      <td>204407</td>\n",
       "      <td>202847</td>\n",
       "      <td>204397</td>\n",
       "      <td>268127</td>\n",
       "      <td>0.008790</td>\n",
       "    </tr>\n",
       "    <tr>\n",
       "      <th>2017-01-04</th>\n",
       "      <td>001</td>\n",
       "      <td>204629</td>\n",
       "      <td>204629</td>\n",
       "      <td>204061</td>\n",
       "      <td>204564</td>\n",
       "      <td>371488</td>\n",
       "      <td>0.000817</td>\n",
       "    </tr>\n",
       "    <tr>\n",
       "      <th>2017-01-05</th>\n",
       "      <td>001</td>\n",
       "      <td>204552</td>\n",
       "      <td>204650</td>\n",
       "      <td>203949</td>\n",
       "      <td>204195</td>\n",
       "      <td>541343</td>\n",
       "      <td>-0.001804</td>\n",
       "    </tr>\n",
       "    <tr>\n",
       "      <th>2017-01-06</th>\n",
       "      <td>001</td>\n",
       "      <td>204811</td>\n",
       "      <td>205184</td>\n",
       "      <td>204566</td>\n",
       "      <td>204912</td>\n",
       "      <td>455350</td>\n",
       "      <td>0.003511</td>\n",
       "    </tr>\n",
       "  </tbody>\n",
       "</table>\n",
       "</div>"
      ],
      "text/plain": [
       "           code    open    high     low   close  volume  Daily Return\n",
       "date                                                                 \n",
       "2017-01-02  001  202223  203179  201568  202616  229874           NaN\n",
       "2017-01-03  001  203431  204407  202847  204397  268127      0.008790\n",
       "2017-01-04  001  204629  204629  204061  204564  371488      0.000817\n",
       "2017-01-05  001  204552  204650  203949  204195  541343     -0.001804\n",
       "2017-01-06  001  204811  205184  204566  204912  455350      0.003511"
      ]
     },
     "execution_count": 15,
     "metadata": {},
     "output_type": "execute_result"
    }
   ],
   "source": [
    "KOSPI.head()"
   ]
  },
  {
   "cell_type": "code",
   "execution_count": 16,
   "metadata": {
    "collapsed": false
   },
   "outputs": [
    {
     "data": {
      "text/html": [
       "<div>\n",
       "<table border=\"1\" class=\"dataframe\">\n",
       "  <thead>\n",
       "    <tr style=\"text-align: right;\">\n",
       "      <th></th>\n",
       "      <th>open</th>\n",
       "      <th>high</th>\n",
       "      <th>low</th>\n",
       "      <th>close</th>\n",
       "      <th>volume</th>\n",
       "      <th>Daily Return</th>\n",
       "    </tr>\n",
       "    <tr>\n",
       "      <th>date</th>\n",
       "      <th></th>\n",
       "      <th></th>\n",
       "      <th></th>\n",
       "      <th></th>\n",
       "      <th></th>\n",
       "      <th></th>\n",
       "    </tr>\n",
       "  </thead>\n",
       "  <tbody>\n",
       "    <tr>\n",
       "      <th>2017-01-31</th>\n",
       "      <td>206154</td>\n",
       "      <td>206792</td>\n",
       "      <td>205395</td>\n",
       "      <td>206173</td>\n",
       "      <td>421292</td>\n",
       "      <td>0.001079</td>\n",
       "    </tr>\n",
       "    <tr>\n",
       "      <th>2017-02-28</th>\n",
       "      <td>208354</td>\n",
       "      <td>208909</td>\n",
       "      <td>207605</td>\n",
       "      <td>208279</td>\n",
       "      <td>356446</td>\n",
       "      <td>0.000586</td>\n",
       "    </tr>\n",
       "    <tr>\n",
       "      <th>2017-03-31</th>\n",
       "      <td>213446</td>\n",
       "      <td>214208</td>\n",
       "      <td>212806</td>\n",
       "      <td>213617</td>\n",
       "      <td>403181</td>\n",
       "      <td>0.001482</td>\n",
       "    </tr>\n",
       "    <tr>\n",
       "      <th>2017-04-30</th>\n",
       "      <td>215930</td>\n",
       "      <td>216530</td>\n",
       "      <td>215099</td>\n",
       "      <td>216018</td>\n",
       "      <td>386471</td>\n",
       "      <td>0.001049</td>\n",
       "    </tr>\n",
       "    <tr>\n",
       "      <th>2017-05-31</th>\n",
       "      <td>229759</td>\n",
       "      <td>231128</td>\n",
       "      <td>228866</td>\n",
       "      <td>230189</td>\n",
       "      <td>369913</td>\n",
       "      <td>0.003313</td>\n",
       "    </tr>\n",
       "    <tr>\n",
       "      <th>2017-06-30</th>\n",
       "      <td>237135</td>\n",
       "      <td>237840</td>\n",
       "      <td>236278</td>\n",
       "      <td>237220</td>\n",
       "      <td>356375</td>\n",
       "      <td>0.000905</td>\n",
       "    </tr>\n",
       "    <tr>\n",
       "      <th>2017-07-31</th>\n",
       "      <td>241448</td>\n",
       "      <td>241976</td>\n",
       "      <td>240540</td>\n",
       "      <td>241289</td>\n",
       "      <td>296443</td>\n",
       "      <td>0.000230</td>\n",
       "    </tr>\n",
       "    <tr>\n",
       "      <th>2017-08-31</th>\n",
       "      <td>237377</td>\n",
       "      <td>238233</td>\n",
       "      <td>236186</td>\n",
       "      <td>237218</td>\n",
       "      <td>260176</td>\n",
       "      <td>-0.000731</td>\n",
       "    </tr>\n",
       "    <tr>\n",
       "      <th>2017-09-30</th>\n",
       "      <td>237130</td>\n",
       "      <td>238005</td>\n",
       "      <td>236255</td>\n",
       "      <td>237184</td>\n",
       "      <td>278223</td>\n",
       "      <td>0.000644</td>\n",
       "    </tr>\n",
       "    <tr>\n",
       "      <th>2017-10-31</th>\n",
       "      <td>248050</td>\n",
       "      <td>248968</td>\n",
       "      <td>247304</td>\n",
       "      <td>248287</td>\n",
       "      <td>315725</td>\n",
       "      <td>0.003298</td>\n",
       "    </tr>\n",
       "    <tr>\n",
       "      <th>2017-11-30</th>\n",
       "      <td>253849</td>\n",
       "      <td>254496</td>\n",
       "      <td>252468</td>\n",
       "      <td>253351</td>\n",
       "      <td>339752</td>\n",
       "      <td>-0.000838</td>\n",
       "    </tr>\n",
       "    <tr>\n",
       "      <th>2017-12-31</th>\n",
       "      <td>247209</td>\n",
       "      <td>248176</td>\n",
       "      <td>245735</td>\n",
       "      <td>246772</td>\n",
       "      <td>302527</td>\n",
       "      <td>-0.000162</td>\n",
       "    </tr>\n",
       "  </tbody>\n",
       "</table>\n",
       "</div>"
      ],
      "text/plain": [
       "              open    high     low   close  volume  Daily Return\n",
       "date                                                            \n",
       "2017-01-31  206154  206792  205395  206173  421292      0.001079\n",
       "2017-02-28  208354  208909  207605  208279  356446      0.000586\n",
       "2017-03-31  213446  214208  212806  213617  403181      0.001482\n",
       "2017-04-30  215930  216530  215099  216018  386471      0.001049\n",
       "2017-05-31  229759  231128  228866  230189  369913      0.003313\n",
       "2017-06-30  237135  237840  236278  237220  356375      0.000905\n",
       "2017-07-31  241448  241976  240540  241289  296443      0.000230\n",
       "2017-08-31  237377  238233  236186  237218  260176     -0.000731\n",
       "2017-09-30  237130  238005  236255  237184  278223      0.000644\n",
       "2017-10-31  248050  248968  247304  248287  315725      0.003298\n",
       "2017-11-30  253849  254496  252468  253351  339752     -0.000838\n",
       "2017-12-31  247209  248176  245735  246772  302527     -0.000162"
      ]
     },
     "execution_count": 16,
     "metadata": {},
     "output_type": "execute_result"
    }
   ],
   "source": [
    "KOSPI.resample('M').mean()"
   ]
  },
  {
   "cell_type": "code",
   "execution_count": 32,
   "metadata": {
    "collapsed": false
   },
   "outputs": [],
   "source": [
    "df = pd.read_sql(\"select code, code_name from stockCode\", con)"
   ]
  },
  {
   "cell_type": "code",
   "execution_count": 37,
   "metadata": {
    "collapsed": false
   },
   "outputs": [
    {
     "data": {
      "text/plain": [
       "array([['52CB40', '미래CB40KB금융콜'],\n",
       "       ['52CE16', '미래CE16KB금융콜'],\n",
       "       ['52D200', '미래D200KB금융콜'],\n",
       "       ..., \n",
       "       ['900250', '크리스탈신소재'],\n",
       "       ['900070', '글로벌에스엠'],\n",
       "       ['900100', '뉴프라이드']], dtype=object)"
      ]
     },
     "execution_count": 37,
     "metadata": {},
     "output_type": "execute_result"
    }
   ],
   "source": [
    "df[['code','code_name']].values"
   ]
  },
  {
   "cell_type": "code",
   "execution_count": 42,
   "metadata": {
    "collapsed": false
   },
   "outputs": [
    {
     "data": {
      "text/plain": [
       "'2018-03-09 23:43:35.776291'"
      ]
     },
     "execution_count": 42,
     "metadata": {},
     "output_type": "execute_result"
    }
   ],
   "source": [
    "import datetime\n",
    "str(datetime.datetime.now())"
   ]
  },
  {
   "cell_type": "code",
   "execution_count": null,
   "metadata": {
    "collapsed": true
   },
   "outputs": [],
   "source": []
  }
 ],
 "metadata": {
  "kernelspec": {
   "display_name": "Python 3",
   "language": "python",
   "name": "python3"
  },
  "language_info": {
   "codemirror_mode": {
    "name": "ipython",
    "version": 3
   },
   "file_extension": ".py",
   "mimetype": "text/x-python",
   "name": "python",
   "nbconvert_exporter": "python",
   "pygments_lexer": "ipython3",
   "version": "3.4.5"
  }
 },
 "nbformat": 4,
 "nbformat_minor": 2
}
