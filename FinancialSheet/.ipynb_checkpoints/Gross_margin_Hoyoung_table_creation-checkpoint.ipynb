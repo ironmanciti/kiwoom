{
 "cells": [
  {
   "cell_type": "code",
   "execution_count": 188,
   "metadata": {},
   "outputs": [],
   "source": [
    "#-*-coding: utf-8\n",
    "import pandas as pd\n",
    "import os"
   ]
  },
  {
   "cell_type": "code",
   "execution_count": 189,
   "metadata": {},
   "outputs": [
    {
     "data": {
      "text/plain": [
       "'C:\\\\Users\\\\trimu\\\\Desktop\\\\kiwoom\\\\FinancialSheet'"
      ]
     },
     "execution_count": 189,
     "metadata": {},
     "output_type": "execute_result"
    }
   ],
   "source": [
    "path = os.getcwd();path"
   ]
  },
  {
   "cell_type": "code",
   "execution_count": 190,
   "metadata": {},
   "outputs": [],
   "source": [
    "df_all = pd.DataFrame()\n",
    "df1 = pd.DataFrame()\n",
    "df1c = pd.DataFrame()\n",
    "df2 = pd.DataFrame()\n",
    "df2c = pd.DataFrame()\n",
    "df3= pd.DataFrame()\n",
    "df3c = pd.DataFrame()\n",
    "df4= pd.DataFrame()\n",
    "df4c = pd.DataFrame()"
   ]
  },
  {
   "cell_type": "code",
   "execution_count": 191,
   "metadata": {},
   "outputs": [],
   "source": [
    "f15 = pd.read_csv(path + \"\\\\2015_4Q_FS\\\\_2015_01_BS1_20160531.csv\")\n",
    "f16 = pd.read_csv(path + \"\\\\2016_4Q_FS\\\\_2016_01_BS1_20170524.csv\")\n",
    "f17 = pd.read_csv(path + \"\\\\2017_4Q_FS\\\\2017_3Q_01_BS1_20180131.csv\")\n",
    "f17.rename(index=str, columns={'당기 3분기말': '당기'}, inplace=True);"
   ]
  },
  {
   "cell_type": "code",
   "execution_count": 192,
   "metadata": {},
   "outputs": [
    {
     "data": {
      "text/plain": [
       "(76998, 16)"
      ]
     },
     "execution_count": 192,
     "metadata": {},
     "output_type": "execute_result"
    }
   ],
   "source": [
    "f15.shape"
   ]
  },
  {
   "cell_type": "code",
   "execution_count": 193,
   "metadata": {},
   "outputs": [
    {
     "data": {
      "text/plain": [
       "(235806, 19)"
      ]
     },
     "execution_count": 193,
     "metadata": {},
     "output_type": "execute_result"
    }
   ],
   "source": [
    "df1  = pd.concat([f15, f16, f17], axis=0)\n",
    "df1['kind'] = '1'     # 재무상태표\n",
    "df1.shape"
   ]
  },
  {
   "cell_type": "code",
   "execution_count": 195,
   "metadata": {},
   "outputs": [],
   "source": [
    "f15 = pd.read_csv(path + \"\\\\2015_4Q_FS\\\\_2015_01_BS2_20160531.csv\")\n",
    "f16 = pd.read_csv(path + \"\\\\2016_4Q_FS\\\\_2016_01_BS2_20170524.csv\")\n",
    "f17 = pd.read_csv(path + \"\\\\2017_4Q_FS\\\\2017_3Q_01_BS2_20180131.csv\")\n",
    "f17.rename(index=str, columns={'당기 3분기말': '당기'}, inplace=True);"
   ]
  },
  {
   "cell_type": "code",
   "execution_count": 196,
   "metadata": {},
   "outputs": [
    {
     "data": {
      "text/plain": [
       "(202633, 19)"
      ]
     },
     "execution_count": 196,
     "metadata": {},
     "output_type": "execute_result"
    }
   ],
   "source": [
    "df1c = pd.concat([f15, f16, f17], axis=0)\n",
    "df1c['kind'] = '1c'    #연결 재무상태표\n",
    "df1c.shape"
   ]
  },
  {
   "cell_type": "code",
   "execution_count": 197,
   "metadata": {},
   "outputs": [],
   "source": [
    "f15 = pd.read_csv(path + \"\\\\2015_4Q_FS\\\\_2015_02_PL1_20160531.csv\")\n",
    "f16 = pd.read_csv(path + \"\\\\2016_4Q_FS\\\\_2016_02_PL1_20170524.csv\")\n",
    "f17 = pd.read_csv(path + \"\\\\2017_4Q_FS\\\\2017_3Q_02_PL1_20180131.csv\")\n",
    "f17.rename(index=str, columns={'당기 3분기 누적': '당기'}, inplace=True);"
   ]
  },
  {
   "cell_type": "code",
   "execution_count": 198,
   "metadata": {},
   "outputs": [
    {
     "data": {
      "text/plain": [
       "(11556, 23)"
      ]
     },
     "execution_count": 198,
     "metadata": {},
     "output_type": "execute_result"
    }
   ],
   "source": [
    "df2 = pd.concat([f15, f16, f17], axis=0)\n",
    "df2['kind'] = '2'           # 손익계산서\n",
    "df2.shape"
   ]
  },
  {
   "cell_type": "code",
   "execution_count": 199,
   "metadata": {},
   "outputs": [],
   "source": [
    "f15 = pd.read_csv(path + \"\\\\2015_4Q_FS\\\\_2015_02_PL2_20160531.csv\")\n",
    "f16 = pd.read_csv(path + \"\\\\2016_4Q_FS\\\\_2016_02_PL2_20170524.csv\")\n",
    "f17 = pd.read_csv(path + \"\\\\2017_4Q_FS\\\\2017_3Q_02_PL2_20180131.csv\")\n",
    "f17.rename(index=str, columns={'당기 3분기 누적': '당기'}, inplace=True);"
   ]
  },
  {
   "cell_type": "code",
   "execution_count": 200,
   "metadata": {},
   "outputs": [
    {
     "data": {
      "text/plain": [
       "(12102, 23)"
      ]
     },
     "execution_count": 200,
     "metadata": {},
     "output_type": "execute_result"
    }
   ],
   "source": [
    "df2c = pd.concat([f15, f16, f17], axis=0)\n",
    "df2c['kind'] = '2c'           # 연결손익계산서\n",
    "df2c.shape"
   ]
  },
  {
   "cell_type": "code",
   "execution_count": 201,
   "metadata": {},
   "outputs": [],
   "source": [
    "f15 = pd.read_csv(path + \"\\\\2015_4Q_FS\\\\_2015_03_PL3_20160531.csv\")\n",
    "f16 = pd.read_csv(path + \"\\\\2016_4Q_FS\\\\_2016_03_PL3_20170524.csv\")\n",
    "f17 = pd.read_csv(path + \"\\\\2017_4Q_FS\\\\2017_3Q_03_PL3_20180131.csv\")\n",
    "f17.rename(index=str, columns={'당기 3분기 누적': '당기'}, inplace=True);"
   ]
  },
  {
   "cell_type": "code",
   "execution_count": 202,
   "metadata": {},
   "outputs": [
    {
     "data": {
      "text/plain": [
       "(123687, 23)"
      ]
     },
     "execution_count": 202,
     "metadata": {},
     "output_type": "execute_result"
    }
   ],
   "source": [
    "df3 = pd.concat([f15, f16, f17], axis=0)\n",
    "df3['kind'] = '3'            # 포괄손익계산서\n",
    "df3.shape"
   ]
  },
  {
   "cell_type": "code",
   "execution_count": 203,
   "metadata": {},
   "outputs": [],
   "source": [
    "f15 = pd.read_csv(path + \"\\\\2015_4Q_FS\\\\_2015_03_PL4_20160531.csv\")\n",
    "f16 = pd.read_csv(path + \"\\\\2016_4Q_FS\\\\_2016_03_PL4_20170524.csv\")\n",
    "f17 = pd.read_csv(path + \"\\\\2017_4Q_FS\\\\2017_3Q_03_PL4_20180131.csv\")\n",
    "f17.rename(index=str, columns={'당기 3분기 누적': '당기'}, inplace=True);"
   ]
  },
  {
   "cell_type": "code",
   "execution_count": 204,
   "metadata": {},
   "outputs": [
    {
     "data": {
      "text/plain": [
       "(128771, 23)"
      ]
     },
     "execution_count": 204,
     "metadata": {},
     "output_type": "execute_result"
    }
   ],
   "source": [
    "df3c = pd.concat([f15, f16, f17], axis=0)\n",
    "df3c['kind'] = '3c'        # 연결 포괄손익계산서\n",
    "df3c.shape"
   ]
  },
  {
   "cell_type": "code",
   "execution_count": 205,
   "metadata": {},
   "outputs": [],
   "source": [
    "f15 = pd.read_csv(path + \"\\\\2015_4Q_FS\\\\_2015_04_CF1_20160601.csv\")\n",
    "f16 = pd.read_csv(path + \"\\\\2016_4Q_FS\\\\_2016_04_CF1_20170524.csv\")\n",
    "f17 = pd.read_csv(path + \"\\\\2017_4Q_FS\\\\2017_3Q_04_CF1_20180131.csv\")\n",
    "f17.rename(index=str, columns={'당기 3분기': '당기'}, inplace=True);"
   ]
  },
  {
   "cell_type": "code",
   "execution_count": 206,
   "metadata": {},
   "outputs": [
    {
     "data": {
      "text/plain": [
       "(258454, 19)"
      ]
     },
     "execution_count": 206,
     "metadata": {},
     "output_type": "execute_result"
    }
   ],
   "source": [
    "df4 = pd.concat([f15, f16, f17], axis=0)\n",
    "df4['kind'] = '4'          # 현금흐름표\n",
    "df4.shape"
   ]
  },
  {
   "cell_type": "code",
   "execution_count": 207,
   "metadata": {},
   "outputs": [],
   "source": [
    "f15 = pd.read_csv(path + \"\\\\2015_4Q_FS\\\\_2015_04_CF2_20160601.csv\")\n",
    "f16 = pd.read_csv(path + \"\\\\2016_4Q_FS\\\\_2016_04_CF2_20170524.csv\")\n",
    "f17 = pd.read_csv(path + \"\\\\2017_4Q_FS\\\\2017_3Q_04_CF2_20180131.csv\")\n",
    "f17.rename(index=str, columns={'당기 3분기': '당기'}, inplace=True);"
   ]
  },
  {
   "cell_type": "code",
   "execution_count": 208,
   "metadata": {},
   "outputs": [
    {
     "data": {
      "text/plain": [
       "(224843, 19)"
      ]
     },
     "execution_count": 208,
     "metadata": {},
     "output_type": "execute_result"
    }
   ],
   "source": [
    "df4c = pd.concat([f15, f16, f17], axis=0)\n",
    "df4c['kind'] = '4c'          # 연결현금흐름표\n",
    "df4c.shape"
   ]
  },
  {
   "cell_type": "code",
   "execution_count": 209,
   "metadata": {},
   "outputs": [
    {
     "data": {
      "text/plain": [
       "(1197852, 26)"
      ]
     },
     "execution_count": 209,
     "metadata": {},
     "output_type": "execute_result"
    }
   ],
   "source": [
    "df_all = pd.concat([df1, df1c, df2, df2c, df3, df3c, df4, df4c], axis=0)\n",
    "df_all.shape"
   ]
  },
  {
   "cell_type": "code",
   "execution_count": 210,
   "metadata": {},
   "outputs": [],
   "source": [
    "df_all['항목명']    = df_all['항목명'].str.strip()\n",
    "df_all['종목코드'] = df_all['종목코드'].str.strip('[]')"
   ]
  },
  {
   "cell_type": "code",
   "execution_count": 211,
   "metadata": {},
   "outputs": [],
   "source": [
    "df_all =df_all.loc[:,['kind', '시장구분','종목코드', '회사명', '결산기준일', '항목코드', '항목명', '당기']]"
   ]
  },
  {
   "cell_type": "code",
   "execution_count": 213,
   "metadata": {},
   "outputs": [],
   "source": [
    "df_all.drop_duplicates(subset = ['kind', '종목코드', '결산기준일', '항목코드', '당기'],inplace=True)"
   ]
  },
  {
   "cell_type": "code",
   "execution_count": 214,
   "metadata": {
    "scrolled": false
   },
   "outputs": [],
   "source": [
    "df_all.rename(index=str, columns={ '시장구분': 'smarket', '종목코드':'code', '회사명': 'code_name', '결산기준일':  'closing_date',\\\n",
    "                                                 '항목코드':  'item_code', '항목명':  'item_name', '당기': 'amount'}, inplace=True);"
   ]
  },
  {
   "cell_type": "code",
   "execution_count": 215,
   "metadata": {},
   "outputs": [],
   "source": [
    "df_all.loc[df_all['smarket'] == '유가증권시장상장법인', 'smarket'] = '1'\n",
    "df_all.loc[df_all['smarket'] == '코스닥시장상장법인', 'smarket'] = '2'"
   ]
  },
  {
   "cell_type": "code",
   "execution_count": 216,
   "metadata": {
    "scrolled": true
   },
   "outputs": [
    {
     "data": {
      "text/plain": [
       "(1074040, 8)"
      ]
     },
     "execution_count": 216,
     "metadata": {},
     "output_type": "execute_result"
    }
   ],
   "source": [
    "df_all.dropna(inplace=True)\n",
    "df_all.shape"
   ]
  },
  {
   "cell_type": "code",
   "execution_count": 217,
   "metadata": {
    "scrolled": true
   },
   "outputs": [
    {
     "data": {
      "text/html": [
       "<div>\n",
       "<style scoped>\n",
       "    .dataframe tbody tr th:only-of-type {\n",
       "        vertical-align: middle;\n",
       "    }\n",
       "\n",
       "    .dataframe tbody tr th {\n",
       "        vertical-align: top;\n",
       "    }\n",
       "\n",
       "    .dataframe thead th {\n",
       "        text-align: right;\n",
       "    }\n",
       "</style>\n",
       "<table border=\"1\" class=\"dataframe\">\n",
       "  <thead>\n",
       "    <tr style=\"text-align: right;\">\n",
       "      <th></th>\n",
       "      <th>kind</th>\n",
       "      <th>smarket</th>\n",
       "      <th>code</th>\n",
       "      <th>code_name</th>\n",
       "      <th>closing_date</th>\n",
       "      <th>item_code</th>\n",
       "      <th>item_name</th>\n",
       "      <th>amount</th>\n",
       "    </tr>\n",
       "  </thead>\n",
       "  <tbody>\n",
       "    <tr>\n",
       "      <th>1670</th>\n",
       "      <td>2</td>\n",
       "      <td>1</td>\n",
       "      <td>005930</td>\n",
       "      <td>삼성전자</td>\n",
       "      <td>2015-12-31</td>\n",
       "      <td>dart_OperatingIncomeLoss</td>\n",
       "      <td>영업이익(손실)</td>\n",
       "      <td>1.339820e+13</td>\n",
       "    </tr>\n",
       "    <tr>\n",
       "      <th>1668</th>\n",
       "      <td>2</td>\n",
       "      <td>1</td>\n",
       "      <td>005930</td>\n",
       "      <td>삼성전자</td>\n",
       "      <td>2016-12-31</td>\n",
       "      <td>dart_OperatingIncomeLoss</td>\n",
       "      <td>영업이익(손실)</td>\n",
       "      <td>1.364740e+13</td>\n",
       "    </tr>\n",
       "    <tr>\n",
       "      <th>1505</th>\n",
       "      <td>2</td>\n",
       "      <td>1</td>\n",
       "      <td>005930</td>\n",
       "      <td>삼성전자</td>\n",
       "      <td>2017-09-30</td>\n",
       "      <td>dart_OperatingIncomeLoss</td>\n",
       "      <td>영업이익(손실)</td>\n",
       "      <td>2.359760e+13</td>\n",
       "    </tr>\n",
       "    <tr>\n",
       "      <th>1811</th>\n",
       "      <td>2c</td>\n",
       "      <td>1</td>\n",
       "      <td>005930</td>\n",
       "      <td>삼성전자</td>\n",
       "      <td>2015-12-31</td>\n",
       "      <td>dart_OperatingIncomeLoss</td>\n",
       "      <td>영업이익(손실)</td>\n",
       "      <td>2.641340e+13</td>\n",
       "    </tr>\n",
       "    <tr>\n",
       "      <th>1898</th>\n",
       "      <td>2c</td>\n",
       "      <td>1</td>\n",
       "      <td>005930</td>\n",
       "      <td>삼성전자</td>\n",
       "      <td>2016-12-31</td>\n",
       "      <td>dart_OperatingIncomeLoss</td>\n",
       "      <td>영업이익(손실)</td>\n",
       "      <td>2.924070e+13</td>\n",
       "    </tr>\n",
       "    <tr>\n",
       "      <th>1680</th>\n",
       "      <td>2c</td>\n",
       "      <td>1</td>\n",
       "      <td>005930</td>\n",
       "      <td>삼성전자</td>\n",
       "      <td>2017-09-30</td>\n",
       "      <td>dart_OperatingIncomeLoss</td>\n",
       "      <td>영업이익(손실)</td>\n",
       "      <td>3.849810e+13</td>\n",
       "    </tr>\n",
       "  </tbody>\n",
       "</table>\n",
       "</div>"
      ],
      "text/plain": [
       "     kind smarket    code code_name closing_date                 item_code  \\\n",
       "1670    2       1  005930      삼성전자   2015-12-31  dart_OperatingIncomeLoss   \n",
       "1668    2       1  005930      삼성전자   2016-12-31  dart_OperatingIncomeLoss   \n",
       "1505    2       1  005930      삼성전자   2017-09-30  dart_OperatingIncomeLoss   \n",
       "1811   2c       1  005930      삼성전자   2015-12-31  dart_OperatingIncomeLoss   \n",
       "1898   2c       1  005930      삼성전자   2016-12-31  dart_OperatingIncomeLoss   \n",
       "1680   2c       1  005930      삼성전자   2017-09-30  dart_OperatingIncomeLoss   \n",
       "\n",
       "     item_name        amount  \n",
       "1670  영업이익(손실)  1.339820e+13  \n",
       "1668  영업이익(손실)  1.364740e+13  \n",
       "1505  영업이익(손실)  2.359760e+13  \n",
       "1811  영업이익(손실)  2.641340e+13  \n",
       "1898  영업이익(손실)  2.924070e+13  \n",
       "1680  영업이익(손실)  3.849810e+13  "
      ]
     },
     "execution_count": 217,
     "metadata": {},
     "output_type": "execute_result"
    }
   ],
   "source": [
    "df_all[(df_all['code'] == '005930') & (df_all['item_code'] == 'dart_OperatingIncomeLoss')]"
   ]
  },
  {
   "cell_type": "code",
   "execution_count": 218,
   "metadata": {},
   "outputs": [],
   "source": [
    "import sys\n",
    "sys.path.append('../lib/')\n",
    "from dbConnect import *\n",
    "import sqlalchemy"
   ]
  },
  {
   "cell_type": "code",
   "execution_count": 219,
   "metadata": {
    "scrolled": false
   },
   "outputs": [],
   "source": [
    "df_all.to_sql('financesheet', con=engine, if_exists='replace', index=False, \\\n",
    "                                        dtype={'kind': sqlalchemy.types.CHAR(2),\n",
    "                                               'smarket': sqlalchemy.types.VARCHAR(2),\n",
    "                                               'code': sqlalchemy.types.CHAR(6),\n",
    "                                               'code_name': sqlalchemy.types.VARCHAR(255),\n",
    "                                               'closing_date': sqlalchemy.types.VARCHAR(10),\n",
    "                                               'item_code':  sqlalchemy.types.VARCHAR(255),\n",
    "                                               'item_name':  sqlalchemy.types.VARCHAR(255),\n",
    "                                               'amount': sqlalchemy.types.Float})"
   ]
  },
  {
   "cell_type": "code",
   "execution_count": null,
   "metadata": {},
   "outputs": [],
   "source": []
  }
 ],
 "metadata": {
  "kernelspec": {
   "display_name": "Python 3",
   "language": "python",
   "name": "python3"
  },
  "language_info": {
   "codemirror_mode": {
    "name": "ipython",
    "version": 3
   },
   "file_extension": ".py",
   "mimetype": "text/x-python",
   "name": "python",
   "nbconvert_exporter": "python",
   "pygments_lexer": "ipython3",
   "version": "3.6.4"
  }
 },
 "nbformat": 4,
 "nbformat_minor": 2
}
