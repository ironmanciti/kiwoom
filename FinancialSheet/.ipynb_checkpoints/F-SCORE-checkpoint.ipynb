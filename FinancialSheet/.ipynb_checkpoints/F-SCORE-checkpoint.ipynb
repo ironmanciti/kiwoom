{
 "cells": [
  {
   "cell_type": "code",
   "execution_count": 37,
   "metadata": {},
   "outputs": [
    {
     "ename": "NameError",
     "evalue": "name 'reload' is not defined",
     "output_type": "error",
     "traceback": [
      "\u001b[1;31m---------------------------------------------------------------------------\u001b[0m",
      "\u001b[1;31mNameError\u001b[0m                                 Traceback (most recent call last)",
      "\u001b[1;32m<ipython-input-37-3bbe805aeb3f>\u001b[0m in \u001b[0;36m<module>\u001b[1;34m()\u001b[0m\n\u001b[0;32m      1\u001b[0m \u001b[1;31m#-*-coding: utf-8\u001b[0m\u001b[1;33m\u001b[0m\u001b[1;33m\u001b[0m\u001b[0m\n\u001b[0;32m      2\u001b[0m \u001b[1;32mimport\u001b[0m \u001b[0msys\u001b[0m\u001b[1;33m\u001b[0m\u001b[0m\n\u001b[1;32m----> 3\u001b[1;33m \u001b[0mreload\u001b[0m\u001b[1;33m(\u001b[0m\u001b[0msys\u001b[0m\u001b[1;33m)\u001b[0m\u001b[1;33m\u001b[0m\u001b[0m\n\u001b[0m\u001b[0;32m      4\u001b[0m \u001b[0msys\u001b[0m\u001b[1;33m.\u001b[0m\u001b[0msetdefaultencoding\u001b[0m\u001b[1;33m(\u001b[0m\u001b[1;34m'utf-8'\u001b[0m\u001b[1;33m)\u001b[0m\u001b[1;33m\u001b[0m\u001b[0m\n\u001b[0;32m      5\u001b[0m \u001b[1;32mimport\u001b[0m \u001b[0mpandas\u001b[0m \u001b[1;32mas\u001b[0m \u001b[0mpd\u001b[0m\u001b[1;33m\u001b[0m\u001b[0m\n",
      "\u001b[1;31mNameError\u001b[0m: name 'reload' is not defined"
     ]
    }
   ],
   "source": [
    "import pandas as pd\n",
    "import os"
   ]
  },
  {
   "cell_type": "code",
   "execution_count": 29,
   "metadata": {},
   "outputs": [
    {
     "data": {
      "text/plain": [
       "'D:\\\\FinancialSheet'"
      ]
     },
     "execution_count": 29,
     "metadata": {},
     "output_type": "execute_result"
    }
   ],
   "source": [
    "path = os.getcwd();path"
   ]
  },
  {
   "cell_type": "code",
   "execution_count": 30,
   "metadata": {},
   "outputs": [
    {
     "data": {
      "text/plain": [
       "'D:\\\\FinancialSheet'"
      ]
     },
     "execution_count": 30,
     "metadata": {},
     "output_type": "execute_result"
    }
   ],
   "source": [
    "pwd"
   ]
  },
  {
   "cell_type": "code",
   "execution_count": 34,
   "metadata": {},
   "outputs": [],
   "source": [
    "df15 = pd.read_csv(path + \"\\\\2015_4Q_FS\\\\_2015_사업보고서_01_재무상태표_20160531.csv\", engine='python')\n",
    "df16 = pd.read_csv(path + \"\\\\2016_4Q_FS\\\\_2016_사업보고서_01_재무상태표_20170524.csv\", engine='python')"
   ]
  },
  {
   "cell_type": "markdown",
   "metadata": {},
   "source": [
    "#df.columns\n",
    "\n",
    "df.columns =['재무제표종류', '종목코드', '회사명', '시장구분', '업종', '업종명', '결산월', '결산기준일', '보고서종류',\n",
    "       '통화', '항목코드', '항목명', '당기', '전기', '전전기', 'Column1']"
   ]
  },
  {
   "cell_type": "code",
   "execution_count": 35,
   "metadata": {},
   "outputs": [
    {
     "data": {
      "text/plain": [
       "Index(['癤우옱臾댁젣�몴醫낅쪟', '醫낅ぉ肄붾뱶', '�쉶�궗紐�', '�떆�옣援щ텇', '�뾽醫�', '�뾽醫낅챸', '寃곗궛�썡',\n",
       "       '寃곗궛湲곗���씪', '蹂닿퀬�꽌醫낅쪟', '�넻�솕', '�빆紐⑹퐫�뱶', '�빆紐⑸챸', '�떦湲�', '�쟾湲�',\n",
       "       '�쟾�쟾湲�', 'Column1'],\n",
       "      dtype='object')"
      ]
     },
     "execution_count": 35,
     "metadata": {},
     "output_type": "execute_result"
    }
   ],
   "source": [
    "#df15.columns\n",
    "df16.columns"
   ]
  },
  {
   "cell_type": "code",
   "execution_count": 33,
   "metadata": {},
   "outputs": [
    {
     "ename": "KeyError",
     "evalue": "'항목명'",
     "output_type": "error",
     "traceback": [
      "\u001b[1;31m---------------------------------------------------------------------------\u001b[0m",
      "\u001b[1;31mKeyError\u001b[0m                                  Traceback (most recent call last)",
      "\u001b[1;32m~\\Anaconda3\\lib\\site-packages\\pandas\\core\\indexes\\base.py\u001b[0m in \u001b[0;36mget_loc\u001b[1;34m(self, key, method, tolerance)\u001b[0m\n\u001b[0;32m   2441\u001b[0m             \u001b[1;32mtry\u001b[0m\u001b[1;33m:\u001b[0m\u001b[1;33m\u001b[0m\u001b[0m\n\u001b[1;32m-> 2442\u001b[1;33m                 \u001b[1;32mreturn\u001b[0m \u001b[0mself\u001b[0m\u001b[1;33m.\u001b[0m\u001b[0m_engine\u001b[0m\u001b[1;33m.\u001b[0m\u001b[0mget_loc\u001b[0m\u001b[1;33m(\u001b[0m\u001b[0mkey\u001b[0m\u001b[1;33m)\u001b[0m\u001b[1;33m\u001b[0m\u001b[0m\n\u001b[0m\u001b[0;32m   2443\u001b[0m             \u001b[1;32mexcept\u001b[0m \u001b[0mKeyError\u001b[0m\u001b[1;33m:\u001b[0m\u001b[1;33m\u001b[0m\u001b[0m\n",
      "\u001b[1;32mpandas\\_libs\\index.pyx\u001b[0m in \u001b[0;36mpandas._libs.index.IndexEngine.get_loc\u001b[1;34m()\u001b[0m\n",
      "\u001b[1;32mpandas\\_libs\\index.pyx\u001b[0m in \u001b[0;36mpandas._libs.index.IndexEngine.get_loc\u001b[1;34m()\u001b[0m\n",
      "\u001b[1;32mpandas\\_libs\\hashtable_class_helper.pxi\u001b[0m in \u001b[0;36mpandas._libs.hashtable.PyObjectHashTable.get_item\u001b[1;34m()\u001b[0m\n",
      "\u001b[1;32mpandas\\_libs\\hashtable_class_helper.pxi\u001b[0m in \u001b[0;36mpandas._libs.hashtable.PyObjectHashTable.get_item\u001b[1;34m()\u001b[0m\n",
      "\u001b[1;31mKeyError\u001b[0m: '항목명'",
      "\nDuring handling of the above exception, another exception occurred:\n",
      "\u001b[1;31mKeyError\u001b[0m                                  Traceback (most recent call last)",
      "\u001b[1;32m<ipython-input-33-6e66e0ae7cf0>\u001b[0m in \u001b[0;36m<module>\u001b[1;34m()\u001b[0m\n\u001b[1;32m----> 1\u001b[1;33m \u001b[0mdf15\u001b[0m\u001b[1;33m[\u001b[0m\u001b[1;34m'항목명'\u001b[0m\u001b[1;33m]\u001b[0m \u001b[1;33m=\u001b[0m \u001b[0mdf15\u001b[0m\u001b[1;33m[\u001b[0m\u001b[1;34m'항목명'\u001b[0m\u001b[1;33m]\u001b[0m\u001b[1;33m.\u001b[0m\u001b[0mstr\u001b[0m\u001b[1;33m.\u001b[0m\u001b[0mstrip\u001b[0m\u001b[1;33m(\u001b[0m\u001b[1;33m)\u001b[0m\u001b[1;33m\u001b[0m\u001b[0m\n\u001b[0m\u001b[0;32m      2\u001b[0m \u001b[0mdf16\u001b[0m\u001b[1;33m[\u001b[0m\u001b[1;34m'항목명'\u001b[0m\u001b[1;33m]\u001b[0m \u001b[1;33m=\u001b[0m \u001b[0mdf16\u001b[0m\u001b[1;33m[\u001b[0m\u001b[1;34m'항목명'\u001b[0m\u001b[1;33m]\u001b[0m\u001b[1;33m.\u001b[0m\u001b[0mstr\u001b[0m\u001b[1;33m.\u001b[0m\u001b[0mstrip\u001b[0m\u001b[1;33m(\u001b[0m\u001b[1;33m)\u001b[0m\u001b[1;33m\u001b[0m\u001b[0m\n",
      "\u001b[1;32m~\\Anaconda3\\lib\\site-packages\\pandas\\core\\frame.py\u001b[0m in \u001b[0;36m__getitem__\u001b[1;34m(self, key)\u001b[0m\n\u001b[0;32m   1962\u001b[0m             \u001b[1;32mreturn\u001b[0m \u001b[0mself\u001b[0m\u001b[1;33m.\u001b[0m\u001b[0m_getitem_multilevel\u001b[0m\u001b[1;33m(\u001b[0m\u001b[0mkey\u001b[0m\u001b[1;33m)\u001b[0m\u001b[1;33m\u001b[0m\u001b[0m\n\u001b[0;32m   1963\u001b[0m         \u001b[1;32melse\u001b[0m\u001b[1;33m:\u001b[0m\u001b[1;33m\u001b[0m\u001b[0m\n\u001b[1;32m-> 1964\u001b[1;33m             \u001b[1;32mreturn\u001b[0m \u001b[0mself\u001b[0m\u001b[1;33m.\u001b[0m\u001b[0m_getitem_column\u001b[0m\u001b[1;33m(\u001b[0m\u001b[0mkey\u001b[0m\u001b[1;33m)\u001b[0m\u001b[1;33m\u001b[0m\u001b[0m\n\u001b[0m\u001b[0;32m   1965\u001b[0m \u001b[1;33m\u001b[0m\u001b[0m\n\u001b[0;32m   1966\u001b[0m     \u001b[1;32mdef\u001b[0m \u001b[0m_getitem_column\u001b[0m\u001b[1;33m(\u001b[0m\u001b[0mself\u001b[0m\u001b[1;33m,\u001b[0m \u001b[0mkey\u001b[0m\u001b[1;33m)\u001b[0m\u001b[1;33m:\u001b[0m\u001b[1;33m\u001b[0m\u001b[0m\n",
      "\u001b[1;32m~\\Anaconda3\\lib\\site-packages\\pandas\\core\\frame.py\u001b[0m in \u001b[0;36m_getitem_column\u001b[1;34m(self, key)\u001b[0m\n\u001b[0;32m   1969\u001b[0m         \u001b[1;31m# get column\u001b[0m\u001b[1;33m\u001b[0m\u001b[1;33m\u001b[0m\u001b[0m\n\u001b[0;32m   1970\u001b[0m         \u001b[1;32mif\u001b[0m \u001b[0mself\u001b[0m\u001b[1;33m.\u001b[0m\u001b[0mcolumns\u001b[0m\u001b[1;33m.\u001b[0m\u001b[0mis_unique\u001b[0m\u001b[1;33m:\u001b[0m\u001b[1;33m\u001b[0m\u001b[0m\n\u001b[1;32m-> 1971\u001b[1;33m             \u001b[1;32mreturn\u001b[0m \u001b[0mself\u001b[0m\u001b[1;33m.\u001b[0m\u001b[0m_get_item_cache\u001b[0m\u001b[1;33m(\u001b[0m\u001b[0mkey\u001b[0m\u001b[1;33m)\u001b[0m\u001b[1;33m\u001b[0m\u001b[0m\n\u001b[0m\u001b[0;32m   1972\u001b[0m \u001b[1;33m\u001b[0m\u001b[0m\n\u001b[0;32m   1973\u001b[0m         \u001b[1;31m# duplicate columns & possible reduce dimensionality\u001b[0m\u001b[1;33m\u001b[0m\u001b[1;33m\u001b[0m\u001b[0m\n",
      "\u001b[1;32m~\\Anaconda3\\lib\\site-packages\\pandas\\core\\generic.py\u001b[0m in \u001b[0;36m_get_item_cache\u001b[1;34m(self, item)\u001b[0m\n\u001b[0;32m   1643\u001b[0m         \u001b[0mres\u001b[0m \u001b[1;33m=\u001b[0m \u001b[0mcache\u001b[0m\u001b[1;33m.\u001b[0m\u001b[0mget\u001b[0m\u001b[1;33m(\u001b[0m\u001b[0mitem\u001b[0m\u001b[1;33m)\u001b[0m\u001b[1;33m\u001b[0m\u001b[0m\n\u001b[0;32m   1644\u001b[0m         \u001b[1;32mif\u001b[0m \u001b[0mres\u001b[0m \u001b[1;32mis\u001b[0m \u001b[1;32mNone\u001b[0m\u001b[1;33m:\u001b[0m\u001b[1;33m\u001b[0m\u001b[0m\n\u001b[1;32m-> 1645\u001b[1;33m             \u001b[0mvalues\u001b[0m \u001b[1;33m=\u001b[0m \u001b[0mself\u001b[0m\u001b[1;33m.\u001b[0m\u001b[0m_data\u001b[0m\u001b[1;33m.\u001b[0m\u001b[0mget\u001b[0m\u001b[1;33m(\u001b[0m\u001b[0mitem\u001b[0m\u001b[1;33m)\u001b[0m\u001b[1;33m\u001b[0m\u001b[0m\n\u001b[0m\u001b[0;32m   1646\u001b[0m             \u001b[0mres\u001b[0m \u001b[1;33m=\u001b[0m \u001b[0mself\u001b[0m\u001b[1;33m.\u001b[0m\u001b[0m_box_item_values\u001b[0m\u001b[1;33m(\u001b[0m\u001b[0mitem\u001b[0m\u001b[1;33m,\u001b[0m \u001b[0mvalues\u001b[0m\u001b[1;33m)\u001b[0m\u001b[1;33m\u001b[0m\u001b[0m\n\u001b[0;32m   1647\u001b[0m             \u001b[0mcache\u001b[0m\u001b[1;33m[\u001b[0m\u001b[0mitem\u001b[0m\u001b[1;33m]\u001b[0m \u001b[1;33m=\u001b[0m \u001b[0mres\u001b[0m\u001b[1;33m\u001b[0m\u001b[0m\n",
      "\u001b[1;32m~\\Anaconda3\\lib\\site-packages\\pandas\\core\\internals.py\u001b[0m in \u001b[0;36mget\u001b[1;34m(self, item, fastpath)\u001b[0m\n\u001b[0;32m   3588\u001b[0m \u001b[1;33m\u001b[0m\u001b[0m\n\u001b[0;32m   3589\u001b[0m             \u001b[1;32mif\u001b[0m \u001b[1;32mnot\u001b[0m \u001b[0misnull\u001b[0m\u001b[1;33m(\u001b[0m\u001b[0mitem\u001b[0m\u001b[1;33m)\u001b[0m\u001b[1;33m:\u001b[0m\u001b[1;33m\u001b[0m\u001b[0m\n\u001b[1;32m-> 3590\u001b[1;33m                 \u001b[0mloc\u001b[0m \u001b[1;33m=\u001b[0m \u001b[0mself\u001b[0m\u001b[1;33m.\u001b[0m\u001b[0mitems\u001b[0m\u001b[1;33m.\u001b[0m\u001b[0mget_loc\u001b[0m\u001b[1;33m(\u001b[0m\u001b[0mitem\u001b[0m\u001b[1;33m)\u001b[0m\u001b[1;33m\u001b[0m\u001b[0m\n\u001b[0m\u001b[0;32m   3591\u001b[0m             \u001b[1;32melse\u001b[0m\u001b[1;33m:\u001b[0m\u001b[1;33m\u001b[0m\u001b[0m\n\u001b[0;32m   3592\u001b[0m                 \u001b[0mindexer\u001b[0m \u001b[1;33m=\u001b[0m \u001b[0mnp\u001b[0m\u001b[1;33m.\u001b[0m\u001b[0marange\u001b[0m\u001b[1;33m(\u001b[0m\u001b[0mlen\u001b[0m\u001b[1;33m(\u001b[0m\u001b[0mself\u001b[0m\u001b[1;33m.\u001b[0m\u001b[0mitems\u001b[0m\u001b[1;33m)\u001b[0m\u001b[1;33m)\u001b[0m\u001b[1;33m[\u001b[0m\u001b[0misnull\u001b[0m\u001b[1;33m(\u001b[0m\u001b[0mself\u001b[0m\u001b[1;33m.\u001b[0m\u001b[0mitems\u001b[0m\u001b[1;33m)\u001b[0m\u001b[1;33m]\u001b[0m\u001b[1;33m\u001b[0m\u001b[0m\n",
      "\u001b[1;32m~\\Anaconda3\\lib\\site-packages\\pandas\\core\\indexes\\base.py\u001b[0m in \u001b[0;36mget_loc\u001b[1;34m(self, key, method, tolerance)\u001b[0m\n\u001b[0;32m   2442\u001b[0m                 \u001b[1;32mreturn\u001b[0m \u001b[0mself\u001b[0m\u001b[1;33m.\u001b[0m\u001b[0m_engine\u001b[0m\u001b[1;33m.\u001b[0m\u001b[0mget_loc\u001b[0m\u001b[1;33m(\u001b[0m\u001b[0mkey\u001b[0m\u001b[1;33m)\u001b[0m\u001b[1;33m\u001b[0m\u001b[0m\n\u001b[0;32m   2443\u001b[0m             \u001b[1;32mexcept\u001b[0m \u001b[0mKeyError\u001b[0m\u001b[1;33m:\u001b[0m\u001b[1;33m\u001b[0m\u001b[0m\n\u001b[1;32m-> 2444\u001b[1;33m                 \u001b[1;32mreturn\u001b[0m \u001b[0mself\u001b[0m\u001b[1;33m.\u001b[0m\u001b[0m_engine\u001b[0m\u001b[1;33m.\u001b[0m\u001b[0mget_loc\u001b[0m\u001b[1;33m(\u001b[0m\u001b[0mself\u001b[0m\u001b[1;33m.\u001b[0m\u001b[0m_maybe_cast_indexer\u001b[0m\u001b[1;33m(\u001b[0m\u001b[0mkey\u001b[0m\u001b[1;33m)\u001b[0m\u001b[1;33m)\u001b[0m\u001b[1;33m\u001b[0m\u001b[0m\n\u001b[0m\u001b[0;32m   2445\u001b[0m \u001b[1;33m\u001b[0m\u001b[0m\n\u001b[0;32m   2446\u001b[0m         \u001b[0mindexer\u001b[0m \u001b[1;33m=\u001b[0m \u001b[0mself\u001b[0m\u001b[1;33m.\u001b[0m\u001b[0mget_indexer\u001b[0m\u001b[1;33m(\u001b[0m\u001b[1;33m[\u001b[0m\u001b[0mkey\u001b[0m\u001b[1;33m]\u001b[0m\u001b[1;33m,\u001b[0m \u001b[0mmethod\u001b[0m\u001b[1;33m=\u001b[0m\u001b[0mmethod\u001b[0m\u001b[1;33m,\u001b[0m \u001b[0mtolerance\u001b[0m\u001b[1;33m=\u001b[0m\u001b[0mtolerance\u001b[0m\u001b[1;33m)\u001b[0m\u001b[1;33m\u001b[0m\u001b[0m\n",
      "\u001b[1;32mpandas\\_libs\\index.pyx\u001b[0m in \u001b[0;36mpandas._libs.index.IndexEngine.get_loc\u001b[1;34m()\u001b[0m\n",
      "\u001b[1;32mpandas\\_libs\\index.pyx\u001b[0m in \u001b[0;36mpandas._libs.index.IndexEngine.get_loc\u001b[1;34m()\u001b[0m\n",
      "\u001b[1;32mpandas\\_libs\\hashtable_class_helper.pxi\u001b[0m in \u001b[0;36mpandas._libs.hashtable.PyObjectHashTable.get_item\u001b[1;34m()\u001b[0m\n",
      "\u001b[1;32mpandas\\_libs\\hashtable_class_helper.pxi\u001b[0m in \u001b[0;36mpandas._libs.hashtable.PyObjectHashTable.get_item\u001b[1;34m()\u001b[0m\n",
      "\u001b[1;31mKeyError\u001b[0m: '항목명'"
     ]
    }
   ],
   "source": [
    "df15['항목명'] = df15['항목명'].str.strip()\n",
    "df16['항목명'] = df16['항목명'].str.strip()"
   ]
  },
  {
   "cell_type": "code",
   "execution_count": 6,
   "metadata": {},
   "outputs": [],
   "source": [
    "#df15['항목명'] == '자본금'"
   ]
  },
  {
   "cell_type": "code",
   "execution_count": 7,
   "metadata": {},
   "outputs": [],
   "source": [
    "bs115 = df15.loc[:,['시장구분','종목코드', '회사명', '결산기준일', '항목코드', '항목명', '당기', '전기', '전전기']]\n",
    "bs116 = df16.loc[:,['시장구분','종목코드', '회사명', '결산기준일', '항목코드', '항목명', '당기', '전기', '전전기']]"
   ]
  },
  {
   "cell_type": "code",
   "execution_count": 8,
   "metadata": {},
   "outputs": [
    {
     "data": {
      "text/html": [
       "<div>\n",
       "<table border=\"1\" class=\"dataframe\">\n",
       "  <thead>\n",
       "    <tr style=\"text-align: right;\">\n",
       "      <th></th>\n",
       "      <th>시장구분</th>\n",
       "      <th>종목코드</th>\n",
       "      <th>회사명</th>\n",
       "      <th>결산기준일</th>\n",
       "      <th>항목코드</th>\n",
       "      <th>항목명</th>\n",
       "      <th>당기</th>\n",
       "      <th>전기</th>\n",
       "      <th>전전기</th>\n",
       "    </tr>\n",
       "  </thead>\n",
       "  <tbody>\n",
       "    <tr>\n",
       "      <th>0</th>\n",
       "      <td>코스닥시장상장법인</td>\n",
       "      <td>[060310]</td>\n",
       "      <td>3S</td>\n",
       "      <td>2015-03-31</td>\n",
       "      <td>ifrs_AssetsAbstract</td>\n",
       "      <td>자산 [abstract]</td>\n",
       "      <td>NaN</td>\n",
       "      <td>NaN</td>\n",
       "      <td>NaN</td>\n",
       "    </tr>\n",
       "    <tr>\n",
       "      <th>1</th>\n",
       "      <td>코스닥시장상장법인</td>\n",
       "      <td>[060310]</td>\n",
       "      <td>3S</td>\n",
       "      <td>2015-03-31</td>\n",
       "      <td>ifrs_CurrentAssets</td>\n",
       "      <td>유동자산</td>\n",
       "      <td>1.490718e+10</td>\n",
       "      <td>1.682680e+10</td>\n",
       "      <td>1.869050e+10</td>\n",
       "    </tr>\n",
       "  </tbody>\n",
       "</table>\n",
       "</div>"
      ],
      "text/plain": [
       "        시장구분      종목코드 회사명       결산기준일                 항목코드            항목명  \\\n",
       "0  코스닥시장상장법인  [060310]  3S  2015-03-31  ifrs_AssetsAbstract  자산 [abstract]   \n",
       "1  코스닥시장상장법인  [060310]  3S  2015-03-31   ifrs_CurrentAssets           유동자산   \n",
       "\n",
       "             당기            전기           전전기  \n",
       "0           NaN           NaN           NaN  \n",
       "1  1.490718e+10  1.682680e+10  1.869050e+10  "
      ]
     },
     "execution_count": 8,
     "metadata": {},
     "output_type": "execute_result"
    }
   ],
   "source": [
    "bs115.head(2)"
   ]
  },
  {
   "cell_type": "code",
   "execution_count": 9,
   "metadata": {
    "collapsed": true
   },
   "outputs": [],
   "source": [
    "df15 = pd.read_csv(path + \"\\\\2015_4Q_FS\\\\_2015_사업보고서_01_재무상태표_연결_20160531.csv\")\n",
    "df16 = pd.read_csv(path + \"\\\\2016_4Q_FS\\\\_2016_사업보고서_01_재무상태표_연결_20170524.csv\")"
   ]
  },
  {
   "cell_type": "code",
   "execution_count": 10,
   "metadata": {
    "collapsed": true
   },
   "outputs": [],
   "source": [
    "df15['항목명'] = df15['항목명'].str.strip()\n",
    "df16['항목명'] = df16['항목명'].str.strip()"
   ]
  },
  {
   "cell_type": "code",
   "execution_count": 11,
   "metadata": {
    "collapsed": true
   },
   "outputs": [],
   "source": [
    "bs215 = df15.loc[:,['시장구분','종목코드', '회사명', '결산기준일', '항목코드', '항목명', '당기', '전기', '전전기']]\n",
    "bs216 = df16.loc[:,['시장구분','종목코드', '회사명', '결산기준일', '항목코드', '항목명', '당기', '전기', '전전기']]"
   ]
  },
  {
   "cell_type": "code",
   "execution_count": 12,
   "metadata": {},
   "outputs": [
    {
     "data": {
      "text/html": [
       "<div>\n",
       "<table border=\"1\" class=\"dataframe\">\n",
       "  <thead>\n",
       "    <tr style=\"text-align: right;\">\n",
       "      <th></th>\n",
       "      <th>시장구분</th>\n",
       "      <th>종목코드</th>\n",
       "      <th>회사명</th>\n",
       "      <th>결산기준일</th>\n",
       "      <th>항목코드</th>\n",
       "      <th>항목명</th>\n",
       "      <th>당기</th>\n",
       "      <th>전기</th>\n",
       "      <th>전전기</th>\n",
       "    </tr>\n",
       "  </thead>\n",
       "  <tbody>\n",
       "    <tr>\n",
       "      <th>0</th>\n",
       "      <td>코스닥시장상장법인</td>\n",
       "      <td>[060310]</td>\n",
       "      <td>3S</td>\n",
       "      <td>2015-03-31</td>\n",
       "      <td>ifrs_AssetsAbstract</td>\n",
       "      <td>자산 [abstract]</td>\n",
       "      <td>NaN</td>\n",
       "      <td>NaN</td>\n",
       "      <td>NaN</td>\n",
       "    </tr>\n",
       "    <tr>\n",
       "      <th>1</th>\n",
       "      <td>코스닥시장상장법인</td>\n",
       "      <td>[060310]</td>\n",
       "      <td>3S</td>\n",
       "      <td>2015-03-31</td>\n",
       "      <td>ifrs_CurrentAssets</td>\n",
       "      <td>유동자산</td>\n",
       "      <td>1.606908e+10</td>\n",
       "      <td>1.812689e+10</td>\n",
       "      <td>1.952282e+10</td>\n",
       "    </tr>\n",
       "  </tbody>\n",
       "</table>\n",
       "</div>"
      ],
      "text/plain": [
       "        시장구분      종목코드 회사명       결산기준일                 항목코드            항목명  \\\n",
       "0  코스닥시장상장법인  [060310]  3S  2015-03-31  ifrs_AssetsAbstract  자산 [abstract]   \n",
       "1  코스닥시장상장법인  [060310]  3S  2015-03-31   ifrs_CurrentAssets           유동자산   \n",
       "\n",
       "             당기            전기           전전기  \n",
       "0           NaN           NaN           NaN  \n",
       "1  1.606908e+10  1.812689e+10  1.952282e+10  "
      ]
     },
     "execution_count": 12,
     "metadata": {},
     "output_type": "execute_result"
    }
   ],
   "source": [
    "bs215.head(2)"
   ]
  },
  {
   "cell_type": "code",
   "execution_count": 13,
   "metadata": {
    "collapsed": true
   },
   "outputs": [],
   "source": [
    "df15 = pd.read_csv(path + \"\\\\2015_4Q_FS\\\\_2015_사업보고서_02_손익계산서_20160531.csv\")\n",
    "df16 = pd.read_csv(path + \"\\\\2016_4Q_FS\\\\_2016_사업보고서_02_손익계산서_20170524.csv\")"
   ]
  },
  {
   "cell_type": "code",
   "execution_count": 14,
   "metadata": {
    "collapsed": true
   },
   "outputs": [],
   "source": [
    "df15['항목명'] = df15['항목명'].str.strip()\n",
    "df16['항목명'] = df16['항목명'].str.strip()"
   ]
  },
  {
   "cell_type": "code",
   "execution_count": 15,
   "metadata": {
    "collapsed": true
   },
   "outputs": [],
   "source": [
    "pl115= df15.loc[:,['시장구분','종목코드', '회사명', '결산기준일', '항목코드', '항목명', '당기', '전기', '전전기']]\n",
    "pl116= df16.loc[:,['시장구분','종목코드', '회사명', '결산기준일', '항목코드', '항목명', '당기', '전기', '전전기']]"
   ]
  },
  {
   "cell_type": "code",
   "execution_count": 16,
   "metadata": {},
   "outputs": [
    {
     "data": {
      "text/html": [
       "<div>\n",
       "<table border=\"1\" class=\"dataframe\">\n",
       "  <thead>\n",
       "    <tr style=\"text-align: right;\">\n",
       "      <th></th>\n",
       "      <th>시장구분</th>\n",
       "      <th>종목코드</th>\n",
       "      <th>회사명</th>\n",
       "      <th>결산기준일</th>\n",
       "      <th>항목코드</th>\n",
       "      <th>항목명</th>\n",
       "      <th>당기</th>\n",
       "      <th>전기</th>\n",
       "      <th>전전기</th>\n",
       "    </tr>\n",
       "  </thead>\n",
       "  <tbody>\n",
       "    <tr>\n",
       "      <th>0</th>\n",
       "      <td>유가증권시장상장법인</td>\n",
       "      <td>[001040]</td>\n",
       "      <td>CJ</td>\n",
       "      <td>2015-12-31</td>\n",
       "      <td>ifrs_Revenue</td>\n",
       "      <td>영업수익</td>\n",
       "      <td>1.036240e+11</td>\n",
       "      <td>9.849757e+10</td>\n",
       "      <td>9.035173e+10</td>\n",
       "    </tr>\n",
       "    <tr>\n",
       "      <th>1</th>\n",
       "      <td>유가증권시장상장법인</td>\n",
       "      <td>[001040]</td>\n",
       "      <td>CJ</td>\n",
       "      <td>2015-12-31</td>\n",
       "      <td>ifrs_RevenueFromRoyalties</td>\n",
       "      <td>로열티수익(매출액)</td>\n",
       "      <td>7.572452e+10</td>\n",
       "      <td>7.335013e+10</td>\n",
       "      <td>6.476918e+10</td>\n",
       "    </tr>\n",
       "  </tbody>\n",
       "</table>\n",
       "</div>"
      ],
      "text/plain": [
       "         시장구분      종목코드 회사명       결산기준일                       항목코드  \\\n",
       "0  유가증권시장상장법인  [001040]  CJ  2015-12-31               ifrs_Revenue   \n",
       "1  유가증권시장상장법인  [001040]  CJ  2015-12-31  ifrs_RevenueFromRoyalties   \n",
       "\n",
       "          항목명            당기            전기           전전기  \n",
       "0        영업수익  1.036240e+11  9.849757e+10  9.035173e+10  \n",
       "1  로열티수익(매출액)  7.572452e+10  7.335013e+10  6.476918e+10  "
      ]
     },
     "execution_count": 16,
     "metadata": {},
     "output_type": "execute_result"
    }
   ],
   "source": [
    "pl115.head(2)"
   ]
  },
  {
   "cell_type": "code",
   "execution_count": 17,
   "metadata": {
    "collapsed": true
   },
   "outputs": [],
   "source": [
    "df15 = pd.read_csv(path + \"\\\\2015_4Q_FS\\\\_2015_사업보고서_02_손익계산서_연결_20160531.csv\")\n",
    "df16 = pd.read_csv(path + \"\\\\2016_4Q_FS\\\\_2016_사업보고서_02_손익계산서_연결_20170524.csv\")"
   ]
  },
  {
   "cell_type": "code",
   "execution_count": 18,
   "metadata": {
    "collapsed": true
   },
   "outputs": [],
   "source": [
    "df15['항목명'] = df15['항목명'].str.strip()\n",
    "df16['항목명'] = df16['항목명'].str.strip()"
   ]
  },
  {
   "cell_type": "code",
   "execution_count": 19,
   "metadata": {},
   "outputs": [
    {
     "data": {
      "text/plain": [
       "Index(['﻿재무제표종류', '종목코드', '회사명', '시장구분', '업종', '업종명', '결산월', '결산기준일', '보고서종류',\n",
       "       '통화', '항목코드', '항목명', 'Column1', '당기', '_1', '_2', '전기', '전전기', '_3'],\n",
       "      dtype='object')"
      ]
     },
     "execution_count": 19,
     "metadata": {},
     "output_type": "execute_result"
    }
   ],
   "source": [
    "df15.columns"
   ]
  },
  {
   "cell_type": "code",
   "execution_count": 20,
   "metadata": {
    "collapsed": true
   },
   "outputs": [],
   "source": [
    "pl215= df15.loc[:,['시장구분','종목코드', '회사명', '결산기준일', '항목코드', '항목명', '당기', '전기', '전전기']]\n",
    "pl216= df16.loc[:,['시장구분','종목코드', '회사명', '결산기준일', '항목코드', '항목명', '당기', '전기', '전전기']]"
   ]
  },
  {
   "cell_type": "code",
   "execution_count": 21,
   "metadata": {},
   "outputs": [
    {
     "data": {
      "text/html": [
       "<div>\n",
       "<table border=\"1\" class=\"dataframe\">\n",
       "  <thead>\n",
       "    <tr style=\"text-align: right;\">\n",
       "      <th></th>\n",
       "      <th>시장구분</th>\n",
       "      <th>종목코드</th>\n",
       "      <th>회사명</th>\n",
       "      <th>결산기준일</th>\n",
       "      <th>항목코드</th>\n",
       "      <th>항목명</th>\n",
       "      <th>당기</th>\n",
       "      <th>전기</th>\n",
       "      <th>전전기</th>\n",
       "    </tr>\n",
       "  </thead>\n",
       "  <tbody>\n",
       "    <tr>\n",
       "      <th>0</th>\n",
       "      <td>유가증권시장상장법인</td>\n",
       "      <td>[001040]</td>\n",
       "      <td>CJ</td>\n",
       "      <td>2015-12-31</td>\n",
       "      <td>ifrs_Revenue</td>\n",
       "      <td>영업수익</td>\n",
       "      <td>2.116670e+13</td>\n",
       "      <td>1.957230e+13</td>\n",
       "      <td>1.885170e+13</td>\n",
       "    </tr>\n",
       "    <tr>\n",
       "      <th>1</th>\n",
       "      <td>유가증권시장상장법인</td>\n",
       "      <td>[001040]</td>\n",
       "      <td>CJ</td>\n",
       "      <td>2015-12-31</td>\n",
       "      <td>ifrs_RevenueFromSaleOfGoods</td>\n",
       "      <td>재화의 판매로 인한 수익(매출액)</td>\n",
       "      <td>1.186570e+13</td>\n",
       "      <td>1.094740e+13</td>\n",
       "      <td>1.074420e+13</td>\n",
       "    </tr>\n",
       "  </tbody>\n",
       "</table>\n",
       "</div>"
      ],
      "text/plain": [
       "         시장구분      종목코드 회사명       결산기준일                         항목코드  \\\n",
       "0  유가증권시장상장법인  [001040]  CJ  2015-12-31                 ifrs_Revenue   \n",
       "1  유가증권시장상장법인  [001040]  CJ  2015-12-31  ifrs_RevenueFromSaleOfGoods   \n",
       "\n",
       "                  항목명            당기            전기           전전기  \n",
       "0                영업수익  2.116670e+13  1.957230e+13  1.885170e+13  \n",
       "1  재화의 판매로 인한 수익(매출액)  1.186570e+13  1.094740e+13  1.074420e+13  "
      ]
     },
     "execution_count": 21,
     "metadata": {},
     "output_type": "execute_result"
    }
   ],
   "source": [
    "pl215.head(2)"
   ]
  },
  {
   "cell_type": "code",
   "execution_count": 22,
   "metadata": {
    "collapsed": true
   },
   "outputs": [],
   "source": [
    "df15 = pd.read_csv(path + \"\\\\2015_4Q_FS\\\\_2015_사업보고서_03_포괄손익계산서_20160531.csv\")\n",
    "df16 = pd.read_csv(path + \"\\\\2016_4Q_FS\\\\_2016_사업보고서_03_포괄손익계산서_20170524.csv\")"
   ]
  },
  {
   "cell_type": "code",
   "execution_count": 23,
   "metadata": {
    "collapsed": true
   },
   "outputs": [],
   "source": [
    "df15['항목명'] = df15['항목명'].str.strip()\n",
    "df16['항목명'] = df16['항목명'].str.strip()"
   ]
  },
  {
   "cell_type": "code",
   "execution_count": 24,
   "metadata": {},
   "outputs": [
    {
     "data": {
      "text/plain": [
       "Index(['﻿재무제표종류', '종목코드', '회사명', '시장구분', '업종', '업종명', '결산월', '결산기준일', '보고서종류',\n",
       "       '통화', '항목코드', '항목명', 'Column1', '당기', '_1', '_2', '전기', '전전기', '_3'],\n",
       "      dtype='object')"
      ]
     },
     "execution_count": 24,
     "metadata": {},
     "output_type": "execute_result"
    }
   ],
   "source": [
    "df15.columns"
   ]
  },
  {
   "cell_type": "code",
   "execution_count": 25,
   "metadata": {
    "collapsed": true
   },
   "outputs": [],
   "source": [
    "pl315= df15.loc[:,['시장구분','종목코드', '회사명', '결산기준일', '항목코드', '항목명', '당기', '전기', '전전기']]\n",
    "pl316= df16.loc[:,['시장구분','종목코드', '회사명', '결산기준일', '항목코드', '항목명', '당기', '전기', '전전기']]"
   ]
  },
  {
   "cell_type": "code",
   "execution_count": 26,
   "metadata": {},
   "outputs": [
    {
     "data": {
      "text/html": [
       "<div>\n",
       "<table border=\"1\" class=\"dataframe\">\n",
       "  <thead>\n",
       "    <tr style=\"text-align: right;\">\n",
       "      <th></th>\n",
       "      <th>시장구분</th>\n",
       "      <th>종목코드</th>\n",
       "      <th>회사명</th>\n",
       "      <th>결산기준일</th>\n",
       "      <th>항목코드</th>\n",
       "      <th>항목명</th>\n",
       "      <th>당기</th>\n",
       "      <th>전기</th>\n",
       "      <th>전전기</th>\n",
       "    </tr>\n",
       "  </thead>\n",
       "  <tbody>\n",
       "    <tr>\n",
       "      <th>0</th>\n",
       "      <td>코스닥시장상장법인</td>\n",
       "      <td>[060310]</td>\n",
       "      <td>3S</td>\n",
       "      <td>2015-03-31</td>\n",
       "      <td>ifrs_Revenue</td>\n",
       "      <td>수익(매출액)</td>\n",
       "      <td>2.110422e+10</td>\n",
       "      <td>2.653654e+10</td>\n",
       "      <td>3.019712e+10</td>\n",
       "    </tr>\n",
       "    <tr>\n",
       "      <th>1</th>\n",
       "      <td>코스닥시장상장법인</td>\n",
       "      <td>[060310]</td>\n",
       "      <td>3S</td>\n",
       "      <td>2015-03-31</td>\n",
       "      <td>ifrs_CostOfSales</td>\n",
       "      <td>매출원가</td>\n",
       "      <td>1.980746e+10</td>\n",
       "      <td>2.454257e+10</td>\n",
       "      <td>2.336362e+10</td>\n",
       "    </tr>\n",
       "  </tbody>\n",
       "</table>\n",
       "</div>"
      ],
      "text/plain": [
       "        시장구분      종목코드 회사명       결산기준일              항목코드      항목명  \\\n",
       "0  코스닥시장상장법인  [060310]  3S  2015-03-31      ifrs_Revenue  수익(매출액)   \n",
       "1  코스닥시장상장법인  [060310]  3S  2015-03-31  ifrs_CostOfSales     매출원가   \n",
       "\n",
       "             당기            전기           전전기  \n",
       "0  2.110422e+10  2.653654e+10  3.019712e+10  \n",
       "1  1.980746e+10  2.454257e+10  2.336362e+10  "
      ]
     },
     "execution_count": 26,
     "metadata": {},
     "output_type": "execute_result"
    }
   ],
   "source": [
    "pl315.head(2)"
   ]
  },
  {
   "cell_type": "code",
   "execution_count": 27,
   "metadata": {
    "collapsed": true
   },
   "outputs": [],
   "source": [
    "df15 = pd.read_csv(path + \"\\\\2015_4Q_FS\\\\_2015_사업보고서_03_포괄손익계산서_연결_20160531.csv\")\n",
    "df16 = pd.read_csv(path + \"\\\\2016_4Q_FS\\\\_2016_사업보고서_03_포괄손익계산서_연결_20170524.csv\")"
   ]
  },
  {
   "cell_type": "code",
   "execution_count": 28,
   "metadata": {
    "collapsed": true
   },
   "outputs": [],
   "source": [
    "df15['항목명'] = df15['항목명'].str.strip()\n",
    "df16['항목명'] = df16['항목명'].str.strip()"
   ]
  },
  {
   "cell_type": "code",
   "execution_count": 29,
   "metadata": {
    "collapsed": true
   },
   "outputs": [],
   "source": [
    "pl415= df15.loc[:,['시장구분','종목코드', '회사명', '결산기준일', '항목코드', '항목명', '당기', '전기', '전전기']]\n",
    "pl416= df16.loc[:,['시장구분','종목코드', '회사명', '결산기준일', '항목코드', '항목명', '당기', '전기', '전전기']]"
   ]
  },
  {
   "cell_type": "code",
   "execution_count": 30,
   "metadata": {
    "scrolled": true
   },
   "outputs": [
    {
     "data": {
      "text/html": [
       "<div>\n",
       "<table border=\"1\" class=\"dataframe\">\n",
       "  <thead>\n",
       "    <tr style=\"text-align: right;\">\n",
       "      <th></th>\n",
       "      <th>시장구분</th>\n",
       "      <th>종목코드</th>\n",
       "      <th>회사명</th>\n",
       "      <th>결산기준일</th>\n",
       "      <th>항목코드</th>\n",
       "      <th>항목명</th>\n",
       "      <th>당기</th>\n",
       "      <th>전기</th>\n",
       "      <th>전전기</th>\n",
       "    </tr>\n",
       "  </thead>\n",
       "  <tbody>\n",
       "    <tr>\n",
       "      <th>0</th>\n",
       "      <td>코스닥시장상장법인</td>\n",
       "      <td>[060310]</td>\n",
       "      <td>3S</td>\n",
       "      <td>2015-03-31</td>\n",
       "      <td>ifrs_Revenue</td>\n",
       "      <td>수익(매출액)</td>\n",
       "      <td>2.321054e+10</td>\n",
       "      <td>2.886299e+10</td>\n",
       "      <td>3.223645e+10</td>\n",
       "    </tr>\n",
       "    <tr>\n",
       "      <th>1</th>\n",
       "      <td>코스닥시장상장법인</td>\n",
       "      <td>[060310]</td>\n",
       "      <td>3S</td>\n",
       "      <td>2015-03-31</td>\n",
       "      <td>ifrs_CostOfSales</td>\n",
       "      <td>매출원가</td>\n",
       "      <td>2.157553e+10</td>\n",
       "      <td>2.642635e+10</td>\n",
       "      <td>2.500396e+10</td>\n",
       "    </tr>\n",
       "  </tbody>\n",
       "</table>\n",
       "</div>"
      ],
      "text/plain": [
       "        시장구분      종목코드 회사명       결산기준일              항목코드      항목명  \\\n",
       "0  코스닥시장상장법인  [060310]  3S  2015-03-31      ifrs_Revenue  수익(매출액)   \n",
       "1  코스닥시장상장법인  [060310]  3S  2015-03-31  ifrs_CostOfSales     매출원가   \n",
       "\n",
       "             당기            전기           전전기  \n",
       "0  2.321054e+10  2.886299e+10  3.223645e+10  \n",
       "1  2.157553e+10  2.642635e+10  2.500396e+10  "
      ]
     },
     "execution_count": 30,
     "metadata": {},
     "output_type": "execute_result"
    }
   ],
   "source": [
    "pl415.head(2)"
   ]
  },
  {
   "cell_type": "code",
   "execution_count": 31,
   "metadata": {},
   "outputs": [],
   "source": [
    "df15 = pd.read_csv(path + \"\\\\2015_4Q_FS\\\\_2015_사업보고서_04_현금흐름표_20160601.csv\")\n",
    "df16 = pd.read_csv(path + \"\\\\2016_4Q_FS\\\\_2016_사업보고서_04_현금흐름표_20170524.csv\")"
   ]
  },
  {
   "cell_type": "code",
   "execution_count": 32,
   "metadata": {
    "collapsed": true
   },
   "outputs": [],
   "source": [
    "df15['항목명'] = df15['항목명'].str.strip()\n",
    "df16['항목명'] = df16['항목명'].str.strip()"
   ]
  },
  {
   "cell_type": "code",
   "execution_count": 33,
   "metadata": {},
   "outputs": [],
   "source": [
    "cf115= df15.loc[:,['시장구분','종목코드', '회사명', '결산기준일', '항목코드', '항목명', '당기', '전기', '전전기']]\n",
    "cf116= df16.loc[:,['시장구분','종목코드', '회사명', '결산기준일', '항목코드', '항목명', '당기', '전기', '전전기']]"
   ]
  },
  {
   "cell_type": "code",
   "execution_count": 34,
   "metadata": {},
   "outputs": [
    {
     "data": {
      "text/html": [
       "<div>\n",
       "<table border=\"1\" class=\"dataframe\">\n",
       "  <thead>\n",
       "    <tr style=\"text-align: right;\">\n",
       "      <th></th>\n",
       "      <th>시장구분</th>\n",
       "      <th>종목코드</th>\n",
       "      <th>회사명</th>\n",
       "      <th>결산기준일</th>\n",
       "      <th>항목코드</th>\n",
       "      <th>항목명</th>\n",
       "      <th>당기</th>\n",
       "      <th>전기</th>\n",
       "      <th>전전기</th>\n",
       "    </tr>\n",
       "  </thead>\n",
       "  <tbody>\n",
       "    <tr>\n",
       "      <th>0</th>\n",
       "      <td>코스닥시장상장법인</td>\n",
       "      <td>[060310]</td>\n",
       "      <td>3S</td>\n",
       "      <td>2015-03-31</td>\n",
       "      <td>ifrs_CashFlowsFromUsedInOperatingActivities</td>\n",
       "      <td>영업활동현금흐름</td>\n",
       "      <td>2.923614e+08</td>\n",
       "      <td>2.296141e+09</td>\n",
       "      <td>2.962155e+09</td>\n",
       "    </tr>\n",
       "    <tr>\n",
       "      <th>1</th>\n",
       "      <td>코스닥시장상장법인</td>\n",
       "      <td>[060310]</td>\n",
       "      <td>3S</td>\n",
       "      <td>2015-03-31</td>\n",
       "      <td>dart_ProfitLossForStatementOfCashFlows</td>\n",
       "      <td>당기순이익(손실)</td>\n",
       "      <td>-5.538219e+09</td>\n",
       "      <td>-4.784630e+09</td>\n",
       "      <td>6.677592e+08</td>\n",
       "    </tr>\n",
       "  </tbody>\n",
       "</table>\n",
       "</div>"
      ],
      "text/plain": [
       "        시장구분      종목코드 회사명       결산기준일  \\\n",
       "0  코스닥시장상장법인  [060310]  3S  2015-03-31   \n",
       "1  코스닥시장상장법인  [060310]  3S  2015-03-31   \n",
       "\n",
       "                                          항목코드        항목명            당기  \\\n",
       "0  ifrs_CashFlowsFromUsedInOperatingActivities   영업활동현금흐름  2.923614e+08   \n",
       "1       dart_ProfitLossForStatementOfCashFlows  당기순이익(손실) -5.538219e+09   \n",
       "\n",
       "             전기           전전기  \n",
       "0  2.296141e+09  2.962155e+09  \n",
       "1 -4.784630e+09  6.677592e+08  "
      ]
     },
     "execution_count": 34,
     "metadata": {},
     "output_type": "execute_result"
    }
   ],
   "source": [
    "cf115.head(2)"
   ]
  },
  {
   "cell_type": "code",
   "execution_count": 35,
   "metadata": {
    "collapsed": true
   },
   "outputs": [],
   "source": [
    "df15 = pd.read_csv(path + \"\\\\2015_4Q_FS\\\\_2015_사업보고서_04_현금흐름표_연결_20160601.csv\")\n",
    "df16 = pd.read_csv(path + \"\\\\2016_4Q_FS\\\\_2016_사업보고서_04_현금흐름표_연결_20170524.csv\")"
   ]
  },
  {
   "cell_type": "code",
   "execution_count": 36,
   "metadata": {
    "collapsed": true
   },
   "outputs": [],
   "source": [
    "df15['항목명'] = df15['항목명'].str.strip()\n",
    "df16['항목명'] = df16['항목명'].str.strip()"
   ]
  },
  {
   "cell_type": "code",
   "execution_count": 37,
   "metadata": {},
   "outputs": [],
   "source": [
    "cf215= df15.loc[:,['시장구분','종목코드', '회사명', '결산기준일', '항목코드', '항목명', '당기', '전기', '전전기']]\n",
    "cf216= df16.loc[:,['시장구분','종목코드', '회사명', '결산기준일', '항목코드', '항목명', '당기', '전기', '전전기']]"
   ]
  },
  {
   "cell_type": "code",
   "execution_count": 38,
   "metadata": {},
   "outputs": [
    {
     "data": {
      "text/html": [
       "<div>\n",
       "<table border=\"1\" class=\"dataframe\">\n",
       "  <thead>\n",
       "    <tr style=\"text-align: right;\">\n",
       "      <th></th>\n",
       "      <th>시장구분</th>\n",
       "      <th>종목코드</th>\n",
       "      <th>회사명</th>\n",
       "      <th>결산기준일</th>\n",
       "      <th>항목코드</th>\n",
       "      <th>항목명</th>\n",
       "      <th>당기</th>\n",
       "      <th>전기</th>\n",
       "      <th>전전기</th>\n",
       "    </tr>\n",
       "  </thead>\n",
       "  <tbody>\n",
       "    <tr>\n",
       "      <th>0</th>\n",
       "      <td>코스닥시장상장법인</td>\n",
       "      <td>[060310]</td>\n",
       "      <td>3S</td>\n",
       "      <td>2015-03-31</td>\n",
       "      <td>ifrs_CashFlowsFromUsedInOperatingActivities</td>\n",
       "      <td>영업활동현금흐름</td>\n",
       "      <td>3.505982e+08</td>\n",
       "      <td>1.960176e+09</td>\n",
       "      <td>3.312258e+09</td>\n",
       "    </tr>\n",
       "    <tr>\n",
       "      <th>1</th>\n",
       "      <td>코스닥시장상장법인</td>\n",
       "      <td>[060310]</td>\n",
       "      <td>3S</td>\n",
       "      <td>2015-03-31</td>\n",
       "      <td>dart_ProfitLossForStatementOfCashFlows</td>\n",
       "      <td>당기순이익(손실)</td>\n",
       "      <td>-5.599033e+09</td>\n",
       "      <td>-4.760633e+09</td>\n",
       "      <td>7.011469e+08</td>\n",
       "    </tr>\n",
       "  </tbody>\n",
       "</table>\n",
       "</div>"
      ],
      "text/plain": [
       "        시장구분      종목코드 회사명       결산기준일  \\\n",
       "0  코스닥시장상장법인  [060310]  3S  2015-03-31   \n",
       "1  코스닥시장상장법인  [060310]  3S  2015-03-31   \n",
       "\n",
       "                                          항목코드        항목명            당기  \\\n",
       "0  ifrs_CashFlowsFromUsedInOperatingActivities   영업활동현금흐름  3.505982e+08   \n",
       "1       dart_ProfitLossForStatementOfCashFlows  당기순이익(손실) -5.599033e+09   \n",
       "\n",
       "             전기           전전기  \n",
       "0  1.960176e+09  3.312258e+09  \n",
       "1 -4.760633e+09  7.011469e+08  "
      ]
     },
     "execution_count": 38,
     "metadata": {},
     "output_type": "execute_result"
    }
   ],
   "source": [
    "cf215.head(2)"
   ]
  },
  {
   "cell_type": "code",
   "execution_count": 39,
   "metadata": {},
   "outputs": [],
   "source": [
    "f15 = pd.concat([bs115, bs215, pl115, pl215, pl315, pl415, cf115, cf215], axis=0)\n",
    "f16 = pd.concat([bs116, bs216, pl116, pl216, pl316, pl416, cf116, cf216], axis=0)"
   ]
  },
  {
   "cell_type": "code",
   "execution_count": 40,
   "metadata": {},
   "outputs": [
    {
     "data": {
      "text/html": [
       "<div>\n",
       "<table border=\"1\" class=\"dataframe\">\n",
       "  <thead>\n",
       "    <tr style=\"text-align: right;\">\n",
       "      <th></th>\n",
       "      <th>시장구분</th>\n",
       "      <th>종목코드</th>\n",
       "      <th>회사명</th>\n",
       "      <th>결산기준일</th>\n",
       "      <th>항목코드</th>\n",
       "      <th>항목명</th>\n",
       "      <th>당기</th>\n",
       "      <th>전기</th>\n",
       "      <th>전전기</th>\n",
       "    </tr>\n",
       "  </thead>\n",
       "  <tbody>\n",
       "    <tr>\n",
       "      <th>0</th>\n",
       "      <td>코스닥시장상장법인</td>\n",
       "      <td>[060310]</td>\n",
       "      <td>3S</td>\n",
       "      <td>2016-03-31</td>\n",
       "      <td>ifrs_AssetsAbstract</td>\n",
       "      <td>자산 [abstract]</td>\n",
       "      <td>NaN</td>\n",
       "      <td>NaN</td>\n",
       "      <td>NaN</td>\n",
       "    </tr>\n",
       "    <tr>\n",
       "      <th>1</th>\n",
       "      <td>코스닥시장상장법인</td>\n",
       "      <td>[060310]</td>\n",
       "      <td>3S</td>\n",
       "      <td>2016-03-31</td>\n",
       "      <td>ifrs_CurrentAssets</td>\n",
       "      <td>유동자산</td>\n",
       "      <td>1.155636e+10</td>\n",
       "      <td>1.490718e+10</td>\n",
       "      <td>1.682680e+10</td>\n",
       "    </tr>\n",
       "  </tbody>\n",
       "</table>\n",
       "</div>"
      ],
      "text/plain": [
       "        시장구분      종목코드 회사명       결산기준일                 항목코드            항목명  \\\n",
       "0  코스닥시장상장법인  [060310]  3S  2016-03-31  ifrs_AssetsAbstract  자산 [abstract]   \n",
       "1  코스닥시장상장법인  [060310]  3S  2016-03-31   ifrs_CurrentAssets           유동자산   \n",
       "\n",
       "             당기            전기           전전기  \n",
       "0           NaN           NaN           NaN  \n",
       "1  1.155636e+10  1.490718e+10  1.682680e+10  "
      ]
     },
     "execution_count": 40,
     "metadata": {},
     "output_type": "execute_result"
    }
   ],
   "source": [
    "f16.head(2)"
   ]
  },
  {
   "cell_type": "code",
   "execution_count": 41,
   "metadata": {},
   "outputs": [
    {
     "name": "stdout",
     "output_type": "stream",
     "text": [
      "(395342, 9)\n",
      "(408253, 9)\n"
     ]
    }
   ],
   "source": [
    "print(f15.shape)\n",
    "print(f16.shape)"
   ]
  },
  {
   "cell_type": "code",
   "execution_count": 42,
   "metadata": {},
   "outputs": [],
   "source": [
    "f15 = f15[f15['시장구분'] != '코스닥시장상장법인']\n",
    "f16 = f16[f16['시장구분'] != '코스닥시장상장법인']"
   ]
  },
  {
   "cell_type": "code",
   "execution_count": 43,
   "metadata": {
    "collapsed": true
   },
   "outputs": [],
   "source": [
    "f15.drop_duplicates(subset = ['종목코드', '결산기준일', '항목코드'],inplace=True)\n",
    "f16.drop_duplicates(subset = ['종목코드', '결산기준일', '항목코드'],inplace=True)"
   ]
  },
  {
   "cell_type": "code",
   "execution_count": 44,
   "metadata": {},
   "outputs": [],
   "source": [
    "#test = test[(test['id'] != 1) | (test['num'] != 1)]\n",
    "net_income_items = ['당기순이익(손실)','V. 당기순이익','VI. 당기순이익(손실)','당기순이익']\n",
    "net_income_codes = ['ifrs_ProfitLoss']\n",
    "asset_codes = ['ifrs_Assets']\n",
    "asset_items = ['자산총계','자산 총계']\n",
    "cash_flow_codes = ['ifrs_CashFlowsFromUsedInOperatingActivities']\n",
    "cash_flow_items = ['Ⅰ.영업활동으로 인한 현금흐름','영업활동 현금흐름','영업활동으로 인한 현금흐름']\n",
    "long_liability_codes = ['ifrs_NoncurrentLiabilities']\n",
    "long_liability_items = ['장기차입금','비유동부채','비유동 부채']\n",
    "current_liability_codes = ['ifrs_CurrentLiabilities']\n",
    "current_liability_items = ['유동부채','유동 부채']\n",
    "current_asset_codes = ['ifrs_CurrentAssets']\n",
    "current_asset_items = ['유동자산']\n",
    "capital_items = ['자본금','1.자본금','보통주자본금','자 본 금','납입자본']\n",
    "total_sales_items = ['매출','영업수익','매출액']\n",
    "total_sales_codes = ['ifrs_Revenue']\n",
    "g_margin_codes = ['dart_OperatingIncomeLoss','ifrs_GrossProfit']\n",
    "g_margin_items = ['매출총이익','영업이익','매출 총이익']"
   ]
  },
  {
   "cell_type": "code",
   "execution_count": 45,
   "metadata": {},
   "outputs": [],
   "source": [
    "items = net_income_items + asset_items + cash_flow_items + capital_items + total_sales_items + g_margin_items\n",
    "codes = net_income_codes + asset_codes + cash_flow_codes + long_liability_codes + current_liability_codes + \\\n",
    "            current_asset_codes + total_sales_codes + g_margin_codes"
   ]
  },
  {
   "cell_type": "code",
   "execution_count": 46,
   "metadata": {},
   "outputs": [],
   "source": [
    "f15 = f15[(f15['항목코드'].isin(codes)) | (f15['항목명'].isin(items))]\n",
    "f16 = f16[(f16['항목코드'].isin(codes)) | (f16['항목명'].isin(items))]"
   ]
  },
  {
   "cell_type": "code",
   "execution_count": 47,
   "metadata": {},
   "outputs": [
    {
     "name": "stdout",
     "output_type": "stream",
     "text": [
      "(8383, 9)\n",
      "(8416, 9)\n"
     ]
    }
   ],
   "source": [
    "print(f15.shape)\n",
    "print(f16.shape)"
   ]
  },
  {
   "cell_type": "code",
   "execution_count": 48,
   "metadata": {},
   "outputs": [],
   "source": [
    "company_list = pd.unique(f16[['종목코드','회사명']].values)\n",
    "#company_list = [('[095570]', 'AJ네트웍스'), ('[068400]', 'AJ렌터카')]\n",
    "#company_list"
   ]
  },
  {
   "cell_type": "code",
   "execution_count": 49,
   "metadata": {},
   "outputs": [
    {
     "data": {
      "text/plain": [
       "715"
      ]
     },
     "execution_count": 49,
     "metadata": {},
     "output_type": "execute_result"
    }
   ],
   "source": [
    "len(company_list)"
   ]
  },
  {
   "cell_type": "code",
   "execution_count": 50,
   "metadata": {},
   "outputs": [],
   "source": [
    "# pd.set_option('display.max_rows',500)\n",
    "# temp = f15[f15['회사명'] == 'S&K폴리텍']\n",
    "# temp"
   ]
  },
  {
   "cell_type": "code",
   "execution_count": 51,
   "metadata": {},
   "outputs": [
    {
     "name": "stdout",
     "output_type": "stream",
     "text": [
      "Net Income Previous Year not found\n",
      "Total Asset Previous Year not found\n",
      "Average Total Asset previous year not found\n",
      "Long Liability Previous Year not found\n",
      "Current Liability previous year not found\n",
      "Current Asset previous year not found\n",
      "EQuity previou year not found\n",
      "Total Sales previous year not found\n",
      "Gross Margin previous year not found\n",
      "[234080] JW생명과학 skipped ......\n",
      "Long Liability Previous Year not found\n",
      "Long Liability not found\n",
      "Current Liability previous year not found\n",
      "Current Liability not found\n",
      "Current Asset previous year not found\n",
      "Current Asset not found\n",
      "[000040] KR모터스 skipped ......\n",
      "Net Income Previous Year not found\n",
      "Total Asset Previous Year not found\n",
      "Average Total Asset previous year not found\n",
      "Long Liability Previous Year not found\n",
      "Current Liability previous year not found\n",
      "Current Asset previous year not found\n",
      "EQuity previou year not found\n",
      "Total Sales previous year not found\n",
      "Gross Margin previous year not found\n",
      "[229640] LS전선아시아 skipped ......\n",
      "Cash Flow not found\n",
      "[011810] STX skipped ......\n",
      "Long Liability Previous Year not found\n",
      "Current Liability previous year not found\n",
      "Current Asset previous year not found\n",
      "[140910] 광희리츠 skipped ......\n",
      "Net Income Previous Year not found\n",
      "Total Asset Previous Year not found\n",
      "Average Total Asset previous year not found\n",
      "Long Liability Previous Year not found\n",
      "Current Liability previous year not found\n",
      "Current Asset previous year not found\n",
      "EQuity previou year not found\n",
      "Total Sales previous year not found\n",
      "Gross Margin previous year not found\n",
      "[004440] 대림씨엔에스 skipped ......\n",
      "Net Income Previous Year not found\n",
      "Total Asset Previous Year not found\n",
      "Average Total Asset previous year not found\n",
      "Long Liability Previous Year not found\n",
      "Current Liability previous year not found\n",
      "Current Asset previous year not found\n",
      "EQuity previou year not found\n",
      "Total Sales previous year not found\n",
      "Gross Margin previous year not found\n",
      "[145720] 덴티움 skipped ......\n",
      "Net Income Previous Year not found\n",
      "Total Asset Previous Year not found\n",
      "Average Total Asset previous year not found\n",
      "Long Liability Previous Year not found\n",
      "Current Liability previous year not found\n",
      "Current Asset previous year not found\n",
      "EQuity previou year not found\n",
      "Total Sales previous year not found\n",
      "Gross Margin previous year not found\n",
      "[026960] 동서 skipped ......\n",
      "Net Income Previous Year not found\n",
      "Total Asset Previous Year not found\n",
      "Average Total Asset previous year not found\n",
      "Long Liability Previous Year not found\n",
      "Current Liability previous year not found\n",
      "Current Asset previous year not found\n",
      "EQuity previou year not found\n",
      "Total Sales previous year not found\n",
      "Gross Margin previous year not found\n",
      "[241560] 두산밥캣 skipped ......\n",
      "Net Income Previous Year not found\n",
      "Total Asset Previous Year not found\n",
      "Average Total Asset previous year not found\n",
      "Long Liability Previous Year not found\n",
      "Current Liability previous year not found\n",
      "Current Asset previous year not found\n",
      "EQuity previou year not found\n",
      "Total Sales previous year not found\n",
      "Gross Margin previous year not found\n",
      "[016740] 두올 skipped ......\n",
      "Long Liability Previous Year not found\n",
      "Long Liability not found\n",
      "Current Liability previous year not found\n",
      "Current Liability not found\n",
      "[004990] 롯데제과 skipped ......\n",
      "Net Income Previous Year not found\n",
      "Total Asset Previous Year not found\n",
      "Average Total Asset previous year not found\n",
      "Long Liability Previous Year not found\n",
      "Current Liability previous year not found\n",
      "Current Asset previous year not found\n",
      "EQuity previou year not found\n",
      "Total Sales previous year not found\n",
      "Gross Margin previous year not found\n",
      "[204210] 모두투어리츠 skipped ......\n",
      "EQuity not found\n",
      "[002410] 범양건영 skipped ......\n",
      "Net Income Previous Year not found\n",
      "Total Asset Previous Year not found\n",
      "Average Total Asset previous year not found\n",
      "Long Liability Previous Year not found\n",
      "Current Liability previous year not found\n",
      "Current Asset previous year not found\n",
      "EQuity previou year not found\n",
      "Total Sales previous year not found\n",
      "Gross Margin previous year not found\n",
      "[248170] 샘표식품 skipped ......\n",
      "Gross Margin previous year not found\n",
      "Gross Margin not found\n",
      "[145210] 세화아이엠씨 skipped ......\n",
      "Long Liability Previous Year not found\n",
      "Long Liability not found\n",
      "[083570] 아시아10호 skipped ......\n",
      "Long Liability Previous Year not found\n",
      "Long Liability not found\n",
      "[083580] 아시아퍼시픽11호 skipped ......\n",
      "Long Liability Previous Year not found\n",
      "Long Liability not found\n",
      "[083590] 아시아퍼시픽12호 skipped ......\n",
      "Long Liability Previous Year not found\n",
      "Long Liability not found\n",
      "[083600] 아시아퍼시픽13호 skipped ......\n",
      "Long Liability Previous Year not found\n",
      "Long Liability not found\n",
      "[083610] 아시아퍼시픽14호 skipped ......\n",
      "Long Liability Previous Year not found\n",
      "Long Liability not found\n",
      "[083620] 아시아퍼시픽15호 skipped ......\n",
      "Net Income Previous Year not found\n",
      "Total Asset Previous Year not found\n",
      "Average Total Asset previous year not found\n",
      "Long Liability Previous Year not found\n",
      "Current Liability previous year not found\n",
      "Current Asset previous year not found\n",
      "EQuity previou year not found\n",
      "Total Sales previous year not found\n",
      "Gross Margin previous year not found\n",
      "[070960] 용평리조트 skipped ......\n",
      "EQuity previou year not found\n",
      "EQuity not found\n",
      "[102460] 이연제약 skipped ......\n",
      "Net Income Previous Year not found\n",
      "Total Asset Previous Year not found\n",
      "Average Total Asset previous year not found\n",
      "Long Liability Previous Year not found\n",
      "Current Liability previous year not found\n",
      "Current Asset previous year not found\n",
      "EQuity previou year not found\n",
      "Total Sales previous year not found\n",
      "Gross Margin previous year not found\n",
      "[249420] 일동제약 skipped ......\n",
      "Cash Flow not found\n",
      "[103140] 풍산 skipped ......\n",
      "EQuity previou year not found\n",
      "EQuity not found\n",
      "[033180] 필룩스 skipped ......\n",
      "Net Income Previous Year not found\n",
      "Total Asset Previous Year not found\n",
      "Average Total Asset previous year not found\n",
      "Long Liability Previous Year not found\n",
      "Current Liability previous year not found\n",
      "Current Asset previous year not found\n",
      "EQuity previou year not found\n",
      "Total Sales previous year not found\n",
      "Gross Margin previous year not found\n",
      "[195870] 해성디에스 skipped ......\n",
      "Net Income Previous Year not found\n",
      "Total Asset Previous Year not found\n",
      "Average Total Asset previous year not found\n",
      "Long Liability Previous Year not found\n",
      "Current Liability previous year not found\n",
      "Current Asset previous year not found\n",
      "EQuity previou year not found\n",
      "Total Sales previous year not found\n",
      "Gross Margin previous year not found\n",
      "[101530] 해태제과식품 skipped ......\n",
      "Net Income Previous Year not found\n",
      "Total Asset Previous Year not found\n",
      "Average Total Asset previous year not found\n",
      "Long Liability Previous Year not found\n",
      "Current Liability previous year not found\n",
      "Current Asset previous year not found\n",
      "EQuity previou year not found\n",
      "Total Sales previous year not found\n",
      "Gross Margin previous year not found\n",
      "[143210] 핸즈코퍼레이션 skipped ......\n",
      "Net Income Previous Year not found\n",
      "Total Asset Previous Year not found\n",
      "Average Total Asset previous year not found\n",
      "Long Liability Previous Year not found\n",
      "Current Liability previous year not found\n",
      "Current Asset previous year not found\n",
      "EQuity previou year not found\n",
      "Total Sales previous year not found\n",
      "Gross Margin previous year not found\n",
      "[111110] 호전실업 skipped ......\n",
      "Net Income Previous Year not found\n",
      "Total Asset Previous Year not found\n",
      "Average Total Asset previous year not found\n",
      "Long Liability Previous Year not found\n",
      "Current Liability previous year not found\n",
      "Current Asset previous year not found\n",
      "EQuity previou year not found\n",
      "Total Sales previous year not found\n",
      "Gross Margin previous year not found\n",
      "[241590] 화승엔터프라이즈 skipped ......\n"
     ]
    }
   ],
   "source": [
    "f_scores = {}\n",
    "for company, name in company_list:\n",
    "    f_score = 0\n",
    "    skip = False\n",
    "    \n",
    "    Net_Income_prev = f15[(f15['종목코드'] == company) & \\\n",
    "                          (f15['항목코드'].isin(net_income_codes) | f15['항목명'].isin(net_income_items))]['당기']\n",
    "    if Net_Income_prev.values.size == 0:\n",
    "        skip = True\n",
    "        print('Net Income Previous Year not found')\n",
    "    \n",
    "    Net_Income = f16[(f16['종목코드'] == company) & \\\n",
    "                      (f16['항목코드'].isin(net_income_codes) | f16['항목명'].isin(net_income_items))]['당기']\n",
    "    if Net_Income.values.size == 0:\n",
    "        skip = True\n",
    "        print('Net Income not found')\n",
    "    \n",
    "    Total_Asset_prev  = f15[(f15['종목코드'] == company) & \\\n",
    "                            (f15['항목코드'].isin(asset_codes) | f15['항목명'].isin(asset_items))]['전기']\n",
    "    if Total_Asset_prev.values.size == 0:\n",
    "        skip = True\n",
    "        print('Total Asset Previous Year not found')\n",
    "        \n",
    "    Total_Asset  = f16[(f16['종목코드'] == company) & \\\n",
    "                       (f16['항목코드'].isin(asset_codes) | f16['항목명'].isin(asset_items))]['전기']\n",
    "    if Total_Asset.values.size == 0:\n",
    "        skip = True\n",
    "        print('Total Asset not found')\n",
    "        \n",
    "    Avg_Total_Asset_prev  = f15[(f15['종목코드'] == company) & \\\n",
    "                                (f15['항목코드'].isin(asset_codes) | f15['항목명'].isin(asset_items))]['당기']\n",
    "    if Avg_Total_Asset_prev.values.size == 0:\n",
    "        skip = True\n",
    "        print('Average Total Asset previous year not found')\n",
    "        \n",
    "    Avg_Total_Asset  = f16[(f16['종목코드'] == company) & \\\n",
    "                           (f16['항목코드'].isin(asset_codes) | f16['항목명'].isin(asset_items))]['당기']\n",
    "    if Avg_Total_Asset.values.size == 0:\n",
    "        skip = True\n",
    "        print('Average Total Asset not found')\n",
    "               \n",
    "    Cash_Flow =  f16[(f16['종목코드'] == company) & \\\n",
    "                     (f16['항목코드'].isin(cash_flow_codes) | f16['항목명'].isin(cash_flow_items) )]['당기'] \n",
    "    if Cash_Flow.size == 0:\n",
    "        skip = True\n",
    "        print('Cash Flow not found')\n",
    "    \n",
    "    Long_Liability_prev =  f15[(f15['종목코드'] == company) & \\\n",
    "                               (f15['항목코드'].isin(long_liability_codes) | f15['항목명'].isin(long_liability_items))]['당기'] \n",
    "    if Long_Liability_prev.size == 0:\n",
    "        skip = True\n",
    "        print('Long Liability Previous Year not found')\n",
    "    \n",
    "    Long_Liability =  f16[(f16['종목코드'] == company) & \\\n",
    "                          (f16['항목코드'].isin(long_liability_codes) | f16['항목명'].isin(long_liability_items))]['당기'] \n",
    "    if Long_Liability.size == 0:\n",
    "        skip = True\n",
    "        print('Long Liability not found')\n",
    "               \n",
    "    Current_Liability_prev =  f15[(f15['종목코드'] == company) & \\\n",
    "                                  (f15['항목코드'].isin(current_liability_codes) | f15['항목명'].isin(current_liability_items))]['당기'] \n",
    "    if Current_Liability_prev.size == 0:\n",
    "        skip = True\n",
    "        print('Current Liability previous year not found')\n",
    "    \n",
    "    Current_Liability =  f16[(f16['종목코드'] == company) & \\\n",
    "                            (f16['항목코드'].isin(current_liability_codes) | f16['항목명'].isin(current_liability_items))]['당기'] \n",
    "    if Current_Liability.size == 0:\n",
    "        skip = True\n",
    "        print('Current Liability not found')\n",
    "        \n",
    "    Current_Asset_prev =  f15[(f15['종목코드'] == company) & \\\n",
    "                              (f15['항목코드'].isin(current_asset_codes) | f15['항목명'].isin(current_asset_items))]['당기'] \n",
    "    if Current_Asset_prev.size == 0:\n",
    "        skip = True\n",
    "        print('Current Asset previous year not found')   \n",
    "        \n",
    "    Current_Asset =  f16[(f16['종목코드'] == company) & \\\n",
    "                        (f16['항목코드'].isin(current_asset_codes) | f16['항목명'].isin(current_asset_items))]['당기'] \n",
    "    if Current_Asset.size == 0:\n",
    "        skip = True\n",
    "        print('Current Asset not found') \n",
    "    \n",
    "    EQ_prev =  f15[(f15['종목코드'] == company) & (f15['항목명'].isin(capital_items))]['당기'] \n",
    "    if EQ_prev.size == 0:\n",
    "        skip = True\n",
    "        print('EQuity previou year not found')  \n",
    "        \n",
    "    EQ =  f16[(f16['종목코드'] == company) & (f16['항목명'].isin(capital_items))]['당기'] \n",
    "    if EQ.size == 0:\n",
    "        skip = True\n",
    "        print('EQuity not found')  \n",
    "\n",
    "    Total_Sales_prev =  f15[(f15['종목코드'] == company) & \\\n",
    "                            (f15['항목코드'].isin(total_sales_codes) | f15['항목명'].isin(total_sales_items))]['당기'] \n",
    "    if Total_Sales_prev.size == 0:\n",
    "        skip = True\n",
    "        print('Total Sales previous year not found') \n",
    "        \n",
    "    Total_Sales =  f16[(f16['종목코드'] == company) & \\\n",
    "                        (f16['항목코드'].isin(total_sales_codes) | f16['항목명'].isin(total_sales_items))]['당기'] \n",
    "    if Total_Sales.size == 0:\n",
    "        skip = True\n",
    "        print('Total Sales not found')\n",
    "\n",
    "    G_Margin_prev =  f15[(f15['종목코드'] == company) & \\\n",
    "                         (f15['항목코드'].isin(g_margin_codes) | f15['항목명'].isin(g_margin_items))]['당기'] \n",
    "    if G_Margin_prev.size == 0:\n",
    "        skip = True\n",
    "        print('Gross Margin previous year not found')\n",
    "        \n",
    "    G_Margin =  f16[(f16['종목코드'] == company) & \\\n",
    "                     (f16['항목코드'].isin(g_margin_codes) | f16['항목명'].isin(g_margin_items))]['당기'] \n",
    "    if G_Margin.size == 0:      \n",
    "        skip = True\n",
    "        print('Gross Margin not found')\n",
    "    \n",
    "    if skip:\n",
    "        print(company, name, 'skipped ......')\n",
    "    else:\n",
    "        #** ROA \n",
    "        ROA = Net_Income.values[0] / Total_Asset.values[0]\n",
    "        if ROA > 0:\n",
    "            f_score += 1\n",
    "        #** CFO   \n",
    "        CFO = Cash_Flow.values[0] / Total_Asset.values[0]\n",
    "        if CFO > 0:\n",
    "            f_score += 1\n",
    "        #** Delta ROA\n",
    "        ROA_prev = Net_Income_prev.values[0] / Total_Asset_prev.values[0]\n",
    "        if ROA - ROA_prev > 0:\n",
    "            f_score += 1\n",
    "        #** Accrual\n",
    "        if CFO > ROA :\n",
    "            f_score += 1\n",
    "        #** Delta Leverage\n",
    "        LEV = Long_Liability.values[0] / Avg_Total_Asset.values[0]\n",
    "        LEV_prev = Long_Liability_prev.values[0] / Avg_Total_Asset_prev.values[0]    \n",
    "        if (LEV - LEV_prev) > 0:\n",
    "            f_score += 1\n",
    "        #** Delta Liquitity\n",
    "        LEQ = Current_Asset.values[0] / Current_Liability.values[0]\n",
    "        LEQ_prev = Current_Asset_prev.values[0] / Current_Liability_prev.values[0]\n",
    "        if (LEQ - LEQ_prev) > 0:\n",
    "            f_score += 1\n",
    "        #** EQ_OFFER\n",
    "        if EQ_prev.values[0] == EQ.values[0]:\n",
    "            f_score += 1\n",
    "        #** Delta margin\n",
    "        GMO = G_Margin.values[0] / Total_Sales.values[0]\n",
    "        GMO_prev = G_Margin_prev.values[0] / Total_Sales_prev.values[0]\n",
    "        if (GMO - GMO_prev) > 0:\n",
    "            f_score += 1\n",
    "        #** Delta Turnover\n",
    "        ATR = Total_Sales.values[0] / Total_Asset.values[0]\n",
    "        ATR_prv = Total_Sales_prev.values[0] /  Total_Asset_prev.values[0]\n",
    "        if (ATR - ATR_prv) > 0:\n",
    "            f_score += 1\n",
    "       \n",
    "        f_scores[company+ ' ' + name] = f_score"
   ]
  },
  {
   "cell_type": "code",
   "execution_count": 100,
   "metadata": {
    "scrolled": false
   },
   "outputs": [
    {
     "data": {
      "text/plain": [
       "684"
      ]
     },
     "execution_count": 100,
     "metadata": {},
     "output_type": "execute_result"
    }
   ],
   "source": [
    "len(f_scores)"
   ]
  },
  {
   "cell_type": "code",
   "execution_count": 133,
   "metadata": {},
   "outputs": [],
   "source": [
    "from collections import OrderedDict\n",
    "dict_items = OrderedDict()\n",
    "dict_items = {'Code': [], 'Name': [], 'F_Score': []}\n",
    "\n",
    "for key, val in f_scores.items():\n",
    "    code = key.replace('[','').replace(']','').split()\n",
    "    code[0] = 'A' + code[0]\n",
    "    dict_items['Code'].append(code[0])\n",
    "    dict_items['Name'].append(code[1])\n",
    "    dict_items['F_Score'].append(val)\n",
    "    "
   ]
  },
  {
   "cell_type": "code",
   "execution_count": 134,
   "metadata": {},
   "outputs": [
    {
     "data": {
      "text/html": [
       "<div>\n",
       "<table border=\"1\" class=\"dataframe\">\n",
       "  <thead>\n",
       "    <tr style=\"text-align: right;\">\n",
       "      <th></th>\n",
       "      <th>Code</th>\n",
       "      <th>F_Score</th>\n",
       "      <th>Name</th>\n",
       "    </tr>\n",
       "  </thead>\n",
       "  <tbody>\n",
       "    <tr>\n",
       "      <th>0</th>\n",
       "      <td>A136490</td>\n",
       "      <td>7</td>\n",
       "      <td>선진</td>\n",
       "    </tr>\n",
       "    <tr>\n",
       "      <th>1</th>\n",
       "      <td>A032350</td>\n",
       "      <td>6</td>\n",
       "      <td>롯데관광개발</td>\n",
       "    </tr>\n",
       "    <tr>\n",
       "      <th>2</th>\n",
       "      <td>A093370</td>\n",
       "      <td>5</td>\n",
       "      <td>후성</td>\n",
       "    </tr>\n",
       "    <tr>\n",
       "      <th>3</th>\n",
       "      <td>A016800</td>\n",
       "      <td>5</td>\n",
       "      <td>퍼시스</td>\n",
       "    </tr>\n",
       "    <tr>\n",
       "      <th>4</th>\n",
       "      <td>A020560</td>\n",
       "      <td>6</td>\n",
       "      <td>아시아나항공</td>\n",
       "    </tr>\n",
       "    <tr>\n",
       "      <th>5</th>\n",
       "      <td>A025620</td>\n",
       "      <td>6</td>\n",
       "      <td>제이준</td>\n",
       "    </tr>\n",
       "    <tr>\n",
       "      <th>6</th>\n",
       "      <td>A002450</td>\n",
       "      <td>4</td>\n",
       "      <td>삼익악기</td>\n",
       "    </tr>\n",
       "    <tr>\n",
       "      <th>7</th>\n",
       "      <td>A004130</td>\n",
       "      <td>4</td>\n",
       "      <td>대덕GDS</td>\n",
       "    </tr>\n",
       "    <tr>\n",
       "      <th>8</th>\n",
       "      <td>A012200</td>\n",
       "      <td>6</td>\n",
       "      <td>계양전기</td>\n",
       "    </tr>\n",
       "    <tr>\n",
       "      <th>9</th>\n",
       "      <td>A004150</td>\n",
       "      <td>3</td>\n",
       "      <td>한솔홀딩스</td>\n",
       "    </tr>\n",
       "    <tr>\n",
       "      <th>10</th>\n",
       "      <td>A064350</td>\n",
       "      <td>7</td>\n",
       "      <td>현대로템</td>\n",
       "    </tr>\n",
       "    <tr>\n",
       "      <th>11</th>\n",
       "      <td>A082740</td>\n",
       "      <td>6</td>\n",
       "      <td>두산엔진</td>\n",
       "    </tr>\n",
       "    <tr>\n",
       "      <th>12</th>\n",
       "      <td>A090350</td>\n",
       "      <td>7</td>\n",
       "      <td>노루페인트</td>\n",
       "    </tr>\n",
       "    <tr>\n",
       "      <th>13</th>\n",
       "      <td>A021820</td>\n",
       "      <td>5</td>\n",
       "      <td>세원정공</td>\n",
       "    </tr>\n",
       "    <tr>\n",
       "      <th>14</th>\n",
       "      <td>A097950</td>\n",
       "      <td>7</td>\n",
       "      <td>CJ제일제당</td>\n",
       "    </tr>\n",
       "    <tr>\n",
       "      <th>15</th>\n",
       "      <td>A039130</td>\n",
       "      <td>6</td>\n",
       "      <td>하나투어</td>\n",
       "    </tr>\n",
       "    <tr>\n",
       "      <th>16</th>\n",
       "      <td>A214390</td>\n",
       "      <td>4</td>\n",
       "      <td>경보제약</td>\n",
       "    </tr>\n",
       "    <tr>\n",
       "      <th>17</th>\n",
       "      <td>A134790</td>\n",
       "      <td>7</td>\n",
       "      <td>팀스</td>\n",
       "    </tr>\n",
       "    <tr>\n",
       "      <th>18</th>\n",
       "      <td>A024900</td>\n",
       "      <td>1</td>\n",
       "      <td>덕양산업</td>\n",
       "    </tr>\n",
       "    <tr>\n",
       "      <th>19</th>\n",
       "      <td>A004060</td>\n",
       "      <td>2</td>\n",
       "      <td>SG세계물산</td>\n",
       "    </tr>\n",
       "    <tr>\n",
       "      <th>20</th>\n",
       "      <td>A047040</td>\n",
       "      <td>4</td>\n",
       "      <td>대우건설</td>\n",
       "    </tr>\n",
       "    <tr>\n",
       "      <th>21</th>\n",
       "      <td>A020120</td>\n",
       "      <td>3</td>\n",
       "      <td>다우인큐브</td>\n",
       "    </tr>\n",
       "    <tr>\n",
       "      <th>22</th>\n",
       "      <td>A004870</td>\n",
       "      <td>5</td>\n",
       "      <td>티웨이홀딩스</td>\n",
       "    </tr>\n",
       "    <tr>\n",
       "      <th>23</th>\n",
       "      <td>A083360</td>\n",
       "      <td>6</td>\n",
       "      <td>동북아11호선박투자</td>\n",
       "    </tr>\n",
       "    <tr>\n",
       "      <th>24</th>\n",
       "      <td>A012320</td>\n",
       "      <td>7</td>\n",
       "      <td>경동도시가스</td>\n",
       "    </tr>\n",
       "    <tr>\n",
       "      <th>25</th>\n",
       "      <td>A086280</td>\n",
       "      <td>5</td>\n",
       "      <td>현대글로비스</td>\n",
       "    </tr>\n",
       "    <tr>\n",
       "      <th>26</th>\n",
       "      <td>A004910</td>\n",
       "      <td>8</td>\n",
       "      <td>조광페인트</td>\n",
       "    </tr>\n",
       "    <tr>\n",
       "      <th>27</th>\n",
       "      <td>A002200</td>\n",
       "      <td>5</td>\n",
       "      <td>한국수출포장공업</td>\n",
       "    </tr>\n",
       "    <tr>\n",
       "      <th>28</th>\n",
       "      <td>A003410</td>\n",
       "      <td>6</td>\n",
       "      <td>쌍용양회공업</td>\n",
       "    </tr>\n",
       "    <tr>\n",
       "      <th>29</th>\n",
       "      <td>A213500</td>\n",
       "      <td>4</td>\n",
       "      <td>한솔제지</td>\n",
       "    </tr>\n",
       "    <tr>\n",
       "      <th>...</th>\n",
       "      <td>...</td>\n",
       "      <td>...</td>\n",
       "      <td>...</td>\n",
       "    </tr>\n",
       "    <tr>\n",
       "      <th>654</th>\n",
       "      <td>A010640</td>\n",
       "      <td>5</td>\n",
       "      <td>진양폴리우레탄</td>\n",
       "    </tr>\n",
       "    <tr>\n",
       "      <th>655</th>\n",
       "      <td>A090970</td>\n",
       "      <td>5</td>\n",
       "      <td>코리아01호</td>\n",
       "    </tr>\n",
       "    <tr>\n",
       "      <th>656</th>\n",
       "      <td>A005490</td>\n",
       "      <td>8</td>\n",
       "      <td>포스코</td>\n",
       "    </tr>\n",
       "    <tr>\n",
       "      <th>657</th>\n",
       "      <td>A104700</td>\n",
       "      <td>6</td>\n",
       "      <td>한국철강</td>\n",
       "    </tr>\n",
       "    <tr>\n",
       "      <th>658</th>\n",
       "      <td>A001880</td>\n",
       "      <td>7</td>\n",
       "      <td>삼호</td>\n",
       "    </tr>\n",
       "    <tr>\n",
       "      <th>659</th>\n",
       "      <td>A003850</td>\n",
       "      <td>4</td>\n",
       "      <td>보령제약</td>\n",
       "    </tr>\n",
       "    <tr>\n",
       "      <th>660</th>\n",
       "      <td>A042660</td>\n",
       "      <td>3</td>\n",
       "      <td>대우조선해양</td>\n",
       "    </tr>\n",
       "    <tr>\n",
       "      <th>661</th>\n",
       "      <td>A000520</td>\n",
       "      <td>8</td>\n",
       "      <td>삼일제약</td>\n",
       "    </tr>\n",
       "    <tr>\n",
       "      <th>662</th>\n",
       "      <td>A005930</td>\n",
       "      <td>6</td>\n",
       "      <td>삼성전자</td>\n",
       "    </tr>\n",
       "    <tr>\n",
       "      <th>663</th>\n",
       "      <td>A068290</td>\n",
       "      <td>5</td>\n",
       "      <td>삼성출판사</td>\n",
       "    </tr>\n",
       "    <tr>\n",
       "      <th>664</th>\n",
       "      <td>A089590</td>\n",
       "      <td>4</td>\n",
       "      <td>제주항공</td>\n",
       "    </tr>\n",
       "    <tr>\n",
       "      <th>665</th>\n",
       "      <td>A004800</td>\n",
       "      <td>7</td>\n",
       "      <td>효성</td>\n",
       "    </tr>\n",
       "    <tr>\n",
       "      <th>666</th>\n",
       "      <td>A008700</td>\n",
       "      <td>4</td>\n",
       "      <td>아남전자</td>\n",
       "    </tr>\n",
       "    <tr>\n",
       "      <th>667</th>\n",
       "      <td>A006570</td>\n",
       "      <td>7</td>\n",
       "      <td>대림통상</td>\n",
       "    </tr>\n",
       "    <tr>\n",
       "      <th>668</th>\n",
       "      <td>A128820</td>\n",
       "      <td>4</td>\n",
       "      <td>대성산업</td>\n",
       "    </tr>\n",
       "    <tr>\n",
       "      <th>669</th>\n",
       "      <td>A017390</td>\n",
       "      <td>7</td>\n",
       "      <td>서울도시가스</td>\n",
       "    </tr>\n",
       "    <tr>\n",
       "      <th>670</th>\n",
       "      <td>A014830</td>\n",
       "      <td>6</td>\n",
       "      <td>유니드</td>\n",
       "    </tr>\n",
       "    <tr>\n",
       "      <th>671</th>\n",
       "      <td>A090990</td>\n",
       "      <td>4</td>\n",
       "      <td>코리아03호</td>\n",
       "    </tr>\n",
       "    <tr>\n",
       "      <th>672</th>\n",
       "      <td>A018470</td>\n",
       "      <td>5</td>\n",
       "      <td>조일알미늄</td>\n",
       "    </tr>\n",
       "    <tr>\n",
       "      <th>673</th>\n",
       "      <td>A051900</td>\n",
       "      <td>8</td>\n",
       "      <td>LG생활건강</td>\n",
       "    </tr>\n",
       "    <tr>\n",
       "      <th>674</th>\n",
       "      <td>A007980</td>\n",
       "      <td>3</td>\n",
       "      <td>태평양물산</td>\n",
       "    </tr>\n",
       "    <tr>\n",
       "      <th>675</th>\n",
       "      <td>A051600</td>\n",
       "      <td>4</td>\n",
       "      <td>한전KPS</td>\n",
       "    </tr>\n",
       "    <tr>\n",
       "      <th>676</th>\n",
       "      <td>A004000</td>\n",
       "      <td>5</td>\n",
       "      <td>롯데정밀화학</td>\n",
       "    </tr>\n",
       "    <tr>\n",
       "      <th>677</th>\n",
       "      <td>A012030</td>\n",
       "      <td>5</td>\n",
       "      <td>동부</td>\n",
       "    </tr>\n",
       "    <tr>\n",
       "      <th>678</th>\n",
       "      <td>A004370</td>\n",
       "      <td>7</td>\n",
       "      <td>농심</td>\n",
       "    </tr>\n",
       "    <tr>\n",
       "      <th>679</th>\n",
       "      <td>A008000</td>\n",
       "      <td>7</td>\n",
       "      <td>도레이케미칼</td>\n",
       "    </tr>\n",
       "    <tr>\n",
       "      <th>680</th>\n",
       "      <td>A000700</td>\n",
       "      <td>7</td>\n",
       "      <td>유수홀딩스</td>\n",
       "    </tr>\n",
       "    <tr>\n",
       "      <th>681</th>\n",
       "      <td>A011170</td>\n",
       "      <td>7</td>\n",
       "      <td>롯데케미칼</td>\n",
       "    </tr>\n",
       "    <tr>\n",
       "      <th>682</th>\n",
       "      <td>A015540</td>\n",
       "      <td>3</td>\n",
       "      <td>핫텍</td>\n",
       "    </tr>\n",
       "    <tr>\n",
       "      <th>683</th>\n",
       "      <td>A005440</td>\n",
       "      <td>5</td>\n",
       "      <td>현대그린푸드</td>\n",
       "    </tr>\n",
       "  </tbody>\n",
       "</table>\n",
       "<p>684 rows × 3 columns</p>\n",
       "</div>"
      ],
      "text/plain": [
       "        Code  F_Score        Name\n",
       "0    A136490        7          선진\n",
       "1    A032350        6      롯데관광개발\n",
       "2    A093370        5          후성\n",
       "3    A016800        5         퍼시스\n",
       "4    A020560        6      아시아나항공\n",
       "5    A025620        6         제이준\n",
       "6    A002450        4        삼익악기\n",
       "7    A004130        4       대덕GDS\n",
       "8    A012200        6        계양전기\n",
       "9    A004150        3       한솔홀딩스\n",
       "10   A064350        7        현대로템\n",
       "11   A082740        6        두산엔진\n",
       "12   A090350        7       노루페인트\n",
       "13   A021820        5        세원정공\n",
       "14   A097950        7      CJ제일제당\n",
       "15   A039130        6        하나투어\n",
       "16   A214390        4        경보제약\n",
       "17   A134790        7          팀스\n",
       "18   A024900        1        덕양산업\n",
       "19   A004060        2      SG세계물산\n",
       "20   A047040        4        대우건설\n",
       "21   A020120        3       다우인큐브\n",
       "22   A004870        5      티웨이홀딩스\n",
       "23   A083360        6  동북아11호선박투자\n",
       "24   A012320        7      경동도시가스\n",
       "25   A086280        5      현대글로비스\n",
       "26   A004910        8       조광페인트\n",
       "27   A002200        5    한국수출포장공업\n",
       "28   A003410        6      쌍용양회공업\n",
       "29   A213500        4        한솔제지\n",
       "..       ...      ...         ...\n",
       "654  A010640        5     진양폴리우레탄\n",
       "655  A090970        5      코리아01호\n",
       "656  A005490        8         포스코\n",
       "657  A104700        6        한국철강\n",
       "658  A001880        7          삼호\n",
       "659  A003850        4        보령제약\n",
       "660  A042660        3      대우조선해양\n",
       "661  A000520        8        삼일제약\n",
       "662  A005930        6        삼성전자\n",
       "663  A068290        5       삼성출판사\n",
       "664  A089590        4        제주항공\n",
       "665  A004800        7          효성\n",
       "666  A008700        4        아남전자\n",
       "667  A006570        7        대림통상\n",
       "668  A128820        4        대성산업\n",
       "669  A017390        7      서울도시가스\n",
       "670  A014830        6         유니드\n",
       "671  A090990        4      코리아03호\n",
       "672  A018470        5       조일알미늄\n",
       "673  A051900        8      LG생활건강\n",
       "674  A007980        3       태평양물산\n",
       "675  A051600        4       한전KPS\n",
       "676  A004000        5      롯데정밀화학\n",
       "677  A012030        5          동부\n",
       "678  A004370        7          농심\n",
       "679  A008000        7      도레이케미칼\n",
       "680  A000700        7       유수홀딩스\n",
       "681  A011170        7       롯데케미칼\n",
       "682  A015540        3          핫텍\n",
       "683  A005440        5      현대그린푸드\n",
       "\n",
       "[684 rows x 3 columns]"
      ]
     },
     "execution_count": 134,
     "metadata": {},
     "output_type": "execute_result"
    }
   ],
   "source": [
    "df = pd.DataFrame.from_dict(dict_items) ;df"
   ]
  },
  {
   "cell_type": "code",
   "execution_count": 77,
   "metadata": {},
   "outputs": [],
   "source": [
    "df.to_csv('output.csv')"
   ]
  },
  {
   "cell_type": "code",
   "execution_count": 54,
   "metadata": {
    "collapsed": true
   },
   "outputs": [],
   "source": [
    "        \n",
    "#     EQ_prev =  f15[(f15['종목코드'] == company) & (f15['항목코드'].isin(EQ_items))]['당기'] \n",
    "#     if EQ_prev.size == 0:\n",
    "#         skip = True\n",
    "#         print('EQuity previou year not found')      \n",
    "\n",
    "#     EQ_prev =  f15[(f15['종목코드'] == company) & (f15['항목코드'] == 'dart_ContributedEquity')]['당기'] \n",
    "#     if EQ_prev.size == 0:\n",
    "#         EQ_prev =  f15[(f15['종목코드'] == company) & \\\n",
    "#                        (f15['항목코드'] == 'entity00635134_udf_BS_2011519194248375_EquityAbstract')]['당기']                                                   \n",
    "#         if EQ_prev.size == 0:\n",
    "#             EQ_prev =  f15[(f15['종목코드'] == company) & \\\n",
    "#                        (f15['항목코드'] == 'entity00222532_udf_BS_20121127144511422_EquityAbstract')]['당기']   \n",
    "#             if EQ_prev.size == 0:\n",
    "#                 skip = True\n",
    "#                 print('EQuity previou year not found')                   \n",
    "                \n",
    "#     EQ =  f16[(f16['종목코드'] == company) & (f16['항목코드'] == 'dart_ContributedEquity')]['당기'] \n",
    "#     if EQ.size == 0:\n",
    "#         EQ =  f16[(f16['종목코드'] == company) & \\\n",
    "#                   (f16['항목코드'] == 'entity00635134_udf_BS_2011519194248375_EquityAbstract')]['당기']                                         \n",
    "#         if EQ.size == 0:\n",
    "#             EQ =  f16[(f16['종목코드'] == company) & \\\n",
    "#                   (f16['항목코드'] == 'entity00222532_udf_BS_20121127144511422_EquityAbstract')]['당기'] \n",
    "#             if EQ.size == 0:\n",
    "#                 skip = True\n",
    "#                 print('EQuity not found')    \n",
    "                \n",
    "#     EQ =  f16[(f16['종목코드'] == company) & (f16['항목코드'].isin(EQ_items))]['당기'] \n",
    "#     if EQ.size == 0:\n",
    "#         skip = True\n",
    "#         print('EQuity not found')      \n",
    "     "
   ]
  }
 ],
 "metadata": {
  "kernelspec": {
   "display_name": "Python 3",
   "language": "python",
   "name": "python3"
  },
  "language_info": {
   "codemirror_mode": {
    "name": "ipython",
    "version": 3
   },
   "file_extension": ".py",
   "mimetype": "text/x-python",
   "name": "python",
   "nbconvert_exporter": "python",
   "pygments_lexer": "ipython3",
   "version": "3.6.3"
  }
 },
 "nbformat": 4,
 "nbformat_minor": 2
}
