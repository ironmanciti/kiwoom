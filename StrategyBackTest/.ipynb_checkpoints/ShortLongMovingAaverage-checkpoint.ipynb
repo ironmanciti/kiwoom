{
 "cells": [
  {
   "cell_type": "code",
   "execution_count": 1,
   "metadata": {
    "collapsed": false
   },
   "outputs": [],
   "source": [
    "%load_ext zipline"
   ]
  },
  {
   "cell_type": "code",
   "execution_count": null,
   "metadata": {
    "collapsed": false,
    "scrolled": true
   },
   "outputs": [],
   "source": [
    "%%zipline --start 2010-1-1 --end 2018-1-1 -o dma.pickle\n",
    "\n",
    "from zipline.api import order_target, record, symbol\n",
    "\n",
    "def initialize(context):\n",
    "    context.i = 0\n",
    "    context.asset = symbol('AAPL')\n",
    "\n",
    "def handle_data(context, data):\n",
    "    #skip first 300 days to get full windows\n",
    "    context.i += 1\n",
    "    if context.i < 300:\n",
    "        return\n",
    "    \n",
    "    #compute average\n",
    "    sh_ma = data.history(context.asset, 'price', bar_count=100, frequency='1d').mean()\n",
    "    lg_ma  = data.history(context.asset, 'price', bar_count=300, frequency='1d').mean()\n",
    "    \n",
    "    if sh_ma > lg_ma:\n",
    "        order_target(context.asset, 100)\n",
    "    elif sh_ma > lg_ma:\n",
    "        order_target(context.asset, 0)\n",
    "        \n",
    "    record(AAPL=data.current(context.asset, 'price'),\n",
    "              short_mvag = sh_ma,\n",
    "              long_mvag = lg_ma)"
   ]
  },
  {
   "cell_type": "code",
   "execution_count": null,
   "metadata": {
    "collapsed": false
   },
   "outputs": [],
   "source": [
    "import pandas as pd\n",
    "perf = pd.read_pickle('dma.pickle')"
   ]
  },
  {
   "cell_type": "code",
   "execution_count": null,
   "metadata": {
    "collapsed": false
   },
   "outputs": [],
   "source": [
    "%pylab inline\n",
    "import matplotlib.pyplot as plt\n",
    "\n",
    "fig = plt.figure(figsize=(12,8))\n",
    "ax1 = fig.add_subplot(211)\n",
    "perf.portfolio_value.plot(ax=ax1)\n",
    "ax1.set_ylabel('portfolio value in $')\n",
    "\n",
    "ax2 = fig.add_subplot(212)\n",
    "perf['AAPL'].plot(ax=ax2)\n",
    "perf[['short_mvag', 'long_mvag']].plot(ax=ax2)\n",
    "\n",
    "perf_trans = perf.iloc[[t != [] for t in perf.transactions]]\n",
    "buys = perf_trans.ix[[t[0]['amount'] > 0 for t in perf_trans.transactions]]\n",
    "sells =  perf_trans.ix[[t[0]['amount'] < 0 for t in perf_trans.transactions]]\n",
    "ax2.plot(buys.index, perf.short_mvag.ix[buys.index], '^', markersize=10, color='m')\n",
    "ax2.plot(sells.index, perf.short_mvag.ix[sells.index], 'v', markersize=10, color='k')\n",
    "ax2.set_ylabel('price in $')\n",
    "plt.legend(loc=0)\n",
    "plt.show()"
   ]
  },
  {
   "cell_type": "code",
   "execution_count": null,
   "metadata": {
    "collapsed": true
   },
   "outputs": [],
   "source": []
  },
  {
   "cell_type": "markdown",
   "metadata": {
    "collapsed": true
   },
   "source": [
    "perf = pd.read_pickle('dma.pickle')\n",
    "perf.head()\n",
    "\n",
    "perf_trans = perf.iloc[[t != [] for t in perf.transactions]]\n",
    "\n",
    "pd.DataFrame(perf_trans.transactions).iloc[0][0][0]  \n",
    "{'amount': 100,   \n",
    " 'commission': None,  \n",
    " 'dt': Timestamp('2011-03-14 20:00:00+0000', tz='UTC'),  \n",
    " 'order_id': '41c44a8218304881b444776cd833305d',  \n",
    " 'price': 353.56000000145843,    \n",
    " 'sid': Equity(8 [AAPL])}  "
   ]
  },
  {
   "cell_type": "code",
   "execution_count": null,
   "metadata": {
    "collapsed": true
   },
   "outputs": [],
   "source": []
  }
 ],
 "metadata": {
  "kernelspec": {
   "display_name": "Python 3",
   "language": "python",
   "name": "python3"
  },
  "language_info": {
   "codemirror_mode": {
    "name": "ipython",
    "version": 3
   },
   "file_extension": ".py",
   "mimetype": "text/x-python",
   "name": "python",
   "nbconvert_exporter": "python",
   "pygments_lexer": "ipython3",
   "version": "3.4.5"
  }
 },
 "nbformat": 4,
 "nbformat_minor": 2
}
