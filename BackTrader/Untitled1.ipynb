{
 "cells": [
  {
   "cell_type": "code",
   "execution_count": 7,
   "metadata": {},
   "outputs": [],
   "source": [
    "total_open = 100\n",
    "total_closed = 200\n",
    "total_won = 300\n",
    "total_lost = 400\n",
    "win_streak = 500\n",
    "lost_streak = 600                        \n",
    "pnl_net = round(700, 2)\n",
    "strike_rate = 800 * 100\n",
    "\n",
    "h1 = ['Total Open','Total Close','Total Won','Total Lost']\n",
    "h2 = ['Strike Rate','Win Streak','Losing Streak','PnL Net']\n",
    "r1 = [total_open, total_closed, total_won, total_lost]\n",
    "r2 = [strike_rate, win_streak, lost_streak, pnl_net]\n",
    "\n",
    "header_length = len(h1)\n"
   ]
  },
  {
   "cell_type": "code",
   "execution_count": 10,
   "metadata": {},
   "outputs": [
    {
     "data": {
      "text/plain": [
       "[['Total Open', 'Total Close', 'Total Won', 'Total Lost'],\n",
       " [100, 200, 300, 400],\n",
       " ['Strike Rate', 'Win Streak', 'Losing Streak', 'PnL Net'],\n",
       " [80000, 500, 600, 700]]"
      ]
     },
     "execution_count": 10,
     "metadata": {},
     "output_type": "execute_result"
    }
   ],
   "source": [
    "print_list = [h1, r1, h2, r2]\n",
    "print_list"
   ]
  },
  {
   "cell_type": "code",
   "execution_count": null,
   "metadata": {
    "collapsed": true
   },
   "outputs": [],
   "source": [
    "# if len(h1) > len(h2):\n",
    "# else:\n",
    "    # header_length = len(h2)\n",
    "row_format = \"{:<15}\" * (header_length + 1)\n",
    "print(\"Trade Analysis Results:\")\n",
    "for row in print_list:\n",
    "    print(row_format.format('',*row))"
   ]
  }
 ],
 "metadata": {
  "kernelspec": {
   "display_name": "Python 3",
   "language": "python",
   "name": "python3"
  },
  "language_info": {
   "codemirror_mode": {
    "name": "ipython",
    "version": 3
   },
   "file_extension": ".py",
   "mimetype": "text/x-python",
   "name": "python",
   "nbconvert_exporter": "python",
   "pygments_lexer": "ipython3",
   "version": "3.4.5"
  }
 },
 "nbformat": 4,
 "nbformat_minor": 2
}
