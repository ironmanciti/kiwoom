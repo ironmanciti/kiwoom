{
 "cells": [
  {
   "cell_type": "code",
   "execution_count": 7,
   "metadata": {},
   "outputs": [],
   "source": [
    "import backtrader as bt\n",
    "import backtrader.indicators as btind\n",
    "import datetime\n",
    "import pandas as pd\n",
    "import pickle\n",
    "import math\n",
    "from sklearn.linear_model import LogisticRegression\n",
    "from sklearn.discriminant_analysis import LinearDiscriminantAnalysis as LDA\n",
    "from sklearn.discriminant_analysis import QuadraticDiscriminantAnalysis as QDA\n",
    "from sklearn.ensemble import RandomForestClassifier\n",
    "from sklearn.neighbors import KNeighborsClassifier\n",
    "from sklearn.ensemble import AdaBoostClassifier\n",
    "from sklearn.ensemble import GradientBoostingClassifier\n",
    "import sys\n",
    "sys.path.append('../lib/')\n",
    "from makeKospi200Data import *"
   ]
  },
  {
   "cell_type": "code",
   "execution_count": 8,
   "metadata": {},
   "outputs": [],
   "source": [
    "start_test = '2018-01-01'\n",
    "start_validation = '2018-03-30'\n",
    "end_date = '2018-03-30'\n",
    "code = '201'\n",
    "pickle_path = '..\\\\dataOutput\\\\'"
   ]
  },
  {
   "cell_type": "code",
   "execution_count": 9,
   "metadata": {},
   "outputs": [],
   "source": [
    "with open(pickle_path + 'ADA-2018-04-08-9-13_model_for_backtest.pickle', 'rb') as f:\n",
    "        clf = pickle.load(f)\n",
    "\n",
    "model = clf['model']\n",
    "\n",
    "win_K   = clf['win_K']\n",
    "win_CCI = clf['win_CCI']\n",
    "win_R   = clf['win_R']\n",
    "lag      = clf['lag']\n",
    "RSI_span = clf['RSI_span']\n",
    "win_ma   = clf['win_ma']\n",
    "method   = clf['method']"
   ]
  },
  {
   "cell_type": "code",
   "execution_count": 10,
   "metadata": {},
   "outputs": [],
   "source": [
    "X_train, X_test, X_validation, y_train, y_test, y_validation \\\n",
    "    = make_data(end_date, start_test, start_validation, code, win_K, win_CCI, win_R, lag, RSI_span, win_ma)\n",
    "\n",
    "X_test.index = pd.to_datetime(X_test.index)"
   ]
  },
  {
   "cell_type": "code",
   "execution_count": 19,
   "metadata": {},
   "outputs": [
    {
     "data": {
      "text/plain": [
       "date\n",
       "2018-01-02    1.0\n",
       "2018-01-03    1.0\n",
       "2018-01-04   -1.0\n",
       "2018-01-05    1.0\n",
       "2018-01-08    1.0\n",
       "2018-01-09   -1.0\n",
       "2018-01-10   -1.0\n",
       "2018-01-11   -1.0\n",
       "2018-01-12    1.0\n",
       "2018-01-15    1.0\n",
       "2018-01-16    1.0\n",
       "2018-01-17   -1.0\n",
       "2018-01-18   -1.0\n",
       "2018-01-19    1.0\n",
       "2018-01-22   -1.0\n",
       "2018-01-23    1.0\n",
       "2018-01-24   -1.0\n",
       "2018-01-25    1.0\n",
       "2018-01-26    1.0\n",
       "2018-01-29    1.0\n",
       "2018-01-30   -1.0\n",
       "2018-01-31   -1.0\n",
       "2018-02-01   -1.0\n",
       "2018-02-02   -1.0\n",
       "2018-02-05   -1.0\n",
       "2018-02-06   -1.0\n",
       "2018-02-07   -1.0\n",
       "2018-02-08    1.0\n",
       "2018-02-09   -1.0\n",
       "2018-02-12    1.0\n",
       "2018-02-13    1.0\n",
       "2018-02-14    1.0\n",
       "2018-02-19    1.0\n",
       "2018-02-20   -1.0\n",
       "2018-02-21    1.0\n",
       "2018-02-22   -1.0\n",
       "2018-02-23    1.0\n",
       "2018-02-26    1.0\n",
       "2018-02-27   -1.0\n",
       "2018-02-28   -1.0\n",
       "Name: Direction, dtype: float64"
      ]
     },
     "execution_count": 19,
     "metadata": {},
     "output_type": "execute_result"
    }
   ],
   "source": [
    "X_test.head()\n",
    "y_test"
   ]
  },
  {
   "cell_type": "code",
   "execution_count": 12,
   "metadata": {},
   "outputs": [],
   "source": [
    "market_code = '201'\n",
    "fromdate = datetime(2017,1,1)\n",
    "todate   = datetime(2017,6,30)\n",
    "KOSPI200 = pd.read_sql(\"SELECT * from marketcandle where code= {} and date between '{}' \\\n",
    "                        and '{}'\".format(market_code, fromdate, todate), con=engine, index_col=[\"date\"])\n",
    "KOSPI200['openinterest'] = 0\n",
    "KOSPI200.drop(['code'], axis=1,inplace=True);"
   ]
  },
  {
   "cell_type": "code",
   "execution_count": 22,
   "metadata": {},
   "outputs": [
    {
     "data": {
      "text/plain": [
       "array([ 1.,  1., -1.,  1.,  1., -1., -1., -1.,  1.,  1.,  1., -1., -1.,\n",
       "        1., -1.,  1., -1.,  1.,  1.,  1., -1., -1., -1., -1., -1., -1.,\n",
       "       -1.,  1., -1.,  1.,  1.,  1.,  1., -1.,  1., -1.,  1.,  1., -1.,\n",
       "       -1.])"
      ]
     },
     "execution_count": 22,
     "metadata": {},
     "output_type": "execute_result"
    }
   ],
   "source": [
    "pred = model.predict(X_test);pred"
   ]
  },
  {
   "cell_type": "code",
   "execution_count": 18,
   "metadata": {},
   "outputs": [
    {
     "data": {
      "text/plain": [
       "40"
      ]
     },
     "execution_count": 18,
     "metadata": {},
     "output_type": "execute_result"
    }
   ],
   "source": [
    "len(pred)"
   ]
  },
  {
   "cell_type": "code",
   "execution_count": 16,
   "metadata": {},
   "outputs": [],
   "source": [
    "hit_rate = (sum(pred == y_test))/len(pred)"
   ]
  },
  {
   "cell_type": "code",
   "execution_count": 17,
   "metadata": {},
   "outputs": [
    {
     "data": {
      "text/plain": [
       "1.0"
      ]
     },
     "execution_count": 17,
     "metadata": {},
     "output_type": "execute_result"
    }
   ],
   "source": [
    "hit_rate"
   ]
  },
  {
   "cell_type": "code",
   "execution_count": null,
   "metadata": {},
   "outputs": [],
   "source": []
  }
 ],
 "metadata": {
  "kernelspec": {
   "display_name": "Python 3",
   "language": "python",
   "name": "python3"
  },
  "language_info": {
   "codemirror_mode": {
    "name": "ipython",
    "version": 3
   },
   "file_extension": ".py",
   "mimetype": "text/x-python",
   "name": "python",
   "nbconvert_exporter": "python",
   "pygments_lexer": "ipython3",
   "version": "3.6.4"
  }
 },
 "nbformat": 4,
 "nbformat_minor": 2
}
